{
 "cells": [
  {
   "cell_type": "code",
   "execution_count": 1,
   "metadata": {},
   "outputs": [],
   "source": [
    "import pandas as pd\n",
    "import numpy as np"
   ]
  },
  {
   "cell_type": "code",
   "execution_count": 15,
   "metadata": {},
   "outputs": [
    {
     "name": "stderr",
     "output_type": "stream",
     "text": [
      "C:\\Users\\krasa\\AppData\\Local\\Temp\\ipykernel_40752\\3388213879.py:2: ParserWarning: Falling back to the 'python' engine because the 'c' engine does not support regex separators (separators > 1 char and different from '\\s+' are interpreted as regex); you can avoid this warning by specifying engine='python'.\n",
      "  df_ba_rating_rev = pd.read_csv('BeerAdvocate/ratings.txt', comment='text', sep=': ', header=None, names=[\"Attribute\", \"Value\"],index_col=False,nrows=1000)\n",
      "C:\\Users\\krasa\\AppData\\Local\\Temp\\ipykernel_40752\\3388213879.py:17: ParserWarning: Falling back to the 'python' engine because the 'c' engine does not support regex separators (separators > 1 char and different from '\\s+' are interpreted as regex); you can avoid this warning by specifying engine='python'.\n",
      "  df_rb_rating_rev = pd.read_csv('RateBeer/ratings.txt', comment='text', sep=': ', header=None, names=[\"Attribute\", \"Value\"],index_col=False,nrows=1000)\n"
     ]
    }
   ],
   "source": [
    "#preprocessing for beeradvocate\n",
    "df_ba_rating_rev = pd.read_csv('BeerAdvocate/ratings.txt', comment='text', sep=': ', header=None, names=[\"Attribute\", \"Value\"],index_col=False,nrows=1000)\n",
    "\n",
    "index_cool=[]\n",
    "for i in range(len(df_ba_rating_rev)):\n",
    "    for j in range(16):\n",
    "        index_cool.append(i)\n",
    "    i+=1\n",
    "index=index_cool[0:df_ba_rating_rev.shape[0]]\n",
    "df_ba_rating_rev['index']=index\n",
    "\n",
    "df_ba_rating_rev_T = df_ba_rating_rev.pivot(index=\"index\",columns=\"Attribute\", values=\"Value\")\n",
    "\n",
    "df_ba_rating_rev_T.to_csv('BeerAdvocate/ratings_TTBA.csv',index=False)\n",
    "\n",
    "#preprocessing for ratebeer\n",
    "df_rb_rating_rev = pd.read_csv('RateBeer/ratings.txt', comment='text', sep=': ', header=None, names=[\"Attribute\", \"Value\"],index_col=False,nrows=1000)\n",
    "\n",
    "index_cool=[]\n",
    "for ii in range(len(df_rb_rating_rev)):\n",
    "    for jj in range(15):\n",
    "        index_cool.append(ii)\n",
    "    ii+=1\n",
    "index=index_cool[0:df_rb_rating_rev.shape[0]]\n",
    "df_rb_rating_rev['index']=index\n",
    "\n",
    "df_rb_rating_rev_T = df_rb_rating_rev.pivot(index=\"index\",columns=\"Attribute\", values=\"Value\")\n",
    "\n",
    "df_rb_rating_rev_T.to_csv('RateBeer/ratings_TTRB.csv',index=False)"
   ]
  }
 ],
 "metadata": {
  "kernelspec": {
   "display_name": "base",
   "language": "python",
   "name": "python3"
  },
  "language_info": {
   "codemirror_mode": {
    "name": "ipython",
    "version": 3
   },
   "file_extension": ".py",
   "mimetype": "text/x-python",
   "name": "python",
   "nbconvert_exporter": "python",
   "pygments_lexer": "ipython3",
   "version": "3.11.4"
  }
 },
 "nbformat": 4,
 "nbformat_minor": 2
}
