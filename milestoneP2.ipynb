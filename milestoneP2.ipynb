{
 "cells": [
  {
   "cell_type": "code",
   "execution_count": 1,
   "metadata": {},
   "outputs": [],
   "source": [
    "import pandas as pd\n",
    "import numpy as np \n",
    "import matplotlib.pyplot as plt\n",
    "import seaborn as sns\n",
    "import plotly.express as px\n",
    "import requests\n",
    "from bs4 import BeautifulSoup\n",
    "\n",
    "%matplotlib inline"
   ]
  },
  {
   "cell_type": "markdown",
   "metadata": {},
   "source": [
    "### Importing the datasets "
   ]
  },
  {
   "cell_type": "code",
   "execution_count": 2,
   "metadata": {},
   "outputs": [],
   "source": [
    "#RateBeer and Beer Advocate matched website data :\n",
    "\n",
    "df_beer = pd.read_csv(\"matched_beer_data/beers.csv\", header=1)\n",
    "df_breweries  = pd.read_csv(\"matched_beer_data/breweries.csv\", header=1)\n",
    "df_users = pd.read_csv(\"matched_beer_data/users.csv\", header=1)\n",
    "df_rating = pd.read_csv(\"matched_beer_data/ratings.csv\", header=1)\n",
    "df_users_approx = pd.read_csv(\"matched_beer_data/users_approx.csv\", header=1)\n",
    "\n",
    "#Display all columns\n",
    "pd.set_option('display.max_columns', None)\n",
    "plt.style.use('ggplot')\n"
   ]
  },
  {
   "cell_type": "markdown",
   "metadata": {},
   "source": [
    "### Data preprocessing:"
   ]
  },
  {
   "cell_type": "markdown",
   "metadata": {},
   "source": [
    "**IMPORTING NEW DATASET ABOUT THE LOCATIONS'SUPERFICIES AND CLEANING THEM**"
   ]
  },
  {
   "cell_type": "code",
   "execution_count": 3,
   "metadata": {},
   "outputs": [
    {
     "name": "stderr",
     "output_type": "stream",
     "text": [
      "C:\\Users\\nicol\\AppData\\Local\\Temp\\ipykernel_18448\\3756883540.py:9: FutureWarning: Passing literal html to 'read_html' is deprecated and will be removed in a future version. To read from a literal string, wrap it in a 'StringIO' object.\n",
      "  df_superficies_us = pd.read_html(str(superficies_list_us), header=1)[0]\n"
     ]
    },
    {
     "data": {
      "text/plain": [
       "Index(['State', 'Rank', 'sq mi', 'km2', 'Rank.1', 'sq mi.1', 'km2.1', '% land',\n",
       "       'Rank.2', 'sq mi.2', 'km2.2', '% water'],\n",
       "      dtype='object')"
      ]
     },
     "metadata": {},
     "output_type": "display_data"
    },
    {
     "name": "stderr",
     "output_type": "stream",
     "text": [
      "C:\\Users\\nicol\\AppData\\Local\\Temp\\ipykernel_18448\\3756883540.py:30: FutureWarning: Passing literal html to 'read_html' is deprecated and will be removed in a future version. To read from a literal string, wrap it in a 'StringIO' object.\n",
      "  df_superficies = pd.read_html(str(superficies_list))[0]\n"
     ]
    },
    {
     "data": {
      "text/plain": [
       "Index(['Unnamed: 0', 'Country / dependency', 'Total in km2 (mi2)',\n",
       "       'Land in km2 (mi2)', 'Water in km2 (mi2)', '% water', 'Unnamed: 6'],\n",
       "      dtype='object')"
      ]
     },
     "metadata": {},
     "output_type": "display_data"
    },
    {
     "name": "stdout",
     "output_type": "stream",
     "text": [
      "(323, 2)\n",
      "(327, 2)\n"
     ]
    }
   ],
   "source": [
    "#wikipedia dataset for states (US) superficies\n",
    "wiki_url_4usa = 'https://en.wikipedia.org/wiki/List_of_U.S._states_and_territories_by_area'\n",
    "#Get the html of the pages\n",
    "response_us = requests.get(wiki_url_4usa)\n",
    "soup_us = BeautifulSoup(response_us.text,'lxml')\n",
    "\n",
    "#Find the useful table from in the html and convert it into pandas df \n",
    "superficies_list_us = soup_us.find('table', attrs={'class':\"wikitable\"})\n",
    "df_superficies_us = pd.read_html(str(superficies_list_us), header=1)[0]\n",
    "display(df_superficies_us.columns)\n",
    "\n",
    "#Clean the datafram\n",
    "df_superficies_us = df_superficies_us[['State', 'km2']] #Keep only the columns we need\n",
    "df_superficies_us['State'] = 'United States, ' + df_superficies_us['State'] #add the country name to be consistent with the other dataset\n",
    "df_superficies_us = df_superficies_us.rename(columns={'State': 'location'}) #rename the column\n",
    "df_superficies_us = df_superficies_us[:-3] #remove the last 3 rows (not states)\n",
    "df_superficies_us['km2'] = df_superficies_us['km2'].astype(float) #convert the km2 column to int\n",
    "\n",
    "#_______________________________________________________________________________________________________________________\n",
    "\n",
    "#wikipedia dataset for country superficies\n",
    "wiki_url = 'https://en.wikipedia.org/wiki/List_of_countries_and_dependencies_by_area'\n",
    "\n",
    "#Get the html of the pages\n",
    "response = requests.get(wiki_url)\n",
    "soup = BeautifulSoup(response.text,'lxml')\n",
    "\n",
    "#Find the useful table from in the html and convert it into pandas df \n",
    "superficies_list = soup.find('table',attrs={'class':\"wikitable\"})\n",
    "df_superficies = pd.read_html(str(superficies_list))[0]\n",
    "display(df_superficies.columns)\n",
    "\n",
    "\n",
    "#Keep only the columns we need and clean them\n",
    "df_superficies = df_superficies[['Country / dependency', 'Total in km2 (mi2)']]\n",
    "df_superficies.rename(columns={'Country / dependency':'location', 'Total in km2 (mi2)':'km2'}, inplace=True) #rename the columns\n",
    "df_superficies['km2'] = df_superficies['km2'].str.replace(',', '') #remove the comma\n",
    "df_superficies['km2'] = df_superficies['km2'].str.split(' ').str[0]  #remove the text in parenthesis (mi2)\n",
    "df_superficies['location'] = df_superficies['location'].str.replace(r'\\s*\\([^)]*\\)', '', regex=True)  #Remove all parenthesis and text inside in the location (ex : remove (China) in 'Hong Kong (China)')\n",
    "df_superficies['km2'] = df_superficies['km2'].astype(float) #convert the km2 column to int\n",
    "\n",
    "#Change the name of the countries to be consistent with the other dataset\n",
    "df_superficies.location = df_superficies.location.replace({'Slovakia' : 'Slovak Republic', 'North Macedonia' : 'Macedonia', 'Trinidad and Tobago' : 'Trinidad & Tobago'})\n",
    "\n",
    "#________________________________________________________________\n",
    "\n",
    "#Dataset for UK coutries superficies to be consistent with the other dataset (breweries and beers)\n",
    "df_superficies_uk = pd.DataFrame({'location': ['England', 'Scotland', 'Wales', 'Northern Ireland'], \n",
    "                                  'km2': [130279, 78772, 20779, 14130]}) #create the dataframe (small so easy to do it manually)\n",
    "\n",
    "#_______________________________________________________________________________________________________________________\n",
    "\n",
    "#Concatenate the two first dataframe \n",
    "df_superficies_temp = pd.concat([df_superficies, df_superficies_us]) #concatenate the two dataframe\n",
    "print(np.shape(df_superficies_temp))\n",
    "\n",
    "#Merging the dataframes with the UK dataframe\n",
    "df_superficies_tot = pd.concat([df_superficies_temp, df_superficies_uk])\n",
    "print(np.shape(df_superficies_tot))"
   ]
  },
  {
   "cell_type": "markdown",
   "metadata": {},
   "source": [
    "**MERGING, CLEANING AND VISUALIZE THE MATCHED DATASETS (BEERS AND BREWERIES)**"
   ]
  },
  {
   "cell_type": "code",
   "execution_count": 4,
   "metadata": {},
   "outputs": [],
   "source": [
    "#Merge the two dataframes on the brewery_id column with respect to the beers to have access to the location of every beer\n",
    "df_beer_breweries = pd.merge(df_beer, df_breweries, left_on='brewery_id', right_on='id', how='left')\n",
    "\n",
    "#Clean the dataframe by dropping the columns that are not useful for the analysis\n",
    "df_beer_breweries_clean = df_beer_breweries.drop(['beer_wout_brewery_name', 'beer_wout_brewery_name.1', 'style','abv.1', 'id', 'id.1', 'name', 'name.1', 'beer_name.1', 'brewery_name.1', 'location.1', 'nbr_beers.1'], axis=1)\n",
    "\n",
    "\n",
    "#Choose to keep style from RateBeer and drop the style from Beer Advocate (the style from Beer Advocate is too precise)\n",
    "df_beer_breweries_clean.rename(columns={'style.1':'style'}, inplace=True)\n",
    "\n",
    "#In the data set, the features with .1 at the end are the ones from Beer Advocate and the ones without .1 are the ones from RateBeer"
   ]
  },
  {
   "cell_type": "code",
   "execution_count": 5,
   "metadata": {},
   "outputs": [
    {
     "data": {
      "text/html": [
       "<div>\n",
       "<style scoped>\n",
       "    .dataframe tbody tr th:only-of-type {\n",
       "        vertical-align: middle;\n",
       "    }\n",
       "\n",
       "    .dataframe tbody tr th {\n",
       "        vertical-align: top;\n",
       "    }\n",
       "\n",
       "    .dataframe thead th {\n",
       "        text-align: right;\n",
       "    }\n",
       "</style>\n",
       "<table border=\"1\" class=\"dataframe\">\n",
       "  <thead>\n",
       "    <tr style=\"text-align: right;\">\n",
       "      <th></th>\n",
       "      <th>location</th>\n",
       "      <th>avg</th>\n",
       "      <th>count</th>\n",
       "    </tr>\n",
       "  </thead>\n",
       "  <tbody>\n",
       "    <tr>\n",
       "      <th>54</th>\n",
       "      <td>Ivory Coast</td>\n",
       "      <td>4.440000</td>\n",
       "      <td>1.0</td>\n",
       "    </tr>\n",
       "    <tr>\n",
       "      <th>14</th>\n",
       "      <td>Cameroon</td>\n",
       "      <td>4.280000</td>\n",
       "      <td>1.0</td>\n",
       "    </tr>\n",
       "    <tr>\n",
       "      <th>161</th>\n",
       "      <td>Uruguay</td>\n",
       "      <td>4.080000</td>\n",
       "      <td>1.0</td>\n",
       "    </tr>\n",
       "    <tr>\n",
       "      <th>42</th>\n",
       "      <td>Grenada</td>\n",
       "      <td>4.000000</td>\n",
       "      <td>2.0</td>\n",
       "    </tr>\n",
       "    <tr>\n",
       "      <th>129</th>\n",
       "      <td>ME</td>\n",
       "      <td>3.943314</td>\n",
       "      <td>NaN</td>\n",
       "    </tr>\n",
       "    <tr>\n",
       "      <th>...</th>\n",
       "      <td>...</td>\n",
       "      <td>...</td>\n",
       "      <td>...</td>\n",
       "    </tr>\n",
       "    <tr>\n",
       "      <th>64</th>\n",
       "      <td>Malawi</td>\n",
       "      <td>2.090000</td>\n",
       "      <td>3.0</td>\n",
       "    </tr>\n",
       "    <tr>\n",
       "      <th>29</th>\n",
       "      <td>Egypt</td>\n",
       "      <td>2.020000</td>\n",
       "      <td>4.0</td>\n",
       "    </tr>\n",
       "    <tr>\n",
       "      <th>0</th>\n",
       "      <td>Albania</td>\n",
       "      <td>1.830000</td>\n",
       "      <td>1.0</td>\n",
       "    </tr>\n",
       "    <tr>\n",
       "      <th>59</th>\n",
       "      <td>Lebanon</td>\n",
       "      <td>1.670000</td>\n",
       "      <td>2.0</td>\n",
       "    </tr>\n",
       "    <tr>\n",
       "      <th>7</th>\n",
       "      <td>Belarus</td>\n",
       "      <td>1.570000</td>\n",
       "      <td>1.0</td>\n",
       "    </tr>\n",
       "  </tbody>\n",
       "</table>\n",
       "<p>165 rows × 3 columns</p>\n",
       "</div>"
      ],
      "text/plain": [
       "        location       avg  count\n",
       "54   Ivory Coast  4.440000    1.0\n",
       "14      Cameroon  4.280000    1.0\n",
       "161      Uruguay  4.080000    1.0\n",
       "42       Grenada  4.000000    2.0\n",
       "129           ME  3.943314    NaN\n",
       "..           ...       ...    ...\n",
       "64        Malawi  2.090000    3.0\n",
       "29         Egypt  2.020000    4.0\n",
       "0        Albania  1.830000    1.0\n",
       "59       Lebanon  1.670000    2.0\n",
       "7        Belarus  1.570000    1.0\n",
       "\n",
       "[165 rows x 3 columns]"
      ]
     },
     "metadata": {},
     "output_type": "display_data"
    }
   ],
   "source": [
    "#Visualization of the dataframe computed above\n",
    "\n",
    "tmp = df_beer_breweries_clean.groupby('location').size().reset_index(name='count')\n",
    "new = df_beer_breweries_clean.groupby('location').avg.mean().reset_index().dropna()\n",
    "\n",
    "# To fit the state names, we need to rename some of them by removing the country name\n",
    "new.location = new.location.str.replace('United States, ', '')\n",
    "\n",
    "#add the count column to the new df\n",
    "new = pd.merge(new, tmp, on='location', how='left')\n",
    "#new = new[new['count'] > 5]\n",
    "\n",
    "#plotly doesn't recognise mauritius so we drop it and we need to add the correct names for the UK countries\n",
    "new = new[new['location'] != 'Mauritius']\n",
    "new.location = new.location.replace({'England': 'GB-ENG', 'Scotland': 'GB-SCT', 'Wales': 'GB-WLS', 'Northern Ireland': 'GB-NIR'})\n",
    "\n",
    "\n",
    "# Replace full state names with abbreviations\n",
    "state_abbreviations = {\n",
    "    'Alabama': 'AL', 'Alaska': 'AK', 'Arizona': 'AZ', 'Arkansas': 'AR', 'California': 'CA', 'Colorado': 'CO',\n",
    "    'Connecticut': 'CT', 'Delaware': 'DE', 'Florida': 'FL', 'Georgia': 'GA', 'Hawaii': 'HI', 'Idaho': 'ID',\n",
    "    'Illinois': 'IL', 'Indiana': 'IN', 'Iowa': 'IA', 'Kansas': 'KS', 'Kentucky': 'KY', 'Louisiana': 'LA',\n",
    "    'Maine': 'ME', 'Maryland': 'MD', 'Massachusetts': 'MA', 'Michigan': 'MI', 'Minnesota': 'MN', 'Mississippi': 'MS',\n",
    "    'Missouri': 'MO', 'Montana': 'MT', 'Nebraska': 'NE', 'Nevada': 'NV', 'New Hampshire': 'NH', 'New Jersey': 'NJ',\n",
    "    'New Mexico': 'NM', 'New York': 'NY', 'North Carolina': 'NC', 'North Dakota': 'ND', 'Ohio': 'OH', 'Oklahoma': 'OK',\n",
    "    'Oregon': 'OR', 'Pennsylvania': 'PA', 'Rhode Island': 'RI', 'South Carolina': 'SC', 'South Dakota': 'SD',\n",
    "    'Tennessee': 'TN', 'Texas': 'TX', 'Utah': 'UT', 'Vermont': 'VT', 'Virginia': 'VA', 'Washington': 'WA',\n",
    "    'West Virginia': 'WV', 'Wisconsin': 'WI', 'Wyoming': 'WY'\n",
    "    }\n",
    "new['location'] = new['location'].map(state_abbreviations).fillna(new['location'])\n",
    "\n",
    "#sort new df by avg\n",
    "new = new.sort_values(by=['avg'], ascending=False)\n",
    "\n",
    "display(new)"
   ]
  },
  {
   "cell_type": "code",
   "execution_count": 6,
   "metadata": {},
   "outputs": [
    {
     "data": {
      "application/vnd.plotly.v1+json": {
       "config": {
        "plotlyServerURL": "https://plot.ly"
       },
       "data": [
        {
         "coloraxis": "coloraxis",
         "geo": "geo",
         "hovertemplate": "<b>%{hovertext}</b><br><br>location=%{location}<br>avg=%{z}<extra></extra>",
         "hovertext": [
          "Ivory Coast",
          "Cameroon",
          "Uruguay",
          "Grenada",
          "ME",
          "Ireland",
          "VT",
          "NY",
          "Iceland",
          "SC",
          "NE",
          "IA",
          "GA",
          "Cyprus",
          "NJ",
          "CA",
          "CT",
          "NC",
          "IL",
          "OH",
          "ND",
          "Cook Islands",
          "MA",
          "IN",
          "VA",
          "FL",
          "Costa Rica",
          "AK",
          "RI",
          "LA",
          "WV",
          "KY",
          "Estonia",
          "China",
          "AL",
          "OR",
          "Latvia",
          "MN",
          "SD",
          "MO",
          "WY",
          "TN",
          "CO",
          "TX",
          "PA",
          "MI",
          "Czech Republic",
          "Panama",
          "KS",
          "Portugal",
          "AZ",
          "WA",
          "Russia",
          "NH",
          "AR",
          "NM",
          "Jersey",
          "OK",
          "HI",
          "MD",
          "MT",
          "Togo",
          "Rwanda",
          "Singapore",
          "Belgium",
          "MS",
          "GB-ENG",
          "Switzerland",
          "Canada",
          "Denmark",
          "Croatia",
          "DE",
          "NV",
          "WI",
          "GB-NIR",
          "South Korea",
          "Colombia",
          "GB-WLS",
          "Mongolia",
          "Argentina",
          "Poland",
          "GB-SCT",
          "New Zealand",
          "Chile",
          "Malta",
          "Israel",
          "UT",
          "ID",
          "Austria",
          "Norway",
          "Mexico",
          "Luxembourg",
          "Netherlands",
          "Romania",
          "Philippines",
          "Brazil",
          "Faroe Islands",
          "Germany",
          "Slovak Republic",
          "Ecuador",
          "Vanuatu",
          "Angola",
          "France",
          "Finland",
          "Moldova",
          "Italy",
          "Slovenia",
          "Hong Kong",
          "Australia",
          "Sweden",
          "Isle of Man",
          "South Africa",
          "Ukraine",
          "Serbia",
          "Guatemala",
          "Virgin Islands (U.S.)",
          "Greece",
          "Japan",
          "Cambodia",
          "Peru",
          "Vietnam",
          "Hungary",
          "Lithuania",
          "Saint Lucia",
          "El Salvador",
          "Bhutan",
          "Spain",
          "Taiwan",
          "Liechtenstein",
          "Cayman Islands",
          "Nicaragua",
          "India",
          "Solomon Islands",
          "Nepal",
          "GA",
          "Bulgaria",
          "Laos",
          "Bosnia and Herzegovina",
          "Puerto Rico",
          "Mozambique",
          "Thailand",
          "Bahamas",
          "Uganda",
          "Palestine",
          "Turks and Caicos Islands",
          "French Polynesia",
          "Trinidad & Tobago",
          "Turkey",
          "Eritrea",
          "Indonesia",
          "Myanmar",
          "Guam",
          "Syria",
          "Cape Verde Islands",
          "North Korea",
          "New Caledonia",
          "Macedonia",
          "Algeria",
          "Ghana",
          "Cuba",
          "Malawi",
          "Egypt",
          "Albania",
          "Lebanon",
          "Belarus"
         ],
         "locationmode": "country names",
         "locations": [
          "Ivory Coast",
          "Cameroon",
          "Uruguay",
          "Grenada",
          "ME",
          "Ireland",
          "VT",
          "NY",
          "Iceland",
          "SC",
          "NE",
          "IA",
          "GA",
          "Cyprus",
          "NJ",
          "CA",
          "CT",
          "NC",
          "IL",
          "OH",
          "ND",
          "Cook Islands",
          "MA",
          "IN",
          "VA",
          "FL",
          "Costa Rica",
          "AK",
          "RI",
          "LA",
          "WV",
          "KY",
          "Estonia",
          "China",
          "AL",
          "OR",
          "Latvia",
          "MN",
          "SD",
          "MO",
          "WY",
          "TN",
          "CO",
          "TX",
          "PA",
          "MI",
          "Czech Republic",
          "Panama",
          "KS",
          "Portugal",
          "AZ",
          "WA",
          "Russia",
          "NH",
          "AR",
          "NM",
          "Jersey",
          "OK",
          "HI",
          "MD",
          "MT",
          "Togo",
          "Rwanda",
          "Singapore",
          "Belgium",
          "MS",
          "GB-ENG",
          "Switzerland",
          "Canada",
          "Denmark",
          "Croatia",
          "DE",
          "NV",
          "WI",
          "GB-NIR",
          "South Korea",
          "Colombia",
          "GB-WLS",
          "Mongolia",
          "Argentina",
          "Poland",
          "GB-SCT",
          "New Zealand",
          "Chile",
          "Malta",
          "Israel",
          "UT",
          "ID",
          "Austria",
          "Norway",
          "Mexico",
          "Luxembourg",
          "Netherlands",
          "Romania",
          "Philippines",
          "Brazil",
          "Faroe Islands",
          "Germany",
          "Slovak Republic",
          "Ecuador",
          "Vanuatu",
          "Angola",
          "France",
          "Finland",
          "Moldova",
          "Italy",
          "Slovenia",
          "Hong Kong",
          "Australia",
          "Sweden",
          "Isle of Man",
          "South Africa",
          "Ukraine",
          "Serbia",
          "Guatemala",
          "Virgin Islands (U.S.)",
          "Greece",
          "Japan",
          "Cambodia",
          "Peru",
          "Vietnam",
          "Hungary",
          "Lithuania",
          "Saint Lucia",
          "El Salvador",
          "Bhutan",
          "Spain",
          "Taiwan",
          "Liechtenstein",
          "Cayman Islands",
          "Nicaragua",
          "India",
          "Solomon Islands",
          "Nepal",
          "GA",
          "Bulgaria",
          "Laos",
          "Bosnia and Herzegovina",
          "Puerto Rico",
          "Mozambique",
          "Thailand",
          "Bahamas",
          "Uganda",
          "Palestine",
          "Turks and Caicos Islands",
          "French Polynesia",
          "Trinidad & Tobago",
          "Turkey",
          "Eritrea",
          "Indonesia",
          "Myanmar",
          "Guam",
          "Syria",
          "Cape Verde Islands",
          "North Korea",
          "New Caledonia",
          "Macedonia",
          "Algeria",
          "Ghana",
          "Cuba",
          "Malawi",
          "Egypt",
          "Albania",
          "Lebanon",
          "Belarus"
         ],
         "name": "",
         "type": "choropleth",
         "z": [
          4.44,
          4.28,
          4.08,
          4,
          3.9433137829912024,
          3.9194482758620692,
          3.9097309417040362,
          3.8898481973434538,
          3.886,
          3.8821250000000003,
          3.8816,
          3.8702325581395347,
          3.8663420427553445,
          3.865,
          3.863585237258348,
          3.862992645194015,
          3.8483093525179854,
          3.8321608527131783,
          3.8305984340044743,
          3.829131545338442,
          3.825454545454545,
          3.82,
          3.817174603174603,
          3.8148030018761725,
          3.811936589545844,
          3.8114616193480546,
          3.81,
          3.809505494505495,
          3.8003546099290784,
          3.8,
          3.798125,
          3.7979693486590036,
          3.7977966101694913,
          3.795666666666667,
          3.7926126126126127,
          3.78337556561086,
          3.7811764705882354,
          3.7795875,
          3.773037974683544,
          3.77272,
          3.7686259541984732,
          3.7665748031496062,
          3.7656582840236688,
          3.7639442231075697,
          3.7619573215599704,
          3.755302681992337,
          3.7439999999999998,
          3.7433333333333336,
          3.74125,
          3.7399999999999998,
          3.739950980392157,
          3.7391207729468596,
          3.72792,
          3.724866310160428,
          3.7248275862068962,
          3.7223529411764704,
          3.7,
          3.6977528089887644,
          3.697631578947368,
          3.697361563517915,
          3.690257731958763,
          3.69,
          3.69,
          3.6775,
          3.6762935323383084,
          3.666222222222222,
          3.664496800465387,
          3.6632967032967034,
          3.6521928898275253,
          3.650889423076923,
          3.6481818181818184,
          3.643695652173913,
          3.6429921259842524,
          3.636367521367521,
          3.634137931034483,
          3.622,
          3.6128571428571425,
          3.6071505376344084,
          3.6,
          3.596875,
          3.5945497630331755,
          3.5874458874458877,
          3.587168674698795,
          3.5819047619047617,
          3.581875,
          3.5780000000000003,
          3.5743307086614173,
          3.5724096385542166,
          3.571290322580645,
          3.561047120418848,
          3.5606849315068496,
          3.5520000000000005,
          3.5363551401869158,
          3.5349122807017546,
          3.532962962962963,
          3.5306696428571427,
          3.526666666666667,
          3.5264803804994056,
          3.5107692307692306,
          3.5,
          3.4850000000000003,
          3.48,
          3.476159420289855,
          3.4667272727272724,
          3.441,
          3.4392592592592592,
          3.4388888888888887,
          3.438333333333333,
          3.4302325581395348,
          3.4256857142857142,
          3.42,
          3.4196666666666666,
          3.405,
          3.392,
          3.382857142857143,
          3.38,
          3.368,
          3.3676699029126214,
          3.3614285714285717,
          3.3477777777777775,
          3.340909090909091,
          3.3401923076923077,
          3.3316666666666666,
          3.295,
          3.29,
          3.25,
          3.2494409937888196,
          3.2383333333333333,
          3.2283333333333335,
          3.196,
          3.17,
          3.12,
          3.12,
          3.08,
          3.025,
          3.0233333333333334,
          3.0149999999999997,
          2.9933333333333336,
          2.985,
          2.92,
          2.8966666666666665,
          2.865,
          2.83,
          2.79,
          2.755,
          2.75,
          2.7475,
          2.72625,
          2.7,
          2.68,
          2.66,
          2.54,
          2.52,
          2.495,
          2.49,
          2.4825,
          2.46,
          2.4025,
          2.18,
          2.135,
          2.09,
          2.02,
          1.83,
          1.67,
          1.57
         ]
        }
       ],
       "layout": {
        "coloraxis": {
         "colorbar": {
          "title": {
           "text": "avg"
          }
         },
         "colorscale": [
          [
           0,
           "#0d0887"
          ],
          [
           0.1111111111111111,
           "#46039f"
          ],
          [
           0.2222222222222222,
           "#7201a8"
          ],
          [
           0.3333333333333333,
           "#9c179e"
          ],
          [
           0.4444444444444444,
           "#bd3786"
          ],
          [
           0.5555555555555556,
           "#d8576b"
          ],
          [
           0.6666666666666666,
           "#ed7953"
          ],
          [
           0.7777777777777778,
           "#fb9f3a"
          ],
          [
           0.8888888888888888,
           "#fdca26"
          ],
          [
           1,
           "#f0f921"
          ]
         ]
        },
        "geo": {
         "center": {},
         "domain": {
          "x": [
           0,
           1
          ],
          "y": [
           0,
           1
          ]
         },
         "projection": {
          "type": "orthographic"
         },
         "scope": "world"
        },
        "legend": {
         "tracegroupgap": 0
        },
        "margin": {
         "t": 60
        },
        "template": {
         "data": {
          "bar": [
           {
            "error_x": {
             "color": "#2a3f5f"
            },
            "error_y": {
             "color": "#2a3f5f"
            },
            "marker": {
             "line": {
              "color": "#E5ECF6",
              "width": 0.5
             },
             "pattern": {
              "fillmode": "overlay",
              "size": 10,
              "solidity": 0.2
             }
            },
            "type": "bar"
           }
          ],
          "barpolar": [
           {
            "marker": {
             "line": {
              "color": "#E5ECF6",
              "width": 0.5
             },
             "pattern": {
              "fillmode": "overlay",
              "size": 10,
              "solidity": 0.2
             }
            },
            "type": "barpolar"
           }
          ],
          "carpet": [
           {
            "aaxis": {
             "endlinecolor": "#2a3f5f",
             "gridcolor": "white",
             "linecolor": "white",
             "minorgridcolor": "white",
             "startlinecolor": "#2a3f5f"
            },
            "baxis": {
             "endlinecolor": "#2a3f5f",
             "gridcolor": "white",
             "linecolor": "white",
             "minorgridcolor": "white",
             "startlinecolor": "#2a3f5f"
            },
            "type": "carpet"
           }
          ],
          "choropleth": [
           {
            "colorbar": {
             "outlinewidth": 0,
             "ticks": ""
            },
            "type": "choropleth"
           }
          ],
          "contour": [
           {
            "colorbar": {
             "outlinewidth": 0,
             "ticks": ""
            },
            "colorscale": [
             [
              0,
              "#0d0887"
             ],
             [
              0.1111111111111111,
              "#46039f"
             ],
             [
              0.2222222222222222,
              "#7201a8"
             ],
             [
              0.3333333333333333,
              "#9c179e"
             ],
             [
              0.4444444444444444,
              "#bd3786"
             ],
             [
              0.5555555555555556,
              "#d8576b"
             ],
             [
              0.6666666666666666,
              "#ed7953"
             ],
             [
              0.7777777777777778,
              "#fb9f3a"
             ],
             [
              0.8888888888888888,
              "#fdca26"
             ],
             [
              1,
              "#f0f921"
             ]
            ],
            "type": "contour"
           }
          ],
          "contourcarpet": [
           {
            "colorbar": {
             "outlinewidth": 0,
             "ticks": ""
            },
            "type": "contourcarpet"
           }
          ],
          "heatmap": [
           {
            "colorbar": {
             "outlinewidth": 0,
             "ticks": ""
            },
            "colorscale": [
             [
              0,
              "#0d0887"
             ],
             [
              0.1111111111111111,
              "#46039f"
             ],
             [
              0.2222222222222222,
              "#7201a8"
             ],
             [
              0.3333333333333333,
              "#9c179e"
             ],
             [
              0.4444444444444444,
              "#bd3786"
             ],
             [
              0.5555555555555556,
              "#d8576b"
             ],
             [
              0.6666666666666666,
              "#ed7953"
             ],
             [
              0.7777777777777778,
              "#fb9f3a"
             ],
             [
              0.8888888888888888,
              "#fdca26"
             ],
             [
              1,
              "#f0f921"
             ]
            ],
            "type": "heatmap"
           }
          ],
          "heatmapgl": [
           {
            "colorbar": {
             "outlinewidth": 0,
             "ticks": ""
            },
            "colorscale": [
             [
              0,
              "#0d0887"
             ],
             [
              0.1111111111111111,
              "#46039f"
             ],
             [
              0.2222222222222222,
              "#7201a8"
             ],
             [
              0.3333333333333333,
              "#9c179e"
             ],
             [
              0.4444444444444444,
              "#bd3786"
             ],
             [
              0.5555555555555556,
              "#d8576b"
             ],
             [
              0.6666666666666666,
              "#ed7953"
             ],
             [
              0.7777777777777778,
              "#fb9f3a"
             ],
             [
              0.8888888888888888,
              "#fdca26"
             ],
             [
              1,
              "#f0f921"
             ]
            ],
            "type": "heatmapgl"
           }
          ],
          "histogram": [
           {
            "marker": {
             "pattern": {
              "fillmode": "overlay",
              "size": 10,
              "solidity": 0.2
             }
            },
            "type": "histogram"
           }
          ],
          "histogram2d": [
           {
            "colorbar": {
             "outlinewidth": 0,
             "ticks": ""
            },
            "colorscale": [
             [
              0,
              "#0d0887"
             ],
             [
              0.1111111111111111,
              "#46039f"
             ],
             [
              0.2222222222222222,
              "#7201a8"
             ],
             [
              0.3333333333333333,
              "#9c179e"
             ],
             [
              0.4444444444444444,
              "#bd3786"
             ],
             [
              0.5555555555555556,
              "#d8576b"
             ],
             [
              0.6666666666666666,
              "#ed7953"
             ],
             [
              0.7777777777777778,
              "#fb9f3a"
             ],
             [
              0.8888888888888888,
              "#fdca26"
             ],
             [
              1,
              "#f0f921"
             ]
            ],
            "type": "histogram2d"
           }
          ],
          "histogram2dcontour": [
           {
            "colorbar": {
             "outlinewidth": 0,
             "ticks": ""
            },
            "colorscale": [
             [
              0,
              "#0d0887"
             ],
             [
              0.1111111111111111,
              "#46039f"
             ],
             [
              0.2222222222222222,
              "#7201a8"
             ],
             [
              0.3333333333333333,
              "#9c179e"
             ],
             [
              0.4444444444444444,
              "#bd3786"
             ],
             [
              0.5555555555555556,
              "#d8576b"
             ],
             [
              0.6666666666666666,
              "#ed7953"
             ],
             [
              0.7777777777777778,
              "#fb9f3a"
             ],
             [
              0.8888888888888888,
              "#fdca26"
             ],
             [
              1,
              "#f0f921"
             ]
            ],
            "type": "histogram2dcontour"
           }
          ],
          "mesh3d": [
           {
            "colorbar": {
             "outlinewidth": 0,
             "ticks": ""
            },
            "type": "mesh3d"
           }
          ],
          "parcoords": [
           {
            "line": {
             "colorbar": {
              "outlinewidth": 0,
              "ticks": ""
             }
            },
            "type": "parcoords"
           }
          ],
          "pie": [
           {
            "automargin": true,
            "type": "pie"
           }
          ],
          "scatter": [
           {
            "fillpattern": {
             "fillmode": "overlay",
             "size": 10,
             "solidity": 0.2
            },
            "type": "scatter"
           }
          ],
          "scatter3d": [
           {
            "line": {
             "colorbar": {
              "outlinewidth": 0,
              "ticks": ""
             }
            },
            "marker": {
             "colorbar": {
              "outlinewidth": 0,
              "ticks": ""
             }
            },
            "type": "scatter3d"
           }
          ],
          "scattercarpet": [
           {
            "marker": {
             "colorbar": {
              "outlinewidth": 0,
              "ticks": ""
             }
            },
            "type": "scattercarpet"
           }
          ],
          "scattergeo": [
           {
            "marker": {
             "colorbar": {
              "outlinewidth": 0,
              "ticks": ""
             }
            },
            "type": "scattergeo"
           }
          ],
          "scattergl": [
           {
            "marker": {
             "colorbar": {
              "outlinewidth": 0,
              "ticks": ""
             }
            },
            "type": "scattergl"
           }
          ],
          "scattermapbox": [
           {
            "marker": {
             "colorbar": {
              "outlinewidth": 0,
              "ticks": ""
             }
            },
            "type": "scattermapbox"
           }
          ],
          "scatterpolar": [
           {
            "marker": {
             "colorbar": {
              "outlinewidth": 0,
              "ticks": ""
             }
            },
            "type": "scatterpolar"
           }
          ],
          "scatterpolargl": [
           {
            "marker": {
             "colorbar": {
              "outlinewidth": 0,
              "ticks": ""
             }
            },
            "type": "scatterpolargl"
           }
          ],
          "scatterternary": [
           {
            "marker": {
             "colorbar": {
              "outlinewidth": 0,
              "ticks": ""
             }
            },
            "type": "scatterternary"
           }
          ],
          "surface": [
           {
            "colorbar": {
             "outlinewidth": 0,
             "ticks": ""
            },
            "colorscale": [
             [
              0,
              "#0d0887"
             ],
             [
              0.1111111111111111,
              "#46039f"
             ],
             [
              0.2222222222222222,
              "#7201a8"
             ],
             [
              0.3333333333333333,
              "#9c179e"
             ],
             [
              0.4444444444444444,
              "#bd3786"
             ],
             [
              0.5555555555555556,
              "#d8576b"
             ],
             [
              0.6666666666666666,
              "#ed7953"
             ],
             [
              0.7777777777777778,
              "#fb9f3a"
             ],
             [
              0.8888888888888888,
              "#fdca26"
             ],
             [
              1,
              "#f0f921"
             ]
            ],
            "type": "surface"
           }
          ],
          "table": [
           {
            "cells": {
             "fill": {
              "color": "#EBF0F8"
             },
             "line": {
              "color": "white"
             }
            },
            "header": {
             "fill": {
              "color": "#C8D4E3"
             },
             "line": {
              "color": "white"
             }
            },
            "type": "table"
           }
          ]
         },
         "layout": {
          "annotationdefaults": {
           "arrowcolor": "#2a3f5f",
           "arrowhead": 0,
           "arrowwidth": 1
          },
          "autotypenumbers": "strict",
          "coloraxis": {
           "colorbar": {
            "outlinewidth": 0,
            "ticks": ""
           }
          },
          "colorscale": {
           "diverging": [
            [
             0,
             "#8e0152"
            ],
            [
             0.1,
             "#c51b7d"
            ],
            [
             0.2,
             "#de77ae"
            ],
            [
             0.3,
             "#f1b6da"
            ],
            [
             0.4,
             "#fde0ef"
            ],
            [
             0.5,
             "#f7f7f7"
            ],
            [
             0.6,
             "#e6f5d0"
            ],
            [
             0.7,
             "#b8e186"
            ],
            [
             0.8,
             "#7fbc41"
            ],
            [
             0.9,
             "#4d9221"
            ],
            [
             1,
             "#276419"
            ]
           ],
           "sequential": [
            [
             0,
             "#0d0887"
            ],
            [
             0.1111111111111111,
             "#46039f"
            ],
            [
             0.2222222222222222,
             "#7201a8"
            ],
            [
             0.3333333333333333,
             "#9c179e"
            ],
            [
             0.4444444444444444,
             "#bd3786"
            ],
            [
             0.5555555555555556,
             "#d8576b"
            ],
            [
             0.6666666666666666,
             "#ed7953"
            ],
            [
             0.7777777777777778,
             "#fb9f3a"
            ],
            [
             0.8888888888888888,
             "#fdca26"
            ],
            [
             1,
             "#f0f921"
            ]
           ],
           "sequentialminus": [
            [
             0,
             "#0d0887"
            ],
            [
             0.1111111111111111,
             "#46039f"
            ],
            [
             0.2222222222222222,
             "#7201a8"
            ],
            [
             0.3333333333333333,
             "#9c179e"
            ],
            [
             0.4444444444444444,
             "#bd3786"
            ],
            [
             0.5555555555555556,
             "#d8576b"
            ],
            [
             0.6666666666666666,
             "#ed7953"
            ],
            [
             0.7777777777777778,
             "#fb9f3a"
            ],
            [
             0.8888888888888888,
             "#fdca26"
            ],
            [
             1,
             "#f0f921"
            ]
           ]
          },
          "colorway": [
           "#636efa",
           "#EF553B",
           "#00cc96",
           "#ab63fa",
           "#FFA15A",
           "#19d3f3",
           "#FF6692",
           "#B6E880",
           "#FF97FF",
           "#FECB52"
          ],
          "font": {
           "color": "#2a3f5f"
          },
          "geo": {
           "bgcolor": "white",
           "lakecolor": "white",
           "landcolor": "#E5ECF6",
           "showlakes": true,
           "showland": true,
           "subunitcolor": "white"
          },
          "hoverlabel": {
           "align": "left"
          },
          "hovermode": "closest",
          "mapbox": {
           "style": "light"
          },
          "paper_bgcolor": "white",
          "plot_bgcolor": "#E5ECF6",
          "polar": {
           "angularaxis": {
            "gridcolor": "white",
            "linecolor": "white",
            "ticks": ""
           },
           "bgcolor": "#E5ECF6",
           "radialaxis": {
            "gridcolor": "white",
            "linecolor": "white",
            "ticks": ""
           }
          },
          "scene": {
           "xaxis": {
            "backgroundcolor": "#E5ECF6",
            "gridcolor": "white",
            "gridwidth": 2,
            "linecolor": "white",
            "showbackground": true,
            "ticks": "",
            "zerolinecolor": "white"
           },
           "yaxis": {
            "backgroundcolor": "#E5ECF6",
            "gridcolor": "white",
            "gridwidth": 2,
            "linecolor": "white",
            "showbackground": true,
            "ticks": "",
            "zerolinecolor": "white"
           },
           "zaxis": {
            "backgroundcolor": "#E5ECF6",
            "gridcolor": "white",
            "gridwidth": 2,
            "linecolor": "white",
            "showbackground": true,
            "ticks": "",
            "zerolinecolor": "white"
           }
          },
          "shapedefaults": {
           "line": {
            "color": "#2a3f5f"
           }
          },
          "ternary": {
           "aaxis": {
            "gridcolor": "white",
            "linecolor": "white",
            "ticks": ""
           },
           "baxis": {
            "gridcolor": "white",
            "linecolor": "white",
            "ticks": ""
           },
           "bgcolor": "#E5ECF6",
           "caxis": {
            "gridcolor": "white",
            "linecolor": "white",
            "ticks": ""
           }
          },
          "title": {
           "x": 0.05
          },
          "xaxis": {
           "automargin": true,
           "gridcolor": "white",
           "linecolor": "white",
           "ticks": "",
           "title": {
            "standoff": 15
           },
           "zerolinecolor": "white",
           "zerolinewidth": 2
          },
          "yaxis": {
           "automargin": true,
           "gridcolor": "white",
           "linecolor": "white",
           "ticks": "",
           "title": {
            "standoff": 15
           },
           "zerolinecolor": "white",
           "zerolinewidth": 2
          }
         }
        }
       }
      }
     },
     "metadata": {},
     "output_type": "display_data"
    },
    {
     "data": {
      "application/vnd.plotly.v1+json": {
       "config": {
        "plotlyServerURL": "https://plot.ly"
       },
       "data": [
        {
         "coloraxis": "coloraxis",
         "geo": "geo",
         "hovertemplate": "<b>%{hovertext}</b><br><br>location=%{location}<br>avg=%{z}<extra></extra>",
         "hovertext": [
          "Ivory Coast",
          "Cameroon",
          "Uruguay",
          "Grenada",
          "ME",
          "Ireland",
          "VT",
          "NY",
          "Iceland",
          "SC",
          "NE",
          "IA",
          "GA",
          "Cyprus",
          "NJ",
          "CA",
          "CT",
          "NC",
          "IL",
          "OH",
          "ND",
          "Cook Islands",
          "MA",
          "IN",
          "VA",
          "FL",
          "Costa Rica",
          "AK",
          "RI",
          "LA",
          "WV",
          "KY",
          "Estonia",
          "China",
          "AL",
          "OR",
          "Latvia",
          "MN",
          "SD",
          "MO",
          "WY",
          "TN",
          "CO",
          "TX",
          "PA",
          "MI",
          "Czech Republic",
          "Panama",
          "KS",
          "Portugal",
          "AZ",
          "WA",
          "Russia",
          "NH",
          "AR",
          "NM",
          "Jersey",
          "OK",
          "HI",
          "MD",
          "MT",
          "Togo",
          "Rwanda",
          "Singapore",
          "Belgium",
          "MS",
          "GB-ENG",
          "Switzerland",
          "Canada",
          "Denmark",
          "Croatia",
          "DE",
          "NV",
          "WI",
          "GB-NIR",
          "South Korea",
          "Colombia",
          "GB-WLS",
          "Mongolia",
          "Argentina",
          "Poland",
          "GB-SCT",
          "New Zealand",
          "Chile",
          "Malta",
          "Israel",
          "UT",
          "ID",
          "Austria",
          "Norway",
          "Mexico",
          "Luxembourg",
          "Netherlands",
          "Romania",
          "Philippines",
          "Brazil",
          "Faroe Islands",
          "Germany",
          "Slovak Republic",
          "Ecuador",
          "Vanuatu",
          "Angola",
          "France",
          "Finland",
          "Moldova",
          "Italy",
          "Slovenia",
          "Hong Kong",
          "Australia",
          "Sweden",
          "Isle of Man",
          "South Africa",
          "Ukraine",
          "Serbia",
          "Guatemala",
          "Virgin Islands (U.S.)",
          "Greece",
          "Japan",
          "Cambodia",
          "Peru",
          "Vietnam",
          "Hungary",
          "Lithuania",
          "Saint Lucia",
          "El Salvador",
          "Bhutan",
          "Spain",
          "Taiwan",
          "Liechtenstein",
          "Cayman Islands",
          "Nicaragua",
          "India",
          "Solomon Islands",
          "Nepal",
          "GA",
          "Bulgaria",
          "Laos",
          "Bosnia and Herzegovina",
          "Puerto Rico",
          "Mozambique",
          "Thailand",
          "Bahamas",
          "Uganda",
          "Palestine",
          "Turks and Caicos Islands",
          "French Polynesia",
          "Trinidad & Tobago",
          "Turkey",
          "Eritrea",
          "Indonesia",
          "Myanmar",
          "Guam",
          "Syria",
          "Cape Verde Islands",
          "North Korea",
          "New Caledonia",
          "Macedonia",
          "Algeria",
          "Ghana",
          "Cuba",
          "Malawi",
          "Egypt",
          "Albania",
          "Lebanon",
          "Belarus"
         ],
         "locationmode": "USA-states",
         "locations": [
          "Ivory Coast",
          "Cameroon",
          "Uruguay",
          "Grenada",
          "ME",
          "Ireland",
          "VT",
          "NY",
          "Iceland",
          "SC",
          "NE",
          "IA",
          "GA",
          "Cyprus",
          "NJ",
          "CA",
          "CT",
          "NC",
          "IL",
          "OH",
          "ND",
          "Cook Islands",
          "MA",
          "IN",
          "VA",
          "FL",
          "Costa Rica",
          "AK",
          "RI",
          "LA",
          "WV",
          "KY",
          "Estonia",
          "China",
          "AL",
          "OR",
          "Latvia",
          "MN",
          "SD",
          "MO",
          "WY",
          "TN",
          "CO",
          "TX",
          "PA",
          "MI",
          "Czech Republic",
          "Panama",
          "KS",
          "Portugal",
          "AZ",
          "WA",
          "Russia",
          "NH",
          "AR",
          "NM",
          "Jersey",
          "OK",
          "HI",
          "MD",
          "MT",
          "Togo",
          "Rwanda",
          "Singapore",
          "Belgium",
          "MS",
          "GB-ENG",
          "Switzerland",
          "Canada",
          "Denmark",
          "Croatia",
          "DE",
          "NV",
          "WI",
          "GB-NIR",
          "South Korea",
          "Colombia",
          "GB-WLS",
          "Mongolia",
          "Argentina",
          "Poland",
          "GB-SCT",
          "New Zealand",
          "Chile",
          "Malta",
          "Israel",
          "UT",
          "ID",
          "Austria",
          "Norway",
          "Mexico",
          "Luxembourg",
          "Netherlands",
          "Romania",
          "Philippines",
          "Brazil",
          "Faroe Islands",
          "Germany",
          "Slovak Republic",
          "Ecuador",
          "Vanuatu",
          "Angola",
          "France",
          "Finland",
          "Moldova",
          "Italy",
          "Slovenia",
          "Hong Kong",
          "Australia",
          "Sweden",
          "Isle of Man",
          "South Africa",
          "Ukraine",
          "Serbia",
          "Guatemala",
          "Virgin Islands (U.S.)",
          "Greece",
          "Japan",
          "Cambodia",
          "Peru",
          "Vietnam",
          "Hungary",
          "Lithuania",
          "Saint Lucia",
          "El Salvador",
          "Bhutan",
          "Spain",
          "Taiwan",
          "Liechtenstein",
          "Cayman Islands",
          "Nicaragua",
          "India",
          "Solomon Islands",
          "Nepal",
          "GA",
          "Bulgaria",
          "Laos",
          "Bosnia and Herzegovina",
          "Puerto Rico",
          "Mozambique",
          "Thailand",
          "Bahamas",
          "Uganda",
          "Palestine",
          "Turks and Caicos Islands",
          "French Polynesia",
          "Trinidad & Tobago",
          "Turkey",
          "Eritrea",
          "Indonesia",
          "Myanmar",
          "Guam",
          "Syria",
          "Cape Verde Islands",
          "North Korea",
          "New Caledonia",
          "Macedonia",
          "Algeria",
          "Ghana",
          "Cuba",
          "Malawi",
          "Egypt",
          "Albania",
          "Lebanon",
          "Belarus"
         ],
         "name": "",
         "type": "choropleth",
         "z": [
          4.44,
          4.28,
          4.08,
          4,
          3.9433137829912024,
          3.9194482758620692,
          3.9097309417040362,
          3.8898481973434538,
          3.886,
          3.8821250000000003,
          3.8816,
          3.8702325581395347,
          3.8663420427553445,
          3.865,
          3.863585237258348,
          3.862992645194015,
          3.8483093525179854,
          3.8321608527131783,
          3.8305984340044743,
          3.829131545338442,
          3.825454545454545,
          3.82,
          3.817174603174603,
          3.8148030018761725,
          3.811936589545844,
          3.8114616193480546,
          3.81,
          3.809505494505495,
          3.8003546099290784,
          3.8,
          3.798125,
          3.7979693486590036,
          3.7977966101694913,
          3.795666666666667,
          3.7926126126126127,
          3.78337556561086,
          3.7811764705882354,
          3.7795875,
          3.773037974683544,
          3.77272,
          3.7686259541984732,
          3.7665748031496062,
          3.7656582840236688,
          3.7639442231075697,
          3.7619573215599704,
          3.755302681992337,
          3.7439999999999998,
          3.7433333333333336,
          3.74125,
          3.7399999999999998,
          3.739950980392157,
          3.7391207729468596,
          3.72792,
          3.724866310160428,
          3.7248275862068962,
          3.7223529411764704,
          3.7,
          3.6977528089887644,
          3.697631578947368,
          3.697361563517915,
          3.690257731958763,
          3.69,
          3.69,
          3.6775,
          3.6762935323383084,
          3.666222222222222,
          3.664496800465387,
          3.6632967032967034,
          3.6521928898275253,
          3.650889423076923,
          3.6481818181818184,
          3.643695652173913,
          3.6429921259842524,
          3.636367521367521,
          3.634137931034483,
          3.622,
          3.6128571428571425,
          3.6071505376344084,
          3.6,
          3.596875,
          3.5945497630331755,
          3.5874458874458877,
          3.587168674698795,
          3.5819047619047617,
          3.581875,
          3.5780000000000003,
          3.5743307086614173,
          3.5724096385542166,
          3.571290322580645,
          3.561047120418848,
          3.5606849315068496,
          3.5520000000000005,
          3.5363551401869158,
          3.5349122807017546,
          3.532962962962963,
          3.5306696428571427,
          3.526666666666667,
          3.5264803804994056,
          3.5107692307692306,
          3.5,
          3.4850000000000003,
          3.48,
          3.476159420289855,
          3.4667272727272724,
          3.441,
          3.4392592592592592,
          3.4388888888888887,
          3.438333333333333,
          3.4302325581395348,
          3.4256857142857142,
          3.42,
          3.4196666666666666,
          3.405,
          3.392,
          3.382857142857143,
          3.38,
          3.368,
          3.3676699029126214,
          3.3614285714285717,
          3.3477777777777775,
          3.340909090909091,
          3.3401923076923077,
          3.3316666666666666,
          3.295,
          3.29,
          3.25,
          3.2494409937888196,
          3.2383333333333333,
          3.2283333333333335,
          3.196,
          3.17,
          3.12,
          3.12,
          3.08,
          3.025,
          3.0233333333333334,
          3.0149999999999997,
          2.9933333333333336,
          2.985,
          2.92,
          2.8966666666666665,
          2.865,
          2.83,
          2.79,
          2.755,
          2.75,
          2.7475,
          2.72625,
          2.7,
          2.68,
          2.66,
          2.54,
          2.52,
          2.495,
          2.49,
          2.4825,
          2.46,
          2.4025,
          2.18,
          2.135,
          2.09,
          2.02,
          1.83,
          1.67,
          1.57
         ]
        }
       ],
       "layout": {
        "coloraxis": {
         "colorbar": {
          "title": {
           "text": "avg"
          }
         },
         "colorscale": [
          [
           0,
           "#0d0887"
          ],
          [
           0.1111111111111111,
           "#46039f"
          ],
          [
           0.2222222222222222,
           "#7201a8"
          ],
          [
           0.3333333333333333,
           "#9c179e"
          ],
          [
           0.4444444444444444,
           "#bd3786"
          ],
          [
           0.5555555555555556,
           "#d8576b"
          ],
          [
           0.6666666666666666,
           "#ed7953"
          ],
          [
           0.7777777777777778,
           "#fb9f3a"
          ],
          [
           0.8888888888888888,
           "#fdca26"
          ],
          [
           1,
           "#f0f921"
          ]
         ]
        },
        "geo": {
         "center": {},
         "domain": {
          "x": [
           0,
           1
          ],
          "y": [
           0,
           1
          ]
         },
         "scope": "usa"
        },
        "legend": {
         "tracegroupgap": 0
        },
        "margin": {
         "t": 60
        },
        "template": {
         "data": {
          "bar": [
           {
            "error_x": {
             "color": "#2a3f5f"
            },
            "error_y": {
             "color": "#2a3f5f"
            },
            "marker": {
             "line": {
              "color": "#E5ECF6",
              "width": 0.5
             },
             "pattern": {
              "fillmode": "overlay",
              "size": 10,
              "solidity": 0.2
             }
            },
            "type": "bar"
           }
          ],
          "barpolar": [
           {
            "marker": {
             "line": {
              "color": "#E5ECF6",
              "width": 0.5
             },
             "pattern": {
              "fillmode": "overlay",
              "size": 10,
              "solidity": 0.2
             }
            },
            "type": "barpolar"
           }
          ],
          "carpet": [
           {
            "aaxis": {
             "endlinecolor": "#2a3f5f",
             "gridcolor": "white",
             "linecolor": "white",
             "minorgridcolor": "white",
             "startlinecolor": "#2a3f5f"
            },
            "baxis": {
             "endlinecolor": "#2a3f5f",
             "gridcolor": "white",
             "linecolor": "white",
             "minorgridcolor": "white",
             "startlinecolor": "#2a3f5f"
            },
            "type": "carpet"
           }
          ],
          "choropleth": [
           {
            "colorbar": {
             "outlinewidth": 0,
             "ticks": ""
            },
            "type": "choropleth"
           }
          ],
          "contour": [
           {
            "colorbar": {
             "outlinewidth": 0,
             "ticks": ""
            },
            "colorscale": [
             [
              0,
              "#0d0887"
             ],
             [
              0.1111111111111111,
              "#46039f"
             ],
             [
              0.2222222222222222,
              "#7201a8"
             ],
             [
              0.3333333333333333,
              "#9c179e"
             ],
             [
              0.4444444444444444,
              "#bd3786"
             ],
             [
              0.5555555555555556,
              "#d8576b"
             ],
             [
              0.6666666666666666,
              "#ed7953"
             ],
             [
              0.7777777777777778,
              "#fb9f3a"
             ],
             [
              0.8888888888888888,
              "#fdca26"
             ],
             [
              1,
              "#f0f921"
             ]
            ],
            "type": "contour"
           }
          ],
          "contourcarpet": [
           {
            "colorbar": {
             "outlinewidth": 0,
             "ticks": ""
            },
            "type": "contourcarpet"
           }
          ],
          "heatmap": [
           {
            "colorbar": {
             "outlinewidth": 0,
             "ticks": ""
            },
            "colorscale": [
             [
              0,
              "#0d0887"
             ],
             [
              0.1111111111111111,
              "#46039f"
             ],
             [
              0.2222222222222222,
              "#7201a8"
             ],
             [
              0.3333333333333333,
              "#9c179e"
             ],
             [
              0.4444444444444444,
              "#bd3786"
             ],
             [
              0.5555555555555556,
              "#d8576b"
             ],
             [
              0.6666666666666666,
              "#ed7953"
             ],
             [
              0.7777777777777778,
              "#fb9f3a"
             ],
             [
              0.8888888888888888,
              "#fdca26"
             ],
             [
              1,
              "#f0f921"
             ]
            ],
            "type": "heatmap"
           }
          ],
          "heatmapgl": [
           {
            "colorbar": {
             "outlinewidth": 0,
             "ticks": ""
            },
            "colorscale": [
             [
              0,
              "#0d0887"
             ],
             [
              0.1111111111111111,
              "#46039f"
             ],
             [
              0.2222222222222222,
              "#7201a8"
             ],
             [
              0.3333333333333333,
              "#9c179e"
             ],
             [
              0.4444444444444444,
              "#bd3786"
             ],
             [
              0.5555555555555556,
              "#d8576b"
             ],
             [
              0.6666666666666666,
              "#ed7953"
             ],
             [
              0.7777777777777778,
              "#fb9f3a"
             ],
             [
              0.8888888888888888,
              "#fdca26"
             ],
             [
              1,
              "#f0f921"
             ]
            ],
            "type": "heatmapgl"
           }
          ],
          "histogram": [
           {
            "marker": {
             "pattern": {
              "fillmode": "overlay",
              "size": 10,
              "solidity": 0.2
             }
            },
            "type": "histogram"
           }
          ],
          "histogram2d": [
           {
            "colorbar": {
             "outlinewidth": 0,
             "ticks": ""
            },
            "colorscale": [
             [
              0,
              "#0d0887"
             ],
             [
              0.1111111111111111,
              "#46039f"
             ],
             [
              0.2222222222222222,
              "#7201a8"
             ],
             [
              0.3333333333333333,
              "#9c179e"
             ],
             [
              0.4444444444444444,
              "#bd3786"
             ],
             [
              0.5555555555555556,
              "#d8576b"
             ],
             [
              0.6666666666666666,
              "#ed7953"
             ],
             [
              0.7777777777777778,
              "#fb9f3a"
             ],
             [
              0.8888888888888888,
              "#fdca26"
             ],
             [
              1,
              "#f0f921"
             ]
            ],
            "type": "histogram2d"
           }
          ],
          "histogram2dcontour": [
           {
            "colorbar": {
             "outlinewidth": 0,
             "ticks": ""
            },
            "colorscale": [
             [
              0,
              "#0d0887"
             ],
             [
              0.1111111111111111,
              "#46039f"
             ],
             [
              0.2222222222222222,
              "#7201a8"
             ],
             [
              0.3333333333333333,
              "#9c179e"
             ],
             [
              0.4444444444444444,
              "#bd3786"
             ],
             [
              0.5555555555555556,
              "#d8576b"
             ],
             [
              0.6666666666666666,
              "#ed7953"
             ],
             [
              0.7777777777777778,
              "#fb9f3a"
             ],
             [
              0.8888888888888888,
              "#fdca26"
             ],
             [
              1,
              "#f0f921"
             ]
            ],
            "type": "histogram2dcontour"
           }
          ],
          "mesh3d": [
           {
            "colorbar": {
             "outlinewidth": 0,
             "ticks": ""
            },
            "type": "mesh3d"
           }
          ],
          "parcoords": [
           {
            "line": {
             "colorbar": {
              "outlinewidth": 0,
              "ticks": ""
             }
            },
            "type": "parcoords"
           }
          ],
          "pie": [
           {
            "automargin": true,
            "type": "pie"
           }
          ],
          "scatter": [
           {
            "fillpattern": {
             "fillmode": "overlay",
             "size": 10,
             "solidity": 0.2
            },
            "type": "scatter"
           }
          ],
          "scatter3d": [
           {
            "line": {
             "colorbar": {
              "outlinewidth": 0,
              "ticks": ""
             }
            },
            "marker": {
             "colorbar": {
              "outlinewidth": 0,
              "ticks": ""
             }
            },
            "type": "scatter3d"
           }
          ],
          "scattercarpet": [
           {
            "marker": {
             "colorbar": {
              "outlinewidth": 0,
              "ticks": ""
             }
            },
            "type": "scattercarpet"
           }
          ],
          "scattergeo": [
           {
            "marker": {
             "colorbar": {
              "outlinewidth": 0,
              "ticks": ""
             }
            },
            "type": "scattergeo"
           }
          ],
          "scattergl": [
           {
            "marker": {
             "colorbar": {
              "outlinewidth": 0,
              "ticks": ""
             }
            },
            "type": "scattergl"
           }
          ],
          "scattermapbox": [
           {
            "marker": {
             "colorbar": {
              "outlinewidth": 0,
              "ticks": ""
             }
            },
            "type": "scattermapbox"
           }
          ],
          "scatterpolar": [
           {
            "marker": {
             "colorbar": {
              "outlinewidth": 0,
              "ticks": ""
             }
            },
            "type": "scatterpolar"
           }
          ],
          "scatterpolargl": [
           {
            "marker": {
             "colorbar": {
              "outlinewidth": 0,
              "ticks": ""
             }
            },
            "type": "scatterpolargl"
           }
          ],
          "scatterternary": [
           {
            "marker": {
             "colorbar": {
              "outlinewidth": 0,
              "ticks": ""
             }
            },
            "type": "scatterternary"
           }
          ],
          "surface": [
           {
            "colorbar": {
             "outlinewidth": 0,
             "ticks": ""
            },
            "colorscale": [
             [
              0,
              "#0d0887"
             ],
             [
              0.1111111111111111,
              "#46039f"
             ],
             [
              0.2222222222222222,
              "#7201a8"
             ],
             [
              0.3333333333333333,
              "#9c179e"
             ],
             [
              0.4444444444444444,
              "#bd3786"
             ],
             [
              0.5555555555555556,
              "#d8576b"
             ],
             [
              0.6666666666666666,
              "#ed7953"
             ],
             [
              0.7777777777777778,
              "#fb9f3a"
             ],
             [
              0.8888888888888888,
              "#fdca26"
             ],
             [
              1,
              "#f0f921"
             ]
            ],
            "type": "surface"
           }
          ],
          "table": [
           {
            "cells": {
             "fill": {
              "color": "#EBF0F8"
             },
             "line": {
              "color": "white"
             }
            },
            "header": {
             "fill": {
              "color": "#C8D4E3"
             },
             "line": {
              "color": "white"
             }
            },
            "type": "table"
           }
          ]
         },
         "layout": {
          "annotationdefaults": {
           "arrowcolor": "#2a3f5f",
           "arrowhead": 0,
           "arrowwidth": 1
          },
          "autotypenumbers": "strict",
          "coloraxis": {
           "colorbar": {
            "outlinewidth": 0,
            "ticks": ""
           }
          },
          "colorscale": {
           "diverging": [
            [
             0,
             "#8e0152"
            ],
            [
             0.1,
             "#c51b7d"
            ],
            [
             0.2,
             "#de77ae"
            ],
            [
             0.3,
             "#f1b6da"
            ],
            [
             0.4,
             "#fde0ef"
            ],
            [
             0.5,
             "#f7f7f7"
            ],
            [
             0.6,
             "#e6f5d0"
            ],
            [
             0.7,
             "#b8e186"
            ],
            [
             0.8,
             "#7fbc41"
            ],
            [
             0.9,
             "#4d9221"
            ],
            [
             1,
             "#276419"
            ]
           ],
           "sequential": [
            [
             0,
             "#0d0887"
            ],
            [
             0.1111111111111111,
             "#46039f"
            ],
            [
             0.2222222222222222,
             "#7201a8"
            ],
            [
             0.3333333333333333,
             "#9c179e"
            ],
            [
             0.4444444444444444,
             "#bd3786"
            ],
            [
             0.5555555555555556,
             "#d8576b"
            ],
            [
             0.6666666666666666,
             "#ed7953"
            ],
            [
             0.7777777777777778,
             "#fb9f3a"
            ],
            [
             0.8888888888888888,
             "#fdca26"
            ],
            [
             1,
             "#f0f921"
            ]
           ],
           "sequentialminus": [
            [
             0,
             "#0d0887"
            ],
            [
             0.1111111111111111,
             "#46039f"
            ],
            [
             0.2222222222222222,
             "#7201a8"
            ],
            [
             0.3333333333333333,
             "#9c179e"
            ],
            [
             0.4444444444444444,
             "#bd3786"
            ],
            [
             0.5555555555555556,
             "#d8576b"
            ],
            [
             0.6666666666666666,
             "#ed7953"
            ],
            [
             0.7777777777777778,
             "#fb9f3a"
            ],
            [
             0.8888888888888888,
             "#fdca26"
            ],
            [
             1,
             "#f0f921"
            ]
           ]
          },
          "colorway": [
           "#636efa",
           "#EF553B",
           "#00cc96",
           "#ab63fa",
           "#FFA15A",
           "#19d3f3",
           "#FF6692",
           "#B6E880",
           "#FF97FF",
           "#FECB52"
          ],
          "font": {
           "color": "#2a3f5f"
          },
          "geo": {
           "bgcolor": "white",
           "lakecolor": "white",
           "landcolor": "#E5ECF6",
           "showlakes": true,
           "showland": true,
           "subunitcolor": "white"
          },
          "hoverlabel": {
           "align": "left"
          },
          "hovermode": "closest",
          "mapbox": {
           "style": "light"
          },
          "paper_bgcolor": "white",
          "plot_bgcolor": "#E5ECF6",
          "polar": {
           "angularaxis": {
            "gridcolor": "white",
            "linecolor": "white",
            "ticks": ""
           },
           "bgcolor": "#E5ECF6",
           "radialaxis": {
            "gridcolor": "white",
            "linecolor": "white",
            "ticks": ""
           }
          },
          "scene": {
           "xaxis": {
            "backgroundcolor": "#E5ECF6",
            "gridcolor": "white",
            "gridwidth": 2,
            "linecolor": "white",
            "showbackground": true,
            "ticks": "",
            "zerolinecolor": "white"
           },
           "yaxis": {
            "backgroundcolor": "#E5ECF6",
            "gridcolor": "white",
            "gridwidth": 2,
            "linecolor": "white",
            "showbackground": true,
            "ticks": "",
            "zerolinecolor": "white"
           },
           "zaxis": {
            "backgroundcolor": "#E5ECF6",
            "gridcolor": "white",
            "gridwidth": 2,
            "linecolor": "white",
            "showbackground": true,
            "ticks": "",
            "zerolinecolor": "white"
           }
          },
          "shapedefaults": {
           "line": {
            "color": "#2a3f5f"
           }
          },
          "ternary": {
           "aaxis": {
            "gridcolor": "white",
            "linecolor": "white",
            "ticks": ""
           },
           "baxis": {
            "gridcolor": "white",
            "linecolor": "white",
            "ticks": ""
           },
           "bgcolor": "#E5ECF6",
           "caxis": {
            "gridcolor": "white",
            "linecolor": "white",
            "ticks": ""
           }
          },
          "title": {
           "x": 0.05
          },
          "xaxis": {
           "automargin": true,
           "gridcolor": "white",
           "linecolor": "white",
           "ticks": "",
           "title": {
            "standoff": 15
           },
           "zerolinecolor": "white",
           "zerolinewidth": 2
          },
          "yaxis": {
           "automargin": true,
           "gridcolor": "white",
           "linecolor": "white",
           "ticks": "",
           "title": {
            "standoff": 15
           },
           "zerolinecolor": "white",
           "zerolinewidth": 2
          }
         }
        }
       }
      }
     },
     "metadata": {},
     "output_type": "display_data"
    }
   ],
   "source": [
    "# Create a world map\n",
    "#Problem to show the countries from the UK on the map\n",
    "fig_world = px.choropleth(new, locations='location',\n",
    "                          locationmode='country names', \n",
    "                          color='avg', \n",
    "                          hover_name='location', \n",
    "                          color_continuous_scale=px.colors.sequential.Plasma,\n",
    "                          scope='world',\n",
    "                          projection = 'orthographic') \n",
    "\n",
    "fig_world.show()\n",
    "\n",
    "# Create a USA map\n",
    "fig_usa = px.choropleth(new, locations='location',\n",
    "                         locationmode='USA-states', \n",
    "                         color='avg', \n",
    "                         hover_name='location', \n",
    "                         color_continuous_scale=px.colors.sequential.Plasma,\n",
    "                         scope='usa') \n",
    "\n",
    "fig_usa.show()"
   ]
  },
  {
   "cell_type": "markdown",
   "metadata": {},
   "source": [
    "**MERGING AND CLEANING THE MATCHED DATASETS (SUPERFICIES AND BREWERIES)**"
   ]
  },
  {
   "cell_type": "code",
   "execution_count": 7,
   "metadata": {},
   "outputs": [
    {
     "name": "stdout",
     "output_type": "stream",
     "text": [
      "(327, 2)\n",
      "(8535, 11)\n",
      "(8529, 11)\n",
      "(8365, 11)\n"
     ]
    }
   ],
   "source": [
    "#Merge the dataframe with the superficies dataframe to have access to the superficies of every beer\n",
    "print(df_superficies_tot.shape)\n",
    "df_breweries_superficies = pd.merge(df_breweries, df_superficies_tot, on='location', how='left')\n",
    "print(df_breweries_superficies.shape)\n",
    "\n",
    "#Drop row with NaN values in km2 column\n",
    "df_breweries_superficies = df_breweries_superficies.dropna(subset=['km2'])\n",
    "print(df_breweries_superficies.shape)\n",
    "\n",
    "#Drop the location with less than 5 breweries (to do a beer trip, we need to have different breweries to visit!)\n",
    "df_breweries_superficies_flt = df_breweries_superficies.groupby('location').filter(lambda x: len(x) >= 5)\n",
    "print(df_breweries_superficies_flt.shape)\n",
    "\n",
    "#In the data set, the features with .1 at the end are the ones from Beer Advocate and the ones without .1 are the ones from RateBeer"
   ]
  },
  {
   "cell_type": "code",
   "execution_count": 43,
   "metadata": {},
   "outputs": [
    {
     "data": {
      "text/html": [
       "<div>\n",
       "<style scoped>\n",
       "    .dataframe tbody tr th:only-of-type {\n",
       "        vertical-align: middle;\n",
       "    }\n",
       "\n",
       "    .dataframe tbody tr th {\n",
       "        vertical-align: top;\n",
       "    }\n",
       "\n",
       "    .dataframe thead th {\n",
       "        text-align: right;\n",
       "    }\n",
       "</style>\n",
       "<table border=\"1\" class=\"dataframe\">\n",
       "  <thead>\n",
       "    <tr style=\"text-align: right;\">\n",
       "      <th></th>\n",
       "      <th>id</th>\n",
       "      <th>location</th>\n",
       "      <th>name</th>\n",
       "      <th>nbr_beers</th>\n",
       "      <th>id.1</th>\n",
       "      <th>location.1</th>\n",
       "      <th>name.1</th>\n",
       "      <th>nbr_beers.1</th>\n",
       "      <th>diff</th>\n",
       "      <th>sim</th>\n",
       "      <th>km2</th>\n",
       "    </tr>\n",
       "  </thead>\n",
       "  <tbody>\n",
       "    <tr>\n",
       "      <th>0</th>\n",
       "      <td>10093</td>\n",
       "      <td>Northern Ireland</td>\n",
       "      <td>Strangford Lough Brewing Company Ltd</td>\n",
       "      <td>5</td>\n",
       "      <td>4959</td>\n",
       "      <td>Northern Ireland</td>\n",
       "      <td>Strangford Lough</td>\n",
       "      <td>5</td>\n",
       "      <td>0.431275</td>\n",
       "      <td>0.889062</td>\n",
       "      <td>14130.0</td>\n",
       "    </tr>\n",
       "    <tr>\n",
       "      <th>1</th>\n",
       "      <td>32848</td>\n",
       "      <td>Northern Ireland</td>\n",
       "      <td>The Sheelin Brewery</td>\n",
       "      <td>4</td>\n",
       "      <td>17616</td>\n",
       "      <td>Northern Ireland</td>\n",
       "      <td>Sheelin</td>\n",
       "      <td>2</td>\n",
       "      <td>0.526388</td>\n",
       "      <td>0.863596</td>\n",
       "      <td>14130.0</td>\n",
       "    </tr>\n",
       "    <tr>\n",
       "      <th>2</th>\n",
       "      <td>40360</td>\n",
       "      <td>Northern Ireland</td>\n",
       "      <td>Walled City Brewing Company</td>\n",
       "      <td>6</td>\n",
       "      <td>24866</td>\n",
       "      <td>Northern Ireland</td>\n",
       "      <td>Walled City</td>\n",
       "      <td>3</td>\n",
       "      <td>0.527852</td>\n",
       "      <td>0.954183</td>\n",
       "      <td>14130.0</td>\n",
       "    </tr>\n",
       "    <tr>\n",
       "      <th>3</th>\n",
       "      <td>40309</td>\n",
       "      <td>Northern Ireland</td>\n",
       "      <td>Ards Brewing Company</td>\n",
       "      <td>7</td>\n",
       "      <td>13538</td>\n",
       "      <td>Northern Ireland</td>\n",
       "      <td>Ards Brewing Co.</td>\n",
       "      <td>13</td>\n",
       "      <td>0.554395</td>\n",
       "      <td>0.896098</td>\n",
       "      <td>14130.0</td>\n",
       "    </tr>\n",
       "    <tr>\n",
       "      <th>4</th>\n",
       "      <td>41205</td>\n",
       "      <td>Northern Ireland</td>\n",
       "      <td>Barrahooley Brewery</td>\n",
       "      <td>3</td>\n",
       "      <td>22304</td>\n",
       "      <td>Northern Ireland</td>\n",
       "      <td>Barrahooley Craft Brewery</td>\n",
       "      <td>4</td>\n",
       "      <td>0.602544</td>\n",
       "      <td>0.896205</td>\n",
       "      <td>14130.0</td>\n",
       "    </tr>\n",
       "    <tr>\n",
       "      <th>...</th>\n",
       "      <td>...</td>\n",
       "      <td>...</td>\n",
       "      <td>...</td>\n",
       "      <td>...</td>\n",
       "      <td>...</td>\n",
       "      <td>...</td>\n",
       "      <td>...</td>\n",
       "      <td>...</td>\n",
       "      <td>...</td>\n",
       "      <td>...</td>\n",
       "      <td>...</td>\n",
       "    </tr>\n",
       "    <tr>\n",
       "      <th>8529</th>\n",
       "      <td>10673</td>\n",
       "      <td>United States, Indiana</td>\n",
       "      <td>Warbird Brewing Company</td>\n",
       "      <td>6</td>\n",
       "      <td>5358</td>\n",
       "      <td>United States, Indiana</td>\n",
       "      <td>Warbird Brewing Company</td>\n",
       "      <td>6</td>\n",
       "      <td>0.658297</td>\n",
       "      <td>1.000000</td>\n",
       "      <td>94326.0</td>\n",
       "    </tr>\n",
       "    <tr>\n",
       "      <th>8530</th>\n",
       "      <td>34365</td>\n",
       "      <td>France</td>\n",
       "      <td>Brasserie De La Goutte D'Or</td>\n",
       "      <td>0</td>\n",
       "      <td>16083</td>\n",
       "      <td>France</td>\n",
       "      <td>Goutte dOr</td>\n",
       "      <td>24</td>\n",
       "      <td>0.412731</td>\n",
       "      <td>0.848934</td>\n",
       "      <td>643801.0</td>\n",
       "    </tr>\n",
       "    <tr>\n",
       "      <th>8531</th>\n",
       "      <td>34365</td>\n",
       "      <td>France</td>\n",
       "      <td>Brasserie De La Goutte D'Or</td>\n",
       "      <td>0</td>\n",
       "      <td>16083</td>\n",
       "      <td>France</td>\n",
       "      <td>Goutte dOr</td>\n",
       "      <td>24</td>\n",
       "      <td>0.412731</td>\n",
       "      <td>0.848934</td>\n",
       "      <td>543940.0</td>\n",
       "    </tr>\n",
       "    <tr>\n",
       "      <th>8532</th>\n",
       "      <td>23693</td>\n",
       "      <td>South Africa</td>\n",
       "      <td>Luyt Brewery</td>\n",
       "      <td>0</td>\n",
       "      <td>13836</td>\n",
       "      <td>South Africa</td>\n",
       "      <td>Luyt Brewery</td>\n",
       "      <td>1</td>\n",
       "      <td>0.706339</td>\n",
       "      <td>1.000000</td>\n",
       "      <td>1221037.0</td>\n",
       "    </tr>\n",
       "    <tr>\n",
       "      <th>8534</th>\n",
       "      <td>1613</td>\n",
       "      <td>United States, Florida</td>\n",
       "      <td>Panama City Brewery &amp; Cafe</td>\n",
       "      <td>5</td>\n",
       "      <td>274</td>\n",
       "      <td>United States, Florida</td>\n",
       "      <td>Panama City Brewery</td>\n",
       "      <td>5</td>\n",
       "      <td>0.422609</td>\n",
       "      <td>0.834015</td>\n",
       "      <td>170312.0</td>\n",
       "    </tr>\n",
       "  </tbody>\n",
       "</table>\n",
       "<p>8365 rows × 11 columns</p>\n",
       "</div>"
      ],
      "text/plain": [
       "         id                location                                  name  \\\n",
       "0     10093        Northern Ireland  Strangford Lough Brewing Company Ltd   \n",
       "1     32848        Northern Ireland                   The Sheelin Brewery   \n",
       "2     40360        Northern Ireland           Walled City Brewing Company   \n",
       "3     40309        Northern Ireland                  Ards Brewing Company   \n",
       "4     41205        Northern Ireland                   Barrahooley Brewery   \n",
       "...     ...                     ...                                   ...   \n",
       "8529  10673  United States, Indiana               Warbird Brewing Company   \n",
       "8530  34365                  France           Brasserie De La Goutte D'Or   \n",
       "8531  34365                  France           Brasserie De La Goutte D'Or   \n",
       "8532  23693            South Africa                          Luyt Brewery   \n",
       "8534   1613  United States, Florida            Panama City Brewery & Cafe   \n",
       "\n",
       "      nbr_beers   id.1              location.1                     name.1  \\\n",
       "0             5   4959        Northern Ireland           Strangford Lough   \n",
       "1             4  17616        Northern Ireland                    Sheelin   \n",
       "2             6  24866        Northern Ireland                Walled City   \n",
       "3             7  13538        Northern Ireland           Ards Brewing Co.   \n",
       "4             3  22304        Northern Ireland  Barrahooley Craft Brewery   \n",
       "...         ...    ...                     ...                        ...   \n",
       "8529          6   5358  United States, Indiana    Warbird Brewing Company   \n",
       "8530          0  16083                  France                Goutte dOr   \n",
       "8531          0  16083                  France                Goutte dOr   \n",
       "8532          0  13836            South Africa               Luyt Brewery   \n",
       "8534          5    274  United States, Florida        Panama City Brewery   \n",
       "\n",
       "      nbr_beers.1      diff       sim        km2  \n",
       "0               5  0.431275  0.889062    14130.0  \n",
       "1               2  0.526388  0.863596    14130.0  \n",
       "2               3  0.527852  0.954183    14130.0  \n",
       "3              13  0.554395  0.896098    14130.0  \n",
       "4               4  0.602544  0.896205    14130.0  \n",
       "...           ...       ...       ...        ...  \n",
       "8529            6  0.658297  1.000000    94326.0  \n",
       "8530           24  0.412731  0.848934   643801.0  \n",
       "8531           24  0.412731  0.848934   543940.0  \n",
       "8532            1  0.706339  1.000000  1221037.0  \n",
       "8534            5  0.422609  0.834015   170312.0  \n",
       "\n",
       "[8365 rows x 11 columns]"
      ]
     },
     "execution_count": 43,
     "metadata": {},
     "output_type": "execute_result"
    }
   ],
   "source": [
    "df_breweries_superficies_flt"
   ]
  },
  {
   "cell_type": "markdown",
   "metadata": {},
   "source": [
    "**CLEANING THE DATASET ABOUT USERS**"
   ]
  },
  {
   "cell_type": "markdown",
   "metadata": {},
   "source": [
    "This part is not finish yet, we need to merge it with the dataframe imported from Wikipedia with the population of the locations, because the goal of this preprocessing is to express finally the places where there are the biggest amount of \"expert\" per capita. "
   ]
  },
  {
   "cell_type": "code",
   "execution_count": 8,
   "metadata": {},
   "outputs": [],
   "source": [
    "#Selection of the columns to keep and rename them\n",
    "df_users_approx_flt = df_users_approx[['location', 'user_id', 'user_name', 'nbr_ratings', 'nbr_ratings.1']]\n",
    "df_users_approx_flt = df_users_approx_flt.rename(columns={'nbr_ratings':'nbr_ratings_beer_advocate', 'nbr_ratings.1':'nbr_ratings_ratebeer'})\n",
    "\n",
    "\n",
    "#Check that every user has at least one rating in each website (insure that the user is active)\n",
    "df_users_approx_flt = df_users_approx_flt.drop(df_users_approx_flt[(df_users_approx_flt['nbr_ratings_beer_advocate'] == 0) | (df_users_approx_flt['nbr_ratings_ratebeer'] == 0)].index)  # Drop rows where there is no ratings in one of the two websites\n"
   ]
  },
  {
   "cell_type": "markdown",
   "metadata": {},
   "source": [
    "**CREATED, CLEANED AND VISUALIZED DATAFRAME FOR THE CONNOISSEUR TRIP**"
   ]
  },
  {
   "cell_type": "code",
   "execution_count": 9,
   "metadata": {},
   "outputs": [],
   "source": [
    "#POUR LA PARTIE DE NIKO : PS : rajoute la partie on tu fera des calculs apres ma partie sur les ratings, ca fait plus sens\n"
   ]
  },
  {
   "cell_type": "markdown",
   "metadata": {},
   "source": [
    "*ALL OF THE FEATURES USED TO BUILD THE TRIPS*\n",
    "\n",
    "\n",
    "|Name | Object  | Description   |\n",
    "| -------- | -------- | -------- |\n",
    "| *df_beer_breweries_clean* | DataFrame | filtered dataset with both beer and breweries data|\n",
    "|  abv  | Series - float  | Indicates the beer's alcohol percentage|\n",
    "|  avg  | Series - float  | Average score given to the beer |\n",
    "|  avg_computed -float | Series - float  ||\n",
    "|  avg_matched_valid_ratings | Series - float  ||\n",
    "|  ba_score  | Series - float  ||\n",
    "|  beer_id  | Series - int  | Unique ID of each beer|\n",
    "|  beer_name  | Series - string  | Name of the beer |\n",
    "|  brewery_id  | Series - int  | Unique ID for each brewery the beers belong to|\n",
    "|  brewery_name  | Series - string  | Name of the brewery|\n",
    "|    | Series   ||\n",
    "|    | Series   ||\n",
    "|    | Series   ||\n",
    "|    | Series   ||\n",
    "|    | Series   ||\n",
    "|    | Series   ||\n",
    "|    | Series   ||"
   ]
  },
  {
   "cell_type": "markdown",
   "metadata": {},
   "source": [
    "### Start to build our different trips :"
   ]
  },
  {
   "cell_type": "markdown",
   "metadata": {},
   "source": [
    "**BREWERIES PER KM2**"
   ]
  },
  {
   "cell_type": "code",
   "execution_count": 47,
   "metadata": {},
   "outputs": [
    {
     "data": {
      "text/plain": [
       "location\n",
       "Argentina                   2780400.0\n",
       "Australia                   7692024.0\n",
       "Austria                       83871.0\n",
       "Belgium                       30689.0\n",
       "Brazil                      8515767.0\n",
       "                              ...    \n",
       "United States, Wisconsin     169635.0\n",
       "United States, Wyoming       253335.0\n",
       "Uzbekistan                   448978.0\n",
       "Vietnam                      331212.0\n",
       "Wales                         20779.0\n",
       "Name: km2, Length: 111, dtype: float64"
      ]
     },
     "metadata": {},
     "output_type": "display_data"
    },
    {
     "data": {
      "image/png": "[encoded data removed]",
      "text/plain": [
       "<Figure size 2000x1000 with 1 Axes>"
      ]
     },
     "metadata": {},
     "output_type": "display_data"
    },
    {
     "data": {
      "image/png": "[encoded data removed]",
      "text/plain": [
       "<Figure size 2000x1000 with 1 Axes>"
      ]
     },
     "metadata": {},
     "output_type": "display_data"
    }
   ],
   "source": [
    "#Group the breweries by country, count the number of breweries and divide by the superfices of the location to have a density :\n",
    "df_breweries_superficies_count = df_breweries_superficies_flt.groupby(['location']).id.count()\n",
    "#display(df_breweries_superficies_flt)\n",
    "\n",
    "#Get the values of the km2 in every location \n",
    "df_breweries_superficies_km2 = df_breweries_superficies_flt.groupby(['location']).km2.mean()\n",
    "display(df_breweries_superficies_km2)\n",
    "\n",
    "#Plot with superficies vs number of breweries\n",
    "plt.figure(figsize=(20,10))\n",
    "plt.scatter(df_breweries_superficies_km2, df_breweries_superficies_count)\n",
    "plt.xlabel('Superficies (km2)')\n",
    "plt.ylabel('Number of breweries')\n",
    "plt.xticks(rotation=90)\n",
    "plt.title('Superficies vs number of breweries')\n",
    "plt.show()\n",
    "\n",
    "#Concatenate the two dataframe to have access to the density of breweries per km2\n",
    "df_density = pd.concat([df_breweries_superficies_count, df_breweries_superficies_km2], axis=1)\n",
    "df_density['density'] = df_density['id'] / df_density['km2']\n",
    "df_density.reset_index(inplace=True)\n",
    "df_density.sort_values(by=['density'], ascending=False, inplace=True) \n",
    "top_ten_density = df_density.head(10)\n",
    "\n",
    "#Plot the density of breweries per km2\n",
    "plt.figure(figsize=(20,10))\n",
    "plt.xticks(rotation=90)\n",
    "plt.title('Density of breweries per km2')\n",
    "sns.barplot(x='location', y='density', data=top_ten_density, palette='Blues_d', hue='location')\n",
    "plt.show()\n",
    "\n",
    "#Store the location of the top 10 density of breweries per km2\n",
    "top_ten_density_location = top_ten_density['location']\n",
    "\n",
    "#NO error bar because we don't have the standard deviation of the density of breweries per km2....\n",
    "\n"
   ]
  },
  {
   "cell_type": "markdown",
   "metadata": {},
   "source": [
    "**THE PERCENTAGE OF ALCOHOL**"
   ]
  },
  {
   "cell_type": "code",
   "execution_count": 11,
   "metadata": {},
   "outputs": [],
   "source": [
    "#Drop the location with less than 5 beers (to do a beer trip, we need to have different beer to drink!) and beer with less than 20 ratings\n",
    "df_beer_breweries_flt_abv = df_beer_breweries_clean.groupby('location').filter(lambda x: (len(x) >= 5) | (x['nbr_ratings'].sum() + x['nbr_ratings.1'].sum() >= 20)) \n"
   ]
  },
  {
   "cell_type": "code",
   "execution_count": 12,
   "metadata": {},
   "outputs": [
    {
     "data": {
      "text/html": [
       "<div>\n",
       "<style scoped>\n",
       "    .dataframe tbody tr th:only-of-type {\n",
       "        vertical-align: middle;\n",
       "    }\n",
       "\n",
       "    .dataframe tbody tr th {\n",
       "        vertical-align: top;\n",
       "    }\n",
       "\n",
       "    .dataframe thead th {\n",
       "        text-align: right;\n",
       "    }\n",
       "</style>\n",
       "<table border=\"1\" class=\"dataframe\">\n",
       "  <thead>\n",
       "    <tr style=\"text-align: right;\">\n",
       "      <th></th>\n",
       "      <th>count</th>\n",
       "      <th>mean</th>\n",
       "      <th>std</th>\n",
       "      <th>min</th>\n",
       "      <th>25%</th>\n",
       "      <th>50%</th>\n",
       "      <th>75%</th>\n",
       "      <th>max</th>\n",
       "    </tr>\n",
       "    <tr>\n",
       "      <th>location</th>\n",
       "      <th></th>\n",
       "      <th></th>\n",
       "      <th></th>\n",
       "      <th></th>\n",
       "      <th></th>\n",
       "      <th></th>\n",
       "      <th></th>\n",
       "      <th></th>\n",
       "    </tr>\n",
       "  </thead>\n",
       "  <tbody>\n",
       "    <tr>\n",
       "      <th>Trinidad &amp; Tobago</th>\n",
       "      <td>8.0</td>\n",
       "      <td>3.525000</td>\n",
       "      <td>1.971765</td>\n",
       "      <td>1.2</td>\n",
       "      <td>1.200</td>\n",
       "      <td>4.45</td>\n",
       "      <td>5.050</td>\n",
       "      <td>5.5</td>\n",
       "    </tr>\n",
       "    <tr>\n",
       "      <th>Bosnia and Herzegovina</th>\n",
       "      <td>3.0</td>\n",
       "      <td>3.666667</td>\n",
       "      <td>1.457166</td>\n",
       "      <td>2.0</td>\n",
       "      <td>3.150</td>\n",
       "      <td>4.30</td>\n",
       "      <td>4.500</td>\n",
       "      <td>4.7</td>\n",
       "    </tr>\n",
       "    <tr>\n",
       "      <th>Albania</th>\n",
       "      <td>1.0</td>\n",
       "      <td>4.100000</td>\n",
       "      <td>NaN</td>\n",
       "      <td>4.1</td>\n",
       "      <td>4.100</td>\n",
       "      <td>4.10</td>\n",
       "      <td>4.100</td>\n",
       "      <td>4.1</td>\n",
       "    </tr>\n",
       "    <tr>\n",
       "      <th>Jersey</th>\n",
       "      <td>5.0</td>\n",
       "      <td>4.100000</td>\n",
       "      <td>0.264575</td>\n",
       "      <td>3.7</td>\n",
       "      <td>4.000</td>\n",
       "      <td>4.20</td>\n",
       "      <td>4.200</td>\n",
       "      <td>4.4</td>\n",
       "    </tr>\n",
       "    <tr>\n",
       "      <th>Cuba</th>\n",
       "      <td>2.0</td>\n",
       "      <td>4.250000</td>\n",
       "      <td>0.353553</td>\n",
       "      <td>4.0</td>\n",
       "      <td>4.125</td>\n",
       "      <td>4.25</td>\n",
       "      <td>4.375</td>\n",
       "      <td>4.5</td>\n",
       "    </tr>\n",
       "    <tr>\n",
       "      <th>Lebanon</th>\n",
       "      <td>2.0</td>\n",
       "      <td>4.350000</td>\n",
       "      <td>2.333452</td>\n",
       "      <td>2.7</td>\n",
       "      <td>3.525</td>\n",
       "      <td>4.35</td>\n",
       "      <td>5.175</td>\n",
       "      <td>6.0</td>\n",
       "    </tr>\n",
       "    <tr>\n",
       "      <th>Malawi</th>\n",
       "      <td>3.0</td>\n",
       "      <td>4.466667</td>\n",
       "      <td>1.078579</td>\n",
       "      <td>3.7</td>\n",
       "      <td>3.850</td>\n",
       "      <td>4.00</td>\n",
       "      <td>4.850</td>\n",
       "      <td>5.7</td>\n",
       "    </tr>\n",
       "    <tr>\n",
       "      <th>Uzbekistan</th>\n",
       "      <td>12.0</td>\n",
       "      <td>4.475000</td>\n",
       "      <td>0.601702</td>\n",
       "      <td>3.4</td>\n",
       "      <td>4.225</td>\n",
       "      <td>4.40</td>\n",
       "      <td>5.000</td>\n",
       "      <td>5.4</td>\n",
       "    </tr>\n",
       "    <tr>\n",
       "      <th>Isle of Man</th>\n",
       "      <td>4.0</td>\n",
       "      <td>4.650000</td>\n",
       "      <td>1.297433</td>\n",
       "      <td>3.7</td>\n",
       "      <td>3.775</td>\n",
       "      <td>4.20</td>\n",
       "      <td>5.075</td>\n",
       "      <td>6.5</td>\n",
       "    </tr>\n",
       "    <tr>\n",
       "      <th>Cyprus</th>\n",
       "      <td>9.0</td>\n",
       "      <td>4.700000</td>\n",
       "      <td>0.600000</td>\n",
       "      <td>3.8</td>\n",
       "      <td>4.500</td>\n",
       "      <td>4.50</td>\n",
       "      <td>5.000</td>\n",
       "      <td>6.0</td>\n",
       "    </tr>\n",
       "  </tbody>\n",
       "</table>\n",
       "</div>"
      ],
      "text/plain": [
       "                        count      mean       std  min    25%   50%    75%  \\\n",
       "location                                                                     \n",
       "Trinidad & Tobago         8.0  3.525000  1.971765  1.2  1.200  4.45  5.050   \n",
       "Bosnia and Herzegovina    3.0  3.666667  1.457166  2.0  3.150  4.30  4.500   \n",
       "Albania                   1.0  4.100000       NaN  4.1  4.100  4.10  4.100   \n",
       "Jersey                    5.0  4.100000  0.264575  3.7  4.000  4.20  4.200   \n",
       "Cuba                      2.0  4.250000  0.353553  4.0  4.125  4.25  4.375   \n",
       "Lebanon                   2.0  4.350000  2.333452  2.7  3.525  4.35  5.175   \n",
       "Malawi                    3.0  4.466667  1.078579  3.7  3.850  4.00  4.850   \n",
       "Uzbekistan               12.0  4.475000  0.601702  3.4  4.225  4.40  5.000   \n",
       "Isle of Man               4.0  4.650000  1.297433  3.7  3.775  4.20  5.075   \n",
       "Cyprus                    9.0  4.700000  0.600000  3.8  4.500  4.50  5.000   \n",
       "\n",
       "                        max  \n",
       "location                     \n",
       "Trinidad & Tobago       5.5  \n",
       "Bosnia and Herzegovina  4.7  \n",
       "Albania                 4.1  \n",
       "Jersey                  4.4  \n",
       "Cuba                    4.5  \n",
       "Lebanon                 6.0  \n",
       "Malawi                  5.7  \n",
       "Uzbekistan              5.4  \n",
       "Isle of Man             6.5  \n",
       "Cyprus                  6.0  "
      ]
     },
     "metadata": {},
     "output_type": "display_data"
    },
    {
     "data": {
      "image/png": "[encoded data removed]",
      "text/plain": [
       "<Figure size 2000x800 with 1 Axes>"
      ]
     },
     "metadata": {},
     "output_type": "display_data"
    }
   ],
   "source": [
    "#Sort the dataframe by considering the 10 location with the softest beer\n",
    "avg_rating_location = df_beer_breweries_flt_abv.groupby('location').abv.describe()\n",
    "avg_rating_location.sort_values(by='mean', ascending=True, inplace=True)\n",
    "top_ten_abv_soft = avg_rating_location.head(10)\n",
    "display(top_ten_abv_soft)\n",
    "\n",
    "#Plot the result with standard deviation as error bar\n",
    "pl = top_ten_abv_soft['mean'].plot(kind='bar', figsize=[20,8], rot=0, yerr=top_ten_abv_soft['std']) #mieux de faire avec CI ?????\n",
    "pl.set_title('Location with the softest beer')\n",
    "pl.set_ylabel('Percentage of alcohol')\n",
    "pl.set_xlabel('Location')\n",
    "pl.set_xticklabels(top_ten_abv_soft.index, rotation=90)\n",
    "\n",
    "\n",
    "#Keep a copy the ranking \n",
    "top_ten_abv_only_location = top_ten_abv_soft.index \n"
   ]
  },
  {
   "cell_type": "code",
   "execution_count": 13,
   "metadata": {},
   "outputs": [
    {
     "data": {
      "text/html": [
       "<div>\n",
       "<style scoped>\n",
       "    .dataframe tbody tr th:only-of-type {\n",
       "        vertical-align: middle;\n",
       "    }\n",
       "\n",
       "    .dataframe tbody tr th {\n",
       "        vertical-align: top;\n",
       "    }\n",
       "\n",
       "    .dataframe thead th {\n",
       "        text-align: right;\n",
       "    }\n",
       "</style>\n",
       "<table border=\"1\" class=\"dataframe\">\n",
       "  <thead>\n",
       "    <tr style=\"text-align: right;\">\n",
       "      <th></th>\n",
       "      <th>count</th>\n",
       "      <th>mean</th>\n",
       "      <th>std</th>\n",
       "      <th>min</th>\n",
       "      <th>25%</th>\n",
       "      <th>50%</th>\n",
       "      <th>75%</th>\n",
       "      <th>max</th>\n",
       "    </tr>\n",
       "    <tr>\n",
       "      <th>location</th>\n",
       "      <th></th>\n",
       "      <th></th>\n",
       "      <th></th>\n",
       "      <th></th>\n",
       "      <th></th>\n",
       "      <th></th>\n",
       "      <th></th>\n",
       "      <th></th>\n",
       "    </tr>\n",
       "  </thead>\n",
       "  <tbody>\n",
       "    <tr>\n",
       "      <th>Egypt</th>\n",
       "      <td>4.0</td>\n",
       "      <td>7.675000</td>\n",
       "      <td>2.736634</td>\n",
       "      <td>4.7</td>\n",
       "      <td>5.675</td>\n",
       "      <td>8.00</td>\n",
       "      <td>10.000</td>\n",
       "      <td>10.0</td>\n",
       "    </tr>\n",
       "    <tr>\n",
       "      <th>Estonia</th>\n",
       "      <td>69.0</td>\n",
       "      <td>7.482609</td>\n",
       "      <td>2.704080</td>\n",
       "      <td>3.8</td>\n",
       "      <td>5.500</td>\n",
       "      <td>6.90</td>\n",
       "      <td>8.900</td>\n",
       "      <td>16.0</td>\n",
       "    </tr>\n",
       "    <tr>\n",
       "      <th>Belgium</th>\n",
       "      <td>863.0</td>\n",
       "      <td>7.115435</td>\n",
       "      <td>2.328768</td>\n",
       "      <td>0.5</td>\n",
       "      <td>6.000</td>\n",
       "      <td>7.00</td>\n",
       "      <td>8.000</td>\n",
       "      <td>39.0</td>\n",
       "    </tr>\n",
       "    <tr>\n",
       "      <th>Iceland</th>\n",
       "      <td>45.0</td>\n",
       "      <td>7.108889</td>\n",
       "      <td>2.644619</td>\n",
       "      <td>4.0</td>\n",
       "      <td>5.200</td>\n",
       "      <td>6.00</td>\n",
       "      <td>9.000</td>\n",
       "      <td>14.5</td>\n",
       "    </tr>\n",
       "    <tr>\n",
       "      <th>United States, Rhode Island</th>\n",
       "      <td>143.0</td>\n",
       "      <td>7.013566</td>\n",
       "      <td>2.198081</td>\n",
       "      <td>2.5</td>\n",
       "      <td>5.500</td>\n",
       "      <td>6.60</td>\n",
       "      <td>8.000</td>\n",
       "      <td>12.5</td>\n",
       "    </tr>\n",
       "    <tr>\n",
       "      <th>Netherlands</th>\n",
       "      <td>569.0</td>\n",
       "      <td>7.005290</td>\n",
       "      <td>2.022058</td>\n",
       "      <td>0.5</td>\n",
       "      <td>5.600</td>\n",
       "      <td>6.60</td>\n",
       "      <td>8.200</td>\n",
       "      <td>20.0</td>\n",
       "    </tr>\n",
       "    <tr>\n",
       "      <th>United States, Oklahoma</th>\n",
       "      <td>90.0</td>\n",
       "      <td>6.880000</td>\n",
       "      <td>2.655933</td>\n",
       "      <td>3.7</td>\n",
       "      <td>5.075</td>\n",
       "      <td>6.25</td>\n",
       "      <td>8.000</td>\n",
       "      <td>17.0</td>\n",
       "    </tr>\n",
       "    <tr>\n",
       "      <th>United States, Georgia</th>\n",
       "      <td>461.0</td>\n",
       "      <td>6.852278</td>\n",
       "      <td>1.906642</td>\n",
       "      <td>3.0</td>\n",
       "      <td>5.300</td>\n",
       "      <td>6.50</td>\n",
       "      <td>8.100</td>\n",
       "      <td>13.9</td>\n",
       "    </tr>\n",
       "    <tr>\n",
       "      <th>Mauritius</th>\n",
       "      <td>12.0</td>\n",
       "      <td>6.825000</td>\n",
       "      <td>2.100271</td>\n",
       "      <td>4.8</td>\n",
       "      <td>5.600</td>\n",
       "      <td>6.20</td>\n",
       "      <td>7.375</td>\n",
       "      <td>12.0</td>\n",
       "    </tr>\n",
       "    <tr>\n",
       "      <th>United States, California</th>\n",
       "      <td>4314.0</td>\n",
       "      <td>6.785767</td>\n",
       "      <td>1.889064</td>\n",
       "      <td>2.5</td>\n",
       "      <td>5.500</td>\n",
       "      <td>6.50</td>\n",
       "      <td>7.700</td>\n",
       "      <td>17.0</td>\n",
       "    </tr>\n",
       "  </tbody>\n",
       "</table>\n",
       "</div>"
      ],
      "text/plain": [
       "                              count      mean       std  min    25%   50%  \\\n",
       "location                                                                    \n",
       "Egypt                           4.0  7.675000  2.736634  4.7  5.675  8.00   \n",
       "Estonia                        69.0  7.482609  2.704080  3.8  5.500  6.90   \n",
       "Belgium                       863.0  7.115435  2.328768  0.5  6.000  7.00   \n",
       "Iceland                        45.0  7.108889  2.644619  4.0  5.200  6.00   \n",
       "United States, Rhode Island   143.0  7.013566  2.198081  2.5  5.500  6.60   \n",
       "Netherlands                   569.0  7.005290  2.022058  0.5  5.600  6.60   \n",
       "United States, Oklahoma        90.0  6.880000  2.655933  3.7  5.075  6.25   \n",
       "United States, Georgia        461.0  6.852278  1.906642  3.0  5.300  6.50   \n",
       "Mauritius                      12.0  6.825000  2.100271  4.8  5.600  6.20   \n",
       "United States, California    4314.0  6.785767  1.889064  2.5  5.500  6.50   \n",
       "\n",
       "                                75%   max  \n",
       "location                                   \n",
       "Egypt                        10.000  10.0  \n",
       "Estonia                       8.900  16.0  \n",
       "Belgium                       8.000  39.0  \n",
       "Iceland                       9.000  14.5  \n",
       "United States, Rhode Island   8.000  12.5  \n",
       "Netherlands                   8.200  20.0  \n",
       "United States, Oklahoma       8.000  17.0  \n",
       "United States, Georgia        8.100  13.9  \n",
       "Mauritius                     7.375  12.0  \n",
       "United States, California     7.700  17.0  "
      ]
     },
     "metadata": {},
     "output_type": "display_data"
    },
    {
     "data": {
      "image/png": "[encoded data removed]",
      "text/plain": [
       "<Figure size 2000x800 with 1 Axes>"
      ]
     },
     "metadata": {},
     "output_type": "display_data"
    }
   ],
   "source": [
    "#Sort the dataframe by considering the 10 location with the strongest beer\n",
    "avg_rating_location = df_beer_breweries_flt_abv.groupby('location').abv.describe()\n",
    "avg_rating_location.sort_values(by='mean', ascending=False, inplace=True)\n",
    "top_ten_abv_strong = avg_rating_location.head(10)\n",
    "display(top_ten_abv_strong)\n",
    "\n",
    "#Plot the result with standard deviation as error bar\n",
    "pl = top_ten_abv_strong['mean'].plot(kind='bar', figsize=[20,8], rot=0, yerr=top_ten_abv_strong['std']) #mieux de faire avec CI ?????\n",
    "pl.set_title('Location with the strongest beer')\n",
    "pl.set_ylabel('Percentage of alcohol')\n",
    "pl.set_xlabel('Location')\n",
    "pl.set_xticklabels(top_ten_abv_strong.index, rotation=90)\n",
    "\n",
    "#Keep a copy the ranking \n",
    "top_ten_abv_only_location = top_ten_abv_strong.index \n"
   ]
  },
  {
   "cell_type": "markdown",
   "metadata": {},
   "source": [
    "**THE RATINGS IN GLOBAL**"
   ]
  },
  {
   "cell_type": "code",
   "execution_count": 37,
   "metadata": {},
   "outputs": [
    {
     "name": "stdout",
     "output_type": "stream",
     "text": [
      "(162, 30)\n"
     ]
    },
    {
     "data": {
      "text/plain": [
       "[Text(0, 0, 'Albania'),\n",
       " Text(1, 0, 'Algeria'),\n",
       " Text(2, 0, 'Angola'),\n",
       " Text(3, 0, 'Argentina'),\n",
       " Text(4, 0, 'Australia'),\n",
       " Text(5, 0, 'Austria'),\n",
       " Text(6, 0, 'Bahamas'),\n",
       " Text(7, 0, 'Belarus'),\n",
       " Text(8, 0, 'Belgium'),\n",
       " Text(9, 0, 'Bhutan'),\n",
       " Text(10, 0, 'Bosnia and Herzegovina'),\n",
       " Text(11, 0, 'Brazil'),\n",
       " Text(12, 0, 'Bulgaria'),\n",
       " Text(13, 0, 'Cambodia'),\n",
       " Text(14, 0, 'Cameroon'),\n",
       " Text(15, 0, 'Canada'),\n",
       " Text(16, 0, 'Cape Verde Islands'),\n",
       " Text(17, 0, 'Cayman Islands'),\n",
       " Text(18, 0, 'Chile'),\n",
       " Text(19, 0, 'China'),\n",
       " Text(20, 0, 'Colombia'),\n",
       " Text(21, 0, 'Cook Islands'),\n",
       " Text(22, 0, 'Costa Rica'),\n",
       " Text(23, 0, 'Croatia'),\n",
       " Text(24, 0, 'Cuba'),\n",
       " Text(25, 0, 'Cyprus'),\n",
       " Text(26, 0, 'Czech Republic'),\n",
       " Text(27, 0, 'Denmark'),\n",
       " Text(28, 0, 'Egypt'),\n",
       " Text(29, 0, 'El Salvador'),\n",
       " Text(30, 0, 'England'),\n",
       " Text(31, 0, 'Eritrea'),\n",
       " Text(32, 0, 'Estonia'),\n",
       " Text(33, 0, 'Faroe Islands'),\n",
       " Text(34, 0, 'Finland'),\n",
       " Text(35, 0, 'France'),\n",
       " Text(36, 0, 'French Polynesia'),\n",
       " Text(37, 0, 'Georgia'),\n",
       " Text(38, 0, 'Germany'),\n",
       " Text(39, 0, 'Ghana'),\n",
       " Text(40, 0, 'Greece'),\n",
       " Text(41, 0, 'Grenada'),\n",
       " Text(42, 0, 'Guatemala'),\n",
       " Text(43, 0, 'Hong Kong'),\n",
       " Text(44, 0, 'Hungary'),\n",
       " Text(45, 0, 'Iceland'),\n",
       " Text(46, 0, 'India'),\n",
       " Text(47, 0, 'Ireland'),\n",
       " Text(48, 0, 'Isle of Man'),\n",
       " Text(49, 0, 'Israel'),\n",
       " Text(50, 0, 'Italy'),\n",
       " Text(51, 0, 'Ivory Coast'),\n",
       " Text(52, 0, 'Japan'),\n",
       " Text(53, 0, 'Jersey'),\n",
       " Text(54, 0, 'Kazakhstan'),\n",
       " Text(55, 0, 'Laos'),\n",
       " Text(56, 0, 'Latvia'),\n",
       " Text(57, 0, 'Lebanon'),\n",
       " Text(58, 0, 'Liechtenstein'),\n",
       " Text(59, 0, 'Lithuania'),\n",
       " Text(60, 0, 'Luxembourg'),\n",
       " Text(61, 0, 'Macedonia'),\n",
       " Text(62, 0, 'Malawi'),\n",
       " Text(63, 0, 'Malta'),\n",
       " Text(64, 0, 'Mexico'),\n",
       " Text(65, 0, 'Moldova'),\n",
       " Text(66, 0, 'Mongolia'),\n",
       " Text(67, 0, 'Mozambique'),\n",
       " Text(68, 0, 'Myanmar'),\n",
       " Text(69, 0, 'Nepal'),\n",
       " Text(70, 0, 'Netherlands'),\n",
       " Text(71, 0, 'New Caledonia'),\n",
       " Text(72, 0, 'New Zealand'),\n",
       " Text(73, 0, 'Nigeria'),\n",
       " Text(74, 0, 'North Korea'),\n",
       " Text(75, 0, 'Northern Ireland'),\n",
       " Text(76, 0, 'Norway'),\n",
       " Text(77, 0, 'Palestine'),\n",
       " Text(78, 0, 'Panama'),\n",
       " Text(79, 0, 'Peru'),\n",
       " Text(80, 0, 'Philippines'),\n",
       " Text(81, 0, 'Poland'),\n",
       " Text(82, 0, 'Portugal'),\n",
       " Text(83, 0, 'Puerto Rico'),\n",
       " Text(84, 0, 'Romania'),\n",
       " Text(85, 0, 'Russia'),\n",
       " Text(86, 0, 'Rwanda'),\n",
       " Text(87, 0, 'Scotland'),\n",
       " Text(88, 0, 'Serbia'),\n",
       " Text(89, 0, 'Singapore'),\n",
       " Text(90, 0, 'Slovak Republic'),\n",
       " Text(91, 0, 'Slovenia'),\n",
       " Text(92, 0, 'Solomon Islands'),\n",
       " Text(93, 0, 'South Africa'),\n",
       " Text(94, 0, 'South Korea'),\n",
       " Text(95, 0, 'Spain'),\n",
       " Text(96, 0, 'Sweden'),\n",
       " Text(97, 0, 'Switzerland'),\n",
       " Text(98, 0, 'Syria'),\n",
       " Text(99, 0, 'Taiwan'),\n",
       " Text(100, 0, 'Thailand'),\n",
       " Text(101, 0, 'Togo'),\n",
       " Text(102, 0, 'Trinidad & Tobago'),\n",
       " Text(103, 0, 'Tunisia'),\n",
       " Text(104, 0, 'Turkey'),\n",
       " Text(105, 0, 'Turkmenistan'),\n",
       " Text(106, 0, 'Turks and Caicos Islands'),\n",
       " Text(107, 0, 'Uganda'),\n",
       " Text(108, 0, 'Ukraine'),\n",
       " Text(109, 0, 'United States, Alabama'),\n",
       " Text(110, 0, 'United States, Alaska'),\n",
       " Text(111, 0, 'United States, Arizona'),\n",
       " Text(112, 0, 'United States, Arkansas'),\n",
       " Text(113, 0, 'United States, California'),\n",
       " Text(114, 0, 'United States, Colorado'),\n",
       " Text(115, 0, 'United States, Connecticut'),\n",
       " Text(116, 0, 'United States, Delaware'),\n",
       " Text(117, 0, 'United States, Florida'),\n",
       " Text(118, 0, 'United States, Georgia'),\n",
       " Text(119, 0, 'United States, Hawaii'),\n",
       " Text(120, 0, 'United States, Idaho'),\n",
       " Text(121, 0, 'United States, Illinois'),\n",
       " Text(122, 0, 'United States, Indiana'),\n",
       " Text(123, 0, 'United States, Iowa'),\n",
       " Text(124, 0, 'United States, Kansas'),\n",
       " Text(125, 0, 'United States, Kentucky'),\n",
       " Text(126, 0, 'United States, Louisiana'),\n",
       " Text(127, 0, 'United States, Maine'),\n",
       " Text(128, 0, 'United States, Maryland'),\n",
       " Text(129, 0, 'United States, Massachusetts'),\n",
       " Text(130, 0, 'United States, Michigan'),\n",
       " Text(131, 0, 'United States, Minnesota'),\n",
       " Text(132, 0, 'United States, Mississippi'),\n",
       " Text(133, 0, 'United States, Missouri'),\n",
       " Text(134, 0, 'United States, Montana'),\n",
       " Text(135, 0, 'United States, Nebraska'),\n",
       " Text(136, 0, 'United States, Nevada'),\n",
       " Text(137, 0, 'United States, New Hampshire'),\n",
       " Text(138, 0, 'United States, New Jersey'),\n",
       " Text(139, 0, 'United States, New Mexico'),\n",
       " Text(140, 0, 'United States, New York'),\n",
       " Text(141, 0, 'United States, North Carolina'),\n",
       " Text(142, 0, 'United States, North Dakota'),\n",
       " Text(143, 0, 'United States, Ohio'),\n",
       " Text(144, 0, 'United States, Oklahoma'),\n",
       " Text(145, 0, 'United States, Oregon'),\n",
       " Text(146, 0, 'United States, Pennsylvania'),\n",
       " Text(147, 0, 'United States, Rhode Island'),\n",
       " Text(148, 0, 'United States, South Carolina'),\n",
       " Text(149, 0, 'United States, South Dakota'),\n",
       " Text(150, 0, 'United States, Tennessee'),\n",
       " Text(151, 0, 'United States, Texas'),\n",
       " Text(152, 0, 'United States, Utah'),\n",
       " Text(153, 0, 'United States, Vermont'),\n",
       " Text(154, 0, 'United States, Virginia'),\n",
       " Text(155, 0, 'United States, Washington'),\n",
       " Text(156, 0, 'United States, West Virginia'),\n",
       " Text(157, 0, 'United States, Wisconsin'),\n",
       " Text(158, 0, 'United States, Wyoming'),\n",
       " Text(159, 0, 'Vietnam'),\n",
       " Text(160, 0, 'Virgin Islands (U.S.)'),\n",
       " Text(161, 0, 'Wales')]"
      ]
     },
     "execution_count": 37,
     "metadata": {},
     "output_type": "execute_result"
    },
    {
     "data": {
      "image/png": "[encoded data removed]",
      "text/plain": [
       "<Figure size 2000x800 with 1 Axes>"
      ]
     },
     "metadata": {},
     "output_type": "display_data"
    }
   ],
   "source": [
    "#Select only the beers with at least 5 ratings on either sites (RateBeer and Beer Advocate), because we want to have a good idea of the quality of the beers: \n",
    "df_beer_breweries_clean_5_plus = df_beer_breweries_clean[(df_beer_breweries_clean['nbr_ratings'] >=5) | (df_beer_breweries_clean['nbr_ratings.1'] >=5)]\n",
    "\n",
    "#Grouped the beers by location and count the number of beers in each location\n",
    "df_beer_breweries_clean_5_plus_4plot = df_beer_breweries_clean_5_plus.groupby(['location']).count()\n",
    "print(df_beer_breweries_clean_5_plus_4plot.shape)\n",
    "\n",
    "#Plot the location with the most beers with at least 5 ratings on each sites\n",
    "pl = df_beer_breweries_clean_5_plus_4plot['beer_name'].plot(kind='bar', figsize=[20,8])\n",
    "pl.set_title('Locations with their amount of beers')\n",
    "pl.set_ylabel('# of beers')\n",
    "pl.set_xlabel('location')\n",
    "pl.set_xticklabels(df_beer_breweries_clean_5_plus_4plot.index, rotation=90)\n"
   ]
  },
  {
   "cell_type": "markdown",
   "metadata": {},
   "source": [
    "We can see on the previous graph that we still have a lot of location to visit after keeping only the beers with more than 5 ratings on both websites, but we can restrain even more this number by imposing conditions on the minimum amount of beers in a location to be considered as a potential destination for the trip. "
   ]
  },
  {
   "cell_type": "code",
   "execution_count": 36,
   "metadata": {},
   "outputs": [
    {
     "name": "stdout",
     "output_type": "stream",
     "text": [
      "(112, 30)\n"
     ]
    },
    {
     "data": {
      "text/plain": [
       "[Text(0, 0, 'Albania'),\n",
       " Text(1, 0, 'Algeria'),\n",
       " Text(2, 0, 'Angola'),\n",
       " Text(3, 0, 'Argentina'),\n",
       " Text(4, 0, 'Australia'),\n",
       " Text(5, 0, 'Austria'),\n",
       " Text(6, 0, 'Bahamas'),\n",
       " Text(7, 0, 'Belarus'),\n",
       " Text(8, 0, 'Belgium'),\n",
       " Text(9, 0, 'Bhutan'),\n",
       " Text(10, 0, 'Bosnia and Herzegovina'),\n",
       " Text(11, 0, 'Brazil'),\n",
       " Text(12, 0, 'Bulgaria'),\n",
       " Text(13, 0, 'Cambodia'),\n",
       " Text(14, 0, 'Cameroon'),\n",
       " Text(15, 0, 'Canada'),\n",
       " Text(16, 0, 'Cape Verde Islands'),\n",
       " Text(17, 0, 'Cayman Islands'),\n",
       " Text(18, 0, 'Chile'),\n",
       " Text(19, 0, 'China'),\n",
       " Text(20, 0, 'Colombia'),\n",
       " Text(21, 0, 'Cook Islands'),\n",
       " Text(22, 0, 'Costa Rica'),\n",
       " Text(23, 0, 'Croatia'),\n",
       " Text(24, 0, 'Cuba'),\n",
       " Text(25, 0, 'Cyprus'),\n",
       " Text(26, 0, 'Czech Republic'),\n",
       " Text(27, 0, 'Denmark'),\n",
       " Text(28, 0, 'Egypt'),\n",
       " Text(29, 0, 'El Salvador'),\n",
       " Text(30, 0, 'England'),\n",
       " Text(31, 0, 'Eritrea'),\n",
       " Text(32, 0, 'Estonia'),\n",
       " Text(33, 0, 'Faroe Islands'),\n",
       " Text(34, 0, 'Finland'),\n",
       " Text(35, 0, 'France'),\n",
       " Text(36, 0, 'French Polynesia'),\n",
       " Text(37, 0, 'Georgia'),\n",
       " Text(38, 0, 'Germany'),\n",
       " Text(39, 0, 'Ghana'),\n",
       " Text(40, 0, 'Greece'),\n",
       " Text(41, 0, 'Grenada'),\n",
       " Text(42, 0, 'Guatemala'),\n",
       " Text(43, 0, 'Hong Kong'),\n",
       " Text(44, 0, 'Hungary'),\n",
       " Text(45, 0, 'Iceland'),\n",
       " Text(46, 0, 'India'),\n",
       " Text(47, 0, 'Ireland'),\n",
       " Text(48, 0, 'Isle of Man'),\n",
       " Text(49, 0, 'Israel'),\n",
       " Text(50, 0, 'Italy'),\n",
       " Text(51, 0, 'Ivory Coast'),\n",
       " Text(52, 0, 'Japan'),\n",
       " Text(53, 0, 'Jersey'),\n",
       " Text(54, 0, 'Kazakhstan'),\n",
       " Text(55, 0, 'Laos'),\n",
       " Text(56, 0, 'Latvia'),\n",
       " Text(57, 0, 'Lebanon'),\n",
       " Text(58, 0, 'Liechtenstein'),\n",
       " Text(59, 0, 'Lithuania'),\n",
       " Text(60, 0, 'Luxembourg'),\n",
       " Text(61, 0, 'Macedonia'),\n",
       " Text(62, 0, 'Malawi'),\n",
       " Text(63, 0, 'Malta'),\n",
       " Text(64, 0, 'Mexico'),\n",
       " Text(65, 0, 'Moldova'),\n",
       " Text(66, 0, 'Mongolia'),\n",
       " Text(67, 0, 'Mozambique'),\n",
       " Text(68, 0, 'Myanmar'),\n",
       " Text(69, 0, 'Nepal'),\n",
       " Text(70, 0, 'Netherlands'),\n",
       " Text(71, 0, 'New Caledonia'),\n",
       " Text(72, 0, 'New Zealand'),\n",
       " Text(73, 0, 'Nigeria'),\n",
       " Text(74, 0, 'North Korea'),\n",
       " Text(75, 0, 'Northern Ireland'),\n",
       " Text(76, 0, 'Norway'),\n",
       " Text(77, 0, 'Palestine'),\n",
       " Text(78, 0, 'Panama'),\n",
       " Text(79, 0, 'Peru'),\n",
       " Text(80, 0, 'Philippines'),\n",
       " Text(81, 0, 'Poland'),\n",
       " Text(82, 0, 'Portugal'),\n",
       " Text(83, 0, 'Puerto Rico'),\n",
       " Text(84, 0, 'Romania'),\n",
       " Text(85, 0, 'Russia'),\n",
       " Text(86, 0, 'Rwanda'),\n",
       " Text(87, 0, 'Scotland'),\n",
       " Text(88, 0, 'Serbia'),\n",
       " Text(89, 0, 'Singapore'),\n",
       " Text(90, 0, 'Slovak Republic'),\n",
       " Text(91, 0, 'Slovenia'),\n",
       " Text(92, 0, 'Solomon Islands'),\n",
       " Text(93, 0, 'South Africa'),\n",
       " Text(94, 0, 'South Korea'),\n",
       " Text(95, 0, 'Spain'),\n",
       " Text(96, 0, 'Sweden'),\n",
       " Text(97, 0, 'Switzerland'),\n",
       " Text(98, 0, 'Syria'),\n",
       " Text(99, 0, 'Taiwan'),\n",
       " Text(100, 0, 'Thailand'),\n",
       " Text(101, 0, 'Togo'),\n",
       " Text(102, 0, 'Trinidad & Tobago'),\n",
       " Text(103, 0, 'Tunisia'),\n",
       " Text(104, 0, 'Turkey'),\n",
       " Text(105, 0, 'Turkmenistan'),\n",
       " Text(106, 0, 'Turks and Caicos Islands'),\n",
       " Text(107, 0, 'Uganda'),\n",
       " Text(108, 0, 'Ukraine'),\n",
       " Text(109, 0, 'United States, Alabama'),\n",
       " Text(110, 0, 'United States, Alaska'),\n",
       " Text(111, 0, 'United States, Arizona'),\n",
       " Text(112, 0, 'United States, Arkansas'),\n",
       " Text(113, 0, 'United States, California'),\n",
       " Text(114, 0, 'United States, Colorado'),\n",
       " Text(115, 0, 'United States, Connecticut'),\n",
       " Text(116, 0, 'United States, Delaware'),\n",
       " Text(117, 0, 'United States, Florida'),\n",
       " Text(118, 0, 'United States, Georgia'),\n",
       " Text(119, 0, 'United States, Hawaii'),\n",
       " Text(120, 0, 'United States, Idaho'),\n",
       " Text(121, 0, 'United States, Illinois'),\n",
       " Text(122, 0, 'United States, Indiana'),\n",
       " Text(123, 0, 'United States, Iowa'),\n",
       " Text(124, 0, 'United States, Kansas'),\n",
       " Text(125, 0, 'United States, Kentucky'),\n",
       " Text(126, 0, 'United States, Louisiana'),\n",
       " Text(127, 0, 'United States, Maine'),\n",
       " Text(128, 0, 'United States, Maryland'),\n",
       " Text(129, 0, 'United States, Massachusetts'),\n",
       " Text(130, 0, 'United States, Michigan'),\n",
       " Text(131, 0, 'United States, Minnesota'),\n",
       " Text(132, 0, 'United States, Mississippi'),\n",
       " Text(133, 0, 'United States, Missouri'),\n",
       " Text(134, 0, 'United States, Montana'),\n",
       " Text(135, 0, 'United States, Nebraska'),\n",
       " Text(136, 0, 'United States, Nevada'),\n",
       " Text(137, 0, 'United States, New Hampshire'),\n",
       " Text(138, 0, 'United States, New Jersey'),\n",
       " Text(139, 0, 'United States, New Mexico'),\n",
       " Text(140, 0, 'United States, New York'),\n",
       " Text(141, 0, 'United States, North Carolina'),\n",
       " Text(142, 0, 'United States, North Dakota'),\n",
       " Text(143, 0, 'United States, Ohio'),\n",
       " Text(144, 0, 'United States, Oklahoma'),\n",
       " Text(145, 0, 'United States, Oregon'),\n",
       " Text(146, 0, 'United States, Pennsylvania'),\n",
       " Text(147, 0, 'United States, Rhode Island'),\n",
       " Text(148, 0, 'United States, South Carolina'),\n",
       " Text(149, 0, 'United States, South Dakota'),\n",
       " Text(150, 0, 'United States, Tennessee'),\n",
       " Text(151, 0, 'United States, Texas'),\n",
       " Text(152, 0, 'United States, Utah'),\n",
       " Text(153, 0, 'United States, Vermont'),\n",
       " Text(154, 0, 'United States, Virginia'),\n",
       " Text(155, 0, 'United States, Washington'),\n",
       " Text(156, 0, 'United States, West Virginia'),\n",
       " Text(157, 0, 'United States, Wisconsin'),\n",
       " Text(158, 0, 'United States, Wyoming'),\n",
       " Text(159, 0, 'Vietnam'),\n",
       " Text(160, 0, 'Virgin Islands (U.S.)'),\n",
       " Text(161, 0, 'Wales')]"
      ]
     },
     "execution_count": 36,
     "metadata": {},
     "output_type": "execute_result"
    },
    {
     "data": {
      "image/png": "[encoded data removed]",
      "text/plain": [
       "<Figure size 2000x800 with 1 Axes>"
      ]
     },
     "metadata": {},
     "output_type": "display_data"
    }
   ],
   "source": [
    "#Drop the beers with no zscore in either sites\n",
    "df_beer_breweries_clean_5_plus = df_beer_breweries_clean_5_plus.drop(df_beer_breweries_clean_5_plus[(df_beer_breweries_clean_5_plus['zscore'].isna()) | (df_beer_breweries_clean_5_plus['zscore.1'].isna())].index)\n",
    "\n",
    "#Drop the location with less than 5 beers (to do a beer trip, we need to have different beer to drink!)\n",
    "df_beer_breweries_flt = df_beer_breweries_clean_5_plus.groupby('location').filter(lambda x: len(x) >= 5)\n",
    "\n",
    "#Plot the location with more than 5 beers produced and with at least 5 ratings on each sites\n",
    "pl = df_beer_breweries_clean_5_plus_4plot['beer_name'].plot(kind='bar', figsize=[20,8])\n",
    "pl.set_title('Locations with their amount of beers')\n",
    "pl.set_ylabel('# of beers')\n",
    "pl.set_xlabel('location')\n",
    "pl.set_xticklabels(df_beer_breweries_clean_5_plus_4plot.index, rotation=90)\n"
   ]
  },
  {
   "cell_type": "markdown",
   "metadata": {},
   "source": [
    "We still have 112 destinations for our trip. It is a good number to start with! Now lets analysis the data relatively to the ratings and the best way is to analyse the zscore of the beers. Indeed, the z-score basically makes the ratings comparable both across websites and time in general. However, in order to have a representative overall zscore, we will average the ones from BeerAdvocate and Rate Beer by taking into account their amount of ratings. "
   ]
  },
  {
   "cell_type": "code",
   "execution_count": 40,
   "metadata": {},
   "outputs": [
    {
     "data": {
      "text/html": [
       "<div>\n",
       "<style scoped>\n",
       "    .dataframe tbody tr th:only-of-type {\n",
       "        vertical-align: middle;\n",
       "    }\n",
       "\n",
       "    .dataframe tbody tr th {\n",
       "        vertical-align: top;\n",
       "    }\n",
       "\n",
       "    .dataframe thead th {\n",
       "        text-align: right;\n",
       "    }\n",
       "</style>\n",
       "<table border=\"1\" class=\"dataframe\">\n",
       "  <thead>\n",
       "    <tr style=\"text-align: right;\">\n",
       "      <th></th>\n",
       "      <th>count</th>\n",
       "      <th>mean</th>\n",
       "      <th>std</th>\n",
       "      <th>min</th>\n",
       "      <th>25%</th>\n",
       "      <th>50%</th>\n",
       "      <th>75%</th>\n",
       "      <th>max</th>\n",
       "    </tr>\n",
       "    <tr>\n",
       "      <th>location</th>\n",
       "      <th></th>\n",
       "      <th></th>\n",
       "      <th></th>\n",
       "      <th></th>\n",
       "      <th></th>\n",
       "      <th></th>\n",
       "      <th></th>\n",
       "      <th></th>\n",
       "    </tr>\n",
       "  </thead>\n",
       "  <tbody>\n",
       "    <tr>\n",
       "      <th>United States, Maine</th>\n",
       "      <td>231.0</td>\n",
       "      <td>0.183846</td>\n",
       "      <td>0.473111</td>\n",
       "      <td>-1.518077</td>\n",
       "      <td>-0.102519</td>\n",
       "      <td>0.166365</td>\n",
       "      <td>0.513198</td>\n",
       "      <td>1.362519</td>\n",
       "    </tr>\n",
       "    <tr>\n",
       "      <th>United States, Vermont</th>\n",
       "      <td>426.0</td>\n",
       "      <td>0.125832</td>\n",
       "      <td>0.574776</td>\n",
       "      <td>-1.837734</td>\n",
       "      <td>-0.237652</td>\n",
       "      <td>0.133906</td>\n",
       "      <td>0.563873</td>\n",
       "      <td>1.516792</td>\n",
       "    </tr>\n",
       "    <tr>\n",
       "      <th>United States, California</th>\n",
       "      <td>2320.0</td>\n",
       "      <td>0.107166</td>\n",
       "      <td>0.515948</td>\n",
       "      <td>-3.199859</td>\n",
       "      <td>-0.203632</td>\n",
       "      <td>0.129826</td>\n",
       "      <td>0.466887</td>\n",
       "      <td>1.415517</td>\n",
       "    </tr>\n",
       "    <tr>\n",
       "      <th>United States, New Mexico</th>\n",
       "      <td>61.0</td>\n",
       "      <td>0.062844</td>\n",
       "      <td>0.617193</td>\n",
       "      <td>-1.590671</td>\n",
       "      <td>-0.326977</td>\n",
       "      <td>0.114137</td>\n",
       "      <td>0.559598</td>\n",
       "      <td>1.172282</td>\n",
       "    </tr>\n",
       "    <tr>\n",
       "      <th>United States, Georgia</th>\n",
       "      <td>253.0</td>\n",
       "      <td>0.045996</td>\n",
       "      <td>0.462134</td>\n",
       "      <td>-1.311436</td>\n",
       "      <td>-0.247329</td>\n",
       "      <td>0.045842</td>\n",
       "      <td>0.353078</td>\n",
       "      <td>1.344551</td>\n",
       "    </tr>\n",
       "    <tr>\n",
       "      <th>Estonia</th>\n",
       "      <td>59.0</td>\n",
       "      <td>0.036721</td>\n",
       "      <td>0.567130</td>\n",
       "      <td>-1.118227</td>\n",
       "      <td>-0.462741</td>\n",
       "      <td>0.026469</td>\n",
       "      <td>0.432350</td>\n",
       "      <td>1.091648</td>\n",
       "    </tr>\n",
       "    <tr>\n",
       "      <th>United States, Alaska</th>\n",
       "      <td>87.0</td>\n",
       "      <td>0.006421</td>\n",
       "      <td>0.462141</td>\n",
       "      <td>-1.320580</td>\n",
       "      <td>-0.279923</td>\n",
       "      <td>-0.025459</td>\n",
       "      <td>0.331573</td>\n",
       "      <td>1.052375</td>\n",
       "    </tr>\n",
       "    <tr>\n",
       "      <th>United States, New York</th>\n",
       "      <td>996.0</td>\n",
       "      <td>-0.011019</td>\n",
       "      <td>0.469878</td>\n",
       "      <td>-1.680847</td>\n",
       "      <td>-0.293767</td>\n",
       "      <td>0.026104</td>\n",
       "      <td>0.321323</td>\n",
       "      <td>1.077818</td>\n",
       "    </tr>\n",
       "    <tr>\n",
       "      <th>United States, Illinois</th>\n",
       "      <td>1029.0</td>\n",
       "      <td>-0.037431</td>\n",
       "      <td>0.429992</td>\n",
       "      <td>-2.416453</td>\n",
       "      <td>-0.295651</td>\n",
       "      <td>-0.026500</td>\n",
       "      <td>0.250733</td>\n",
       "      <td>1.230551</td>\n",
       "    </tr>\n",
       "    <tr>\n",
       "      <th>United States, Iowa</th>\n",
       "      <td>112.0</td>\n",
       "      <td>-0.037493</td>\n",
       "      <td>0.604561</td>\n",
       "      <td>-1.372357</td>\n",
       "      <td>-0.439770</td>\n",
       "      <td>-0.075913</td>\n",
       "      <td>0.300389</td>\n",
       "      <td>1.692437</td>\n",
       "    </tr>\n",
       "  </tbody>\n",
       "</table>\n",
       "</div>"
      ],
      "text/plain": [
       "                            count      mean       std       min       25%  \\\n",
       "location                                                                    \n",
       "United States, Maine        231.0  0.183846  0.473111 -1.518077 -0.102519   \n",
       "United States, Vermont      426.0  0.125832  0.574776 -1.837734 -0.237652   \n",
       "United States, California  2320.0  0.107166  0.515948 -3.199859 -0.203632   \n",
       "United States, New Mexico    61.0  0.062844  0.617193 -1.590671 -0.326977   \n",
       "United States, Georgia      253.0  0.045996  0.462134 -1.311436 -0.247329   \n",
       "Estonia                      59.0  0.036721  0.567130 -1.118227 -0.462741   \n",
       "United States, Alaska        87.0  0.006421  0.462141 -1.320580 -0.279923   \n",
       "United States, New York     996.0 -0.011019  0.469878 -1.680847 -0.293767   \n",
       "United States, Illinois    1029.0 -0.037431  0.429992 -2.416453 -0.295651   \n",
       "United States, Iowa         112.0 -0.037493  0.604561 -1.372357 -0.439770   \n",
       "\n",
       "                                50%       75%       max  \n",
       "location                                                 \n",
       "United States, Maine       0.166365  0.513198  1.362519  \n",
       "United States, Vermont     0.133906  0.563873  1.516792  \n",
       "United States, California  0.129826  0.466887  1.415517  \n",
       "United States, New Mexico  0.114137  0.559598  1.172282  \n",
       "United States, Georgia     0.045842  0.353078  1.344551  \n",
       "Estonia                    0.026469  0.432350  1.091648  \n",
       "United States, Alaska     -0.025459  0.331573  1.052375  \n",
       "United States, New York    0.026104  0.321323  1.077818  \n",
       "United States, Illinois   -0.026500  0.250733  1.230551  \n",
       "United States, Iowa       -0.075913  0.300389  1.692437  "
      ]
     },
     "metadata": {},
     "output_type": "display_data"
    },
    {
     "data": {
      "image/png": "[encoded data removed]",
      "text/plain": [
       "<Figure size 2000x800 with 1 Axes>"
      ]
     },
     "metadata": {},
     "output_type": "display_data"
    }
   ],
   "source": [
    "#Compute the beers'average rating on the two website by creating new columns\n",
    "df_beer_breweries_flt['total_rating'] = df_beer_breweries_flt['nbr_ratings'] + df_beer_breweries_flt['nbr_ratings.1']\n",
    "df_beer_breweries_flt['zscore_common'] = df_beer_breweries_flt['nbr_ratings']/df_beer_breweries_flt['total_rating'] * df_beer_breweries_flt['zscore'] + df_beer_breweries_flt['nbr_ratings.1'] / df_beer_breweries_flt['total_rating'] * df_beer_breweries_flt['zscore.1']\n",
    "\n",
    "\n",
    "#Sort the dataframe by considering the 10 location with the best average rating\n",
    "avg_rating_location = df_beer_breweries_flt.groupby('location').zscore_common.describe()\n",
    "avg_rating_location.sort_values(by='mean', ascending=False, inplace=True)\n",
    "top_ten_best = avg_rating_location.head(10)\n",
    "display(top_ten_best)\n",
    "\n",
    "\n",
    "#Plot the result with stndard deviation as error bar\n",
    "pl = top_ten_best['mean'].plot(kind='bar', figsize=[20,8], rot=0, yerr=top_ten_best['std'])\n",
    "pl.set_title('Location with the best average rating')\n",
    "pl.set_ylabel('Average rating')\n",
    "pl.set_xlabel('Location')\n",
    "pl.set_xticklabels(top_ten_best.index, rotation=90)\n",
    "\n",
    "#Keep a copy the ranking \n",
    "top_ten_best_only_location = top_ten_best.index \n",
    "\n"
   ]
  },
  {
   "cell_type": "markdown",
   "metadata": {},
   "source": [
    "As we can see on the barplot above, the standard deviation in each location is quite huge. It shows that is a location, there are well-rated beers, but also some that are badly rated. The precision of this not good, but still give a good idea of the regions where the overall ratings of the beers is high."
   ]
  },
  {
   "cell_type": "code",
   "execution_count": 42,
   "metadata": {},
   "outputs": [
    {
     "data": {
      "text/html": [
       "<div>\n",
       "<style scoped>\n",
       "    .dataframe tbody tr th:only-of-type {\n",
       "        vertical-align: middle;\n",
       "    }\n",
       "\n",
       "    .dataframe tbody tr th {\n",
       "        vertical-align: top;\n",
       "    }\n",
       "\n",
       "    .dataframe thead th {\n",
       "        text-align: right;\n",
       "    }\n",
       "</style>\n",
       "<table border=\"1\" class=\"dataframe\">\n",
       "  <thead>\n",
       "    <tr style=\"text-align: right;\">\n",
       "      <th></th>\n",
       "      <th>count</th>\n",
       "      <th>mean</th>\n",
       "      <th>std</th>\n",
       "      <th>min</th>\n",
       "      <th>25%</th>\n",
       "      <th>50%</th>\n",
       "      <th>75%</th>\n",
       "      <th>max</th>\n",
       "    </tr>\n",
       "    <tr>\n",
       "      <th>location</th>\n",
       "      <th></th>\n",
       "      <th></th>\n",
       "      <th></th>\n",
       "      <th></th>\n",
       "      <th></th>\n",
       "      <th></th>\n",
       "      <th></th>\n",
       "      <th></th>\n",
       "    </tr>\n",
       "  </thead>\n",
       "  <tbody>\n",
       "    <tr>\n",
       "      <th>India</th>\n",
       "      <td>9.0</td>\n",
       "      <td>-2.288825</td>\n",
       "      <td>0.872045</td>\n",
       "      <td>-3.551164</td>\n",
       "      <td>-2.801557</td>\n",
       "      <td>-2.365467</td>\n",
       "      <td>-1.955389</td>\n",
       "      <td>-0.715524</td>\n",
       "    </tr>\n",
       "    <tr>\n",
       "      <th>Turkey</th>\n",
       "      <td>8.0</td>\n",
       "      <td>-2.184292</td>\n",
       "      <td>0.723807</td>\n",
       "      <td>-3.099231</td>\n",
       "      <td>-2.641925</td>\n",
       "      <td>-2.092501</td>\n",
       "      <td>-1.892948</td>\n",
       "      <td>-0.877841</td>\n",
       "    </tr>\n",
       "    <tr>\n",
       "      <th>Trinidad &amp; Tobago</th>\n",
       "      <td>7.0</td>\n",
       "      <td>-2.012406</td>\n",
       "      <td>1.132839</td>\n",
       "      <td>-2.687124</td>\n",
       "      <td>-2.611628</td>\n",
       "      <td>-2.351946</td>\n",
       "      <td>-2.164243</td>\n",
       "      <td>0.503969</td>\n",
       "    </tr>\n",
       "    <tr>\n",
       "      <th>Bahamas</th>\n",
       "      <td>6.0</td>\n",
       "      <td>-1.680188</td>\n",
       "      <td>0.737527</td>\n",
       "      <td>-2.177367</td>\n",
       "      <td>-2.150897</td>\n",
       "      <td>-2.010967</td>\n",
       "      <td>-1.549750</td>\n",
       "      <td>-0.288275</td>\n",
       "    </tr>\n",
       "    <tr>\n",
       "      <th>Philippines</th>\n",
       "      <td>5.0</td>\n",
       "      <td>-1.486746</td>\n",
       "      <td>0.499785</td>\n",
       "      <td>-1.788784</td>\n",
       "      <td>-1.770752</td>\n",
       "      <td>-1.681783</td>\n",
       "      <td>-1.588225</td>\n",
       "      <td>-0.604184</td>\n",
       "    </tr>\n",
       "    <tr>\n",
       "      <th>Faroe Islands</th>\n",
       "      <td>6.0</td>\n",
       "      <td>-1.463507</td>\n",
       "      <td>0.462709</td>\n",
       "      <td>-1.911502</td>\n",
       "      <td>-1.825751</td>\n",
       "      <td>-1.559192</td>\n",
       "      <td>-1.223854</td>\n",
       "      <td>-0.724477</td>\n",
       "    </tr>\n",
       "    <tr>\n",
       "      <th>Lithuania</th>\n",
       "      <td>23.0</td>\n",
       "      <td>-1.425476</td>\n",
       "      <td>0.630819</td>\n",
       "      <td>-2.724032</td>\n",
       "      <td>-1.868994</td>\n",
       "      <td>-1.269317</td>\n",
       "      <td>-0.941136</td>\n",
       "      <td>-0.392230</td>\n",
       "    </tr>\n",
       "    <tr>\n",
       "      <th>Cayman Islands</th>\n",
       "      <td>5.0</td>\n",
       "      <td>-1.403978</td>\n",
       "      <td>0.967026</td>\n",
       "      <td>-2.505088</td>\n",
       "      <td>-1.987803</td>\n",
       "      <td>-1.525055</td>\n",
       "      <td>-1.021435</td>\n",
       "      <td>0.019492</td>\n",
       "    </tr>\n",
       "    <tr>\n",
       "      <th>Taiwan</th>\n",
       "      <td>5.0</td>\n",
       "      <td>-1.201023</td>\n",
       "      <td>1.079984</td>\n",
       "      <td>-2.994090</td>\n",
       "      <td>-1.257439</td>\n",
       "      <td>-0.974745</td>\n",
       "      <td>-0.587663</td>\n",
       "      <td>-0.191180</td>\n",
       "    </tr>\n",
       "    <tr>\n",
       "      <th>Malta</th>\n",
       "      <td>10.0</td>\n",
       "      <td>-1.180339</td>\n",
       "      <td>0.818195</td>\n",
       "      <td>-2.410861</td>\n",
       "      <td>-1.938667</td>\n",
       "      <td>-0.921097</td>\n",
       "      <td>-0.495975</td>\n",
       "      <td>-0.277015</td>\n",
       "    </tr>\n",
       "  </tbody>\n",
       "</table>\n",
       "</div>"
      ],
      "text/plain": [
       "                   count      mean       std       min       25%       50%  \\\n",
       "location                                                                     \n",
       "India                9.0 -2.288825  0.872045 -3.551164 -2.801557 -2.365467   \n",
       "Turkey               8.0 -2.184292  0.723807 -3.099231 -2.641925 -2.092501   \n",
       "Trinidad & Tobago    7.0 -2.012406  1.132839 -2.687124 -2.611628 -2.351946   \n",
       "Bahamas              6.0 -1.680188  0.737527 -2.177367 -2.150897 -2.010967   \n",
       "Philippines          5.0 -1.486746  0.499785 -1.788784 -1.770752 -1.681783   \n",
       "Faroe Islands        6.0 -1.463507  0.462709 -1.911502 -1.825751 -1.559192   \n",
       "Lithuania           23.0 -1.425476  0.630819 -2.724032 -1.868994 -1.269317   \n",
       "Cayman Islands       5.0 -1.403978  0.967026 -2.505088 -1.987803 -1.525055   \n",
       "Taiwan               5.0 -1.201023  1.079984 -2.994090 -1.257439 -0.974745   \n",
       "Malta               10.0 -1.180339  0.818195 -2.410861 -1.938667 -0.921097   \n",
       "\n",
       "                        75%       max  \n",
       "location                               \n",
       "India             -1.955389 -0.715524  \n",
       "Turkey            -1.892948 -0.877841  \n",
       "Trinidad & Tobago -2.164243  0.503969  \n",
       "Bahamas           -1.549750 -0.288275  \n",
       "Philippines       -1.588225 -0.604184  \n",
       "Faroe Islands     -1.223854 -0.724477  \n",
       "Lithuania         -0.941136 -0.392230  \n",
       "Cayman Islands    -1.021435  0.019492  \n",
       "Taiwan            -0.587663 -0.191180  \n",
       "Malta             -0.495975 -0.277015  "
      ]
     },
     "metadata": {},
     "output_type": "display_data"
    },
    {
     "data": {
      "image/png": "[encoded data removed]",
      "text/plain": [
       "<Figure size 2000x800 with 1 Axes>"
      ]
     },
     "metadata": {},
     "output_type": "display_data"
    }
   ],
   "source": [
    "#Sorted the location considering the 10 location with the worst average rating and plot the result\n",
    "avg_rating_location = df_beer_breweries_flt.groupby('location').zscore_common.describe()\n",
    "avg_rating_location.sort_values(by='mean', ascending=True, inplace=True)\n",
    "top_ten_worst = avg_rating_location.head(10)\n",
    "display(top_ten_worst)\n",
    "\n",
    "\n",
    "#Plot the result with stndard deviation as error bar\n",
    "pl = top_ten_worst['mean'].plot(kind='bar', figsize=[20,8], rot=0, yerr=top_ten_worst['std'])\n",
    "pl.set_title('Location with the worst average rating')\n",
    "pl.set_ylabel('Average zscore')\n",
    "pl.set_xlabel('Location')\n",
    "pl.set_xticklabels(top_ten_worst.index, rotation=90)\n",
    "pl.set_ylim([-4, 4])\n",
    "\n",
    "#Keep a copy the ranking \n",
    "top_ten_worst_only_location = top_ten_worst.index \n"
   ]
  },
  {
   "cell_type": "markdown",
   "metadata": {},
   "source": [
    "This part is more for fun, because we have access to the worst locations, so why not to have a look at it!\n"
   ]
  },
  {
   "cell_type": "markdown",
   "metadata": {},
   "source": [
    "**BEER TRIP RELATIVELY TO THE NUMBER OF USERS**"
   ]
  },
  {
   "cell_type": "markdown",
   "metadata": {},
   "source": [
    "This part is not finish yet, because we need to import a dataframe from Wikipedia with the population from every location in order to compute the amount of user per individual. Then we are going to rank the region of the world with respect to the ones having a lot of reviewers in the population (in those countries, you are more likely to find people that love beers !)"
   ]
  },
  {
   "cell_type": "code",
   "execution_count": 19,
   "metadata": {},
   "outputs": [
    {
     "data": {
      "text/html": [
       "<div>\n",
       "<style scoped>\n",
       "    .dataframe tbody tr th:only-of-type {\n",
       "        vertical-align: middle;\n",
       "    }\n",
       "\n",
       "    .dataframe tbody tr th {\n",
       "        vertical-align: top;\n",
       "    }\n",
       "\n",
       "    .dataframe thead th {\n",
       "        text-align: right;\n",
       "    }\n",
       "</style>\n",
       "<table border=\"1\" class=\"dataframe\">\n",
       "  <thead>\n",
       "    <tr style=\"text-align: right;\">\n",
       "      <th></th>\n",
       "      <th>location</th>\n",
       "      <th>user_id</th>\n",
       "      <th>user_name</th>\n",
       "      <th>nbr_ratings_beer_advocate</th>\n",
       "      <th>nbr_ratings_ratebeer</th>\n",
       "    </tr>\n",
       "  </thead>\n",
       "  <tbody>\n",
       "    <tr>\n",
       "      <th>0</th>\n",
       "      <td>Spain</td>\n",
       "      <td>magicuenca.1185749</td>\n",
       "      <td>MAGICuenca</td>\n",
       "      <td>3</td>\n",
       "      <td>89</td>\n",
       "    </tr>\n",
       "    <tr>\n",
       "      <th>1</th>\n",
       "      <td>Germany</td>\n",
       "      <td>erzengel.248045</td>\n",
       "      <td>Erzengel</td>\n",
       "      <td>6</td>\n",
       "      <td>8781</td>\n",
       "    </tr>\n",
       "    <tr>\n",
       "      <th>2</th>\n",
       "      <td>United States, Virginia</td>\n",
       "      <td>gendv138.695700</td>\n",
       "      <td>GenDV138</td>\n",
       "      <td>1</td>\n",
       "      <td>6240</td>\n",
       "    </tr>\n",
       "    <tr>\n",
       "      <th>3</th>\n",
       "      <td>United States, Washington</td>\n",
       "      <td>nimbleprop.208928</td>\n",
       "      <td>nimbleprop</td>\n",
       "      <td>3</td>\n",
       "      <td>7452</td>\n",
       "    </tr>\n",
       "    <tr>\n",
       "      <th>4</th>\n",
       "      <td>Estonia</td>\n",
       "      <td>visionthing.639993</td>\n",
       "      <td>visionthing</td>\n",
       "      <td>11</td>\n",
       "      <td>5462</td>\n",
       "    </tr>\n",
       "    <tr>\n",
       "      <th>...</th>\n",
       "      <td>...</td>\n",
       "      <td>...</td>\n",
       "      <td>...</td>\n",
       "      <td>...</td>\n",
       "      <td>...</td>\n",
       "    </tr>\n",
       "    <tr>\n",
       "      <th>3336</th>\n",
       "      <td>United States, Michigan</td>\n",
       "      <td>ypsifly.8833</td>\n",
       "      <td>ypsifly</td>\n",
       "      <td>587</td>\n",
       "      <td>1</td>\n",
       "    </tr>\n",
       "    <tr>\n",
       "      <th>3337</th>\n",
       "      <td>United States, Texas</td>\n",
       "      <td>hardtarget.1712</td>\n",
       "      <td>HardTarget</td>\n",
       "      <td>1379</td>\n",
       "      <td>1</td>\n",
       "    </tr>\n",
       "    <tr>\n",
       "      <th>3338</th>\n",
       "      <td>United States, Delaware</td>\n",
       "      <td>deadterry.13629</td>\n",
       "      <td>DeadTerry</td>\n",
       "      <td>1</td>\n",
       "      <td>2</td>\n",
       "    </tr>\n",
       "    <tr>\n",
       "      <th>3339</th>\n",
       "      <td>Vietnam</td>\n",
       "      <td>nelsonsaigon.897449</td>\n",
       "      <td>nelsonsaigon</td>\n",
       "      <td>176</td>\n",
       "      <td>1</td>\n",
       "    </tr>\n",
       "    <tr>\n",
       "      <th>3340</th>\n",
       "      <td>Sweden</td>\n",
       "      <td>delikat.111593</td>\n",
       "      <td>Delikat</td>\n",
       "      <td>1</td>\n",
       "      <td>1</td>\n",
       "    </tr>\n",
       "  </tbody>\n",
       "</table>\n",
       "<p>3341 rows × 5 columns</p>\n",
       "</div>"
      ],
      "text/plain": [
       "                       location              user_id     user_name  \\\n",
       "0                         Spain   magicuenca.1185749    MAGICuenca   \n",
       "1                       Germany      erzengel.248045      Erzengel   \n",
       "2       United States, Virginia      gendv138.695700      GenDV138   \n",
       "3     United States, Washington    nimbleprop.208928    nimbleprop   \n",
       "4                       Estonia   visionthing.639993   visionthing   \n",
       "...                         ...                  ...           ...   \n",
       "3336    United States, Michigan         ypsifly.8833       ypsifly   \n",
       "3337       United States, Texas      hardtarget.1712    HardTarget   \n",
       "3338    United States, Delaware      deadterry.13629     DeadTerry   \n",
       "3339                    Vietnam  nelsonsaigon.897449  nelsonsaigon   \n",
       "3340                     Sweden       delikat.111593       Delikat   \n",
       "\n",
       "      nbr_ratings_beer_advocate  nbr_ratings_ratebeer  \n",
       "0                             3                    89  \n",
       "1                             6                  8781  \n",
       "2                             1                  6240  \n",
       "3                             3                  7452  \n",
       "4                            11                  5462  \n",
       "...                         ...                   ...  \n",
       "3336                        587                     1  \n",
       "3337                       1379                     1  \n",
       "3338                          1                     2  \n",
       "3339                        176                     1  \n",
       "3340                          1                     1  \n",
       "\n",
       "[3341 rows x 5 columns]"
      ]
     },
     "execution_count": 19,
     "metadata": {},
     "output_type": "execute_result"
    }
   ],
   "source": [
    "#To determine the locations where the population is the most passionate by beer. \n",
    "#We thought about computing the amount of reviewers per location relatively to the population of the location.\n",
    "df_users_approx_flt\n"
   ]
  },
  {
   "cell_type": "markdown",
   "metadata": {},
   "source": [
    "**ILLUSTRATION OF THE TRIPS ON A MAP**"
   ]
  },
  {
   "cell_type": "markdown",
   "metadata": {},
   "source": [
    "Not finish yet, it the part where we will show the trips given by each thematic. \n",
    "TO DO (for Milestone P3): \n",
    "We want to illustrate the trips relatively to the features on a map of the world to visualize well the steps of the trips. "
   ]
  },
  {
   "cell_type": "code",
   "execution_count": 20,
   "metadata": {},
   "outputs": [
    {
     "data": {
      "text/html": [
       "<div>\n",
       "<style scoped>\n",
       "    .dataframe tbody tr th:only-of-type {\n",
       "        vertical-align: middle;\n",
       "    }\n",
       "\n",
       "    .dataframe tbody tr th {\n",
       "        vertical-align: top;\n",
       "    }\n",
       "\n",
       "    .dataframe thead th {\n",
       "        text-align: right;\n",
       "    }\n",
       "</style>\n",
       "<table border=\"1\" class=\"dataframe\">\n",
       "  <thead>\n",
       "    <tr style=\"text-align: right;\">\n",
       "      <th></th>\n",
       "      <th>location</th>\n",
       "      <th>avg</th>\n",
       "      <th>count</th>\n",
       "    </tr>\n",
       "  </thead>\n",
       "  <tbody>\n",
       "    <tr>\n",
       "      <th>66</th>\n",
       "      <td>Mauritius</td>\n",
       "      <td>4.950000</td>\n",
       "      <td>12</td>\n",
       "    </tr>\n",
       "    <tr>\n",
       "      <th>129</th>\n",
       "      <td>United States, Maine</td>\n",
       "      <td>3.943314</td>\n",
       "      <td>363</td>\n",
       "    </tr>\n",
       "    <tr>\n",
       "      <th>50</th>\n",
       "      <td>Ireland</td>\n",
       "      <td>3.919448</td>\n",
       "      <td>167</td>\n",
       "    </tr>\n",
       "    <tr>\n",
       "      <th>155</th>\n",
       "      <td>United States, Vermont</td>\n",
       "      <td>3.909731</td>\n",
       "      <td>699</td>\n",
       "    </tr>\n",
       "    <tr>\n",
       "      <th>142</th>\n",
       "      <td>United States, New York</td>\n",
       "      <td>3.889848</td>\n",
       "      <td>1718</td>\n",
       "    </tr>\n",
       "    <tr>\n",
       "      <th>...</th>\n",
       "      <td>...</td>\n",
       "      <td>...</td>\n",
       "      <td>...</td>\n",
       "    </tr>\n",
       "    <tr>\n",
       "      <th>57</th>\n",
       "      <td>Laos</td>\n",
       "      <td>3.015000</td>\n",
       "      <td>6</td>\n",
       "    </tr>\n",
       "    <tr>\n",
       "      <th>70</th>\n",
       "      <td>Mozambique</td>\n",
       "      <td>2.920000</td>\n",
       "      <td>6</td>\n",
       "    </tr>\n",
       "    <tr>\n",
       "      <th>6</th>\n",
       "      <td>Bahamas</td>\n",
       "      <td>2.865000</td>\n",
       "      <td>6</td>\n",
       "    </tr>\n",
       "    <tr>\n",
       "      <th>106</th>\n",
       "      <td>Trinidad &amp; Tobago</td>\n",
       "      <td>2.747500</td>\n",
       "      <td>8</td>\n",
       "    </tr>\n",
       "    <tr>\n",
       "      <th>107</th>\n",
       "      <td>Turkey</td>\n",
       "      <td>2.726250</td>\n",
       "      <td>8</td>\n",
       "    </tr>\n",
       "  </tbody>\n",
       "</table>\n",
       "<p>119 rows × 3 columns</p>\n",
       "</div>"
      ],
      "text/plain": [
       "                    location       avg  count\n",
       "66                 Mauritius  4.950000     12\n",
       "129     United States, Maine  3.943314    363\n",
       "50                   Ireland  3.919448    167\n",
       "155   United States, Vermont  3.909731    699\n",
       "142  United States, New York  3.889848   1718\n",
       "..                       ...       ...    ...\n",
       "57                      Laos  3.015000      6\n",
       "70                Mozambique  2.920000      6\n",
       "6                    Bahamas  2.865000      6\n",
       "106        Trinidad & Tobago  2.747500      8\n",
       "107                   Turkey  2.726250      8\n",
       "\n",
       "[119 rows x 3 columns]"
      ]
     },
     "metadata": {},
     "output_type": "display_data"
    },
    {
     "data": {
      "text/html": [
       "<div>\n",
       "<style scoped>\n",
       "    .dataframe tbody tr th:only-of-type {\n",
       "        vertical-align: middle;\n",
       "    }\n",
       "\n",
       "    .dataframe tbody tr th {\n",
       "        vertical-align: top;\n",
       "    }\n",
       "\n",
       "    .dataframe thead th {\n",
       "        text-align: right;\n",
       "    }\n",
       "</style>\n",
       "<table border=\"1\" class=\"dataframe\">\n",
       "  <thead>\n",
       "    <tr style=\"text-align: right;\">\n",
       "      <th></th>\n",
       "      <th>location</th>\n",
       "      <th>count</th>\n",
       "    </tr>\n",
       "  </thead>\n",
       "  <tbody>\n",
       "    <tr>\n",
       "      <th>0</th>\n",
       "      <td>Albania</td>\n",
       "      <td>1</td>\n",
       "    </tr>\n",
       "    <tr>\n",
       "      <th>1</th>\n",
       "      <td>Algeria</td>\n",
       "      <td>4</td>\n",
       "    </tr>\n",
       "    <tr>\n",
       "      <th>2</th>\n",
       "      <td>Angola</td>\n",
       "      <td>1</td>\n",
       "    </tr>\n",
       "    <tr>\n",
       "      <th>3</th>\n",
       "      <td>Argentina</td>\n",
       "      <td>19</td>\n",
       "    </tr>\n",
       "    <tr>\n",
       "      <th>4</th>\n",
       "      <td>Australia</td>\n",
       "      <td>711</td>\n",
       "    </tr>\n",
       "    <tr>\n",
       "      <th>...</th>\n",
       "      <td>...</td>\n",
       "      <td>...</td>\n",
       "    </tr>\n",
       "    <tr>\n",
       "      <th>170</th>\n",
       "      <td>Vanuatu</td>\n",
       "      <td>2</td>\n",
       "    </tr>\n",
       "    <tr>\n",
       "      <th>171</th>\n",
       "      <td>Vietnam</td>\n",
       "      <td>19</td>\n",
       "    </tr>\n",
       "    <tr>\n",
       "      <th>172</th>\n",
       "      <td>Virgin Islands (U.S.)</td>\n",
       "      <td>1</td>\n",
       "    </tr>\n",
       "    <tr>\n",
       "      <th>173</th>\n",
       "      <td>Wales</td>\n",
       "      <td>225</td>\n",
       "    </tr>\n",
       "    <tr>\n",
       "      <th>174</th>\n",
       "      <td>Zimbabwe</td>\n",
       "      <td>3</td>\n",
       "    </tr>\n",
       "  </tbody>\n",
       "</table>\n",
       "<p>175 rows × 2 columns</p>\n",
       "</div>"
      ],
      "text/plain": [
       "                  location  count\n",
       "0                  Albania      1\n",
       "1                  Algeria      4\n",
       "2                   Angola      1\n",
       "3                Argentina     19\n",
       "4                Australia    711\n",
       "..                     ...    ...\n",
       "170                Vanuatu      2\n",
       "171                Vietnam     19\n",
       "172  Virgin Islands (U.S.)      1\n",
       "173                  Wales    225\n",
       "174               Zimbabwe      3\n",
       "\n",
       "[175 rows x 2 columns]"
      ]
     },
     "metadata": {},
     "output_type": "display_data"
    }
   ],
   "source": [
    "#new.location.apply(lambda x: x.split(', '))\n",
    "tmp = df_beer_breweries_clean.groupby('location').size().reset_index(name='count')\n",
    "new = df_beer_breweries_clean.groupby('location').avg.mean().reset_index().dropna()\n",
    "#remove everything after the string United States, in the location coumn\n",
    "\n",
    "\n",
    "\n",
    "#add the count column to the new df\n",
    "new = pd.merge(new, tmp, on='location', how='left')\n",
    "new = new[new['count'] > 5]\n",
    "\n",
    "#sort new df by avg\n",
    "new = new.sort_values(by=['avg'], ascending=False)\n",
    "\n",
    "display(new, tmp)"
   ]
  },
  {
   "cell_type": "code",
   "execution_count": 21,
   "metadata": {},
   "outputs": [
    {
     "ename": "NameError",
     "evalue": "name 'json' is not defined",
     "output_type": "error",
     "traceback": [
      "\u001b[1;31m---------------------------------------------------------------------------\u001b[0m",
      "\u001b[1;31mNameError\u001b[0m                                 Traceback (most recent call last)",
      "\u001b[1;32mc:\\Users\\nicol\\Desktop\\Project_ADA\\matched_data.ipynb Cell 37\u001b[0m line \u001b[0;36m1\n\u001b[1;32m----> <a href='vscode-notebook-cell:/c%3A/Users/nicol/Desktop/Project_ADA/matched_data.ipynb#X51sZmlsZQ%3D%3D?line=0'>1</a>\u001b[0m countries \u001b[39m=\u001b[39m json\u001b[39m.\u001b[39mload(\u001b[39mopen\u001b[39m(\u001b[39m'\u001b[39m\u001b[39m../beer_data/custom.geo.json\u001b[39m\u001b[39m'\u001b[39m, \u001b[39m'\u001b[39m\u001b[39mr\u001b[39m\u001b[39m'\u001b[39m))\n\u001b[0;32m      <a href='vscode-notebook-cell:/c%3A/Users/nicol/Desktop/Project_ADA/matched_data.ipynb#X51sZmlsZQ%3D%3D?line=1'>2</a>\u001b[0m countries_id_map \u001b[39m=\u001b[39m {}\n\u001b[0;32m      <a href='vscode-notebook-cell:/c%3A/Users/nicol/Desktop/Project_ADA/matched_data.ipynb#X51sZmlsZQ%3D%3D?line=3'>4</a>\u001b[0m \u001b[39mfor\u001b[39;00m feature \u001b[39min\u001b[39;00m countries[\u001b[39m'\u001b[39m\u001b[39mfeatures\u001b[39m\u001b[39m'\u001b[39m]:\n",
      "\u001b[1;31mNameError\u001b[0m: name 'json' is not defined"
     ]
    }
   ],
   "source": [
    "countries = json.load(open('../beer_data/custom.geo.json', 'r'))\n",
    "countries_id_map = {}\n",
    "\n",
    "for feature in countries['features']:\n",
    "    feature['id'] = feature['properties']['name_long']\n",
    "    countries_id_map[feature['properties']['name_long']] = feature['id']\n",
    "\n",
    "new['id'] = new['location'].apply(lambda x: countries_id_map[x])"
   ]
  },
  {
   "cell_type": "code",
   "execution_count": null,
   "metadata": {},
   "outputs": [],
   "source": [
    "fig =  px.choropleth(new, \n",
    "                     geojson=countries, # geojson file to use\n",
    "                     locations=\"location\", # which column to use to set the color of markers\n",
    "                     color = 'avg', # color of markers can be a single color value or an iterable\n",
    "                     projection=\"orthographic\",\n",
    "                     )\n",
    "\n",
    "\n",
    "fig.show()"
   ]
  },
  {
   "cell_type": "markdown",
   "metadata": {},
   "source": [
    "### Calculation of the overall ranking: "
   ]
  },
  {
   "cell_type": "markdown",
   "metadata": {},
   "source": [
    "This part is not finish yet, because we didn't build all the rankings (so we don't know how many weights we will need). But the idea is to ask couple questions to the customers in order to determine which rankings are important for them. Then, with respect to the answers given, we assign some weights in order to emphasize the importance of some rankings compare to the others. For the moment, we implement the function with 5 weights."
   ]
  },
  {
   "cell_type": "code",
   "execution_count": null,
   "metadata": {},
   "outputs": [],
   "source": [
    "#Compute the overall ranking based on the previous rankings (assume 10 rankings)\n",
    "def overall_ranking(w1, w2, w3, w4, w5) :\n",
    "    '''\n",
    "    Plot the overall ranking based on the previous rankings and their respective weights, given by the customer. \n",
    "    The weights must be between 0 and 1 and must sum to 1.\n",
    "\n",
    "    Args :\n",
    "        w1 : weight of the ranking 1\n",
    "        w2 : weight of the ranking 2\n",
    "        w3 : weight of the ranking 3\n",
    "        w4 : weight of the ranking 4\n",
    "        w5 : weight of the ranking 5 \n",
    "    '''\n",
    "    # Add the point for each ranking \n",
    "    df_density_top10 = pd.DataFrame({'location': top_ten_density_location, 'score' : [10,9,8,7,6,5,4,3,2,1]})\n",
    "    df_bestratings_top10 = pd.DataFrame({'location': top_ten_best_only_location, 'score' : [10,9,8,7,6,5,4,3,2,1]})\n",
    "    df_worstratings_top10 = pd.DataFrame({'location': top_ten_worst_only_location, 'score' : [10,9,8,7,6,5,4,3,2,1]})  \n",
    "    df_strongest_abv_top10 = pd.DataFrame({'location': top_ten_abv_only_location, 'score' : [10,9,8,7,6,5,4,3,2,1]})\n",
    "    df_softest_abv_top10 = pd.DataFrame({'location': top_ten_abv_only_location, 'score' : [10,9,8,7,6,5,4,3,2,1]})\n",
    "\n",
    "    # Apply the weights to the score\n",
    "    df_density_top10['score'] = df_density_top10['score'] * w1\n",
    "    df_bestratings_top10['score'] = df_bestratings_top10['score'] * w2\n",
    "    df_worstratings_top10['score'] = df_worstratings_top10['score'] * w3\n",
    "    df_strongest_abv_top10['score'] = df_strongest_abv_top10['score'] * w4\n",
    "    df_softest_abv_top10['score'] = df_softest_abv_top10['score'] * w5\n",
    "\n",
    "    # Merge all the dataframes\n",
    "    df_overall = pd.merge(df_density_top10, df_bestratings_top10, on='location', how='outer')\n",
    "    df_overall = pd.merge(df_overall, df_worstratings_top10, on='location', how='outer')\n",
    "    df_overall = pd.merge(df_overall, df_strongest_abv_top10, on='location', how='outer')\n",
    "    df_overall = pd.merge(df_overall, df_softest_abv_top10, on='location', how='outer')\n",
    "\n",
    "\n",
    "### TO DO : \n",
    "# change the number in Args (docstring) by the name of the rankings (ex : % of alcohol, density of breweries, etc)\n",
    "# plot the overall ranking\n",
    "# return a dataframe with the overall ranking location (only location, don't need the score anymore)\n"
   ]
  },
  {
   "cell_type": "markdown",
   "metadata": {},
   "source": [
    "### Find additional useful travel informations: "
   ]
  },
  {
   "cell_type": "markdown",
   "metadata": {},
   "source": [
    "TO DO (for Milestone P3): \n",
    "After having the overall ranking, we need to find the best breweries (the ones with the best beers) in each location and also the best users (the ones with the most ratings)"
   ]
  }
 ],
 "metadata": {
  "kernelspec": {
   "display_name": "base",
   "language": "python",
   "name": "python3"
  },
  "language_info": {
   "codemirror_mode": {
    "name": "ipython",
    "version": 3
   },
   "file_extension": ".py",
   "mimetype": "text/x-python",
   "name": "python",
   "nbconvert_exporter": "python",
   "pygments_lexer": "ipython3",
   "version": "3.12.0"
  }
 },
 "nbformat": 4,
 "nbformat_minor": 2
}
