{
 "cells": [
  {
   "cell_type": "code",
   "execution_count": 1,
   "metadata": {},
   "outputs": [],
   "source": [
    "import pandas as pd\n",
    "import numpy as np \n",
    "import matplotlib.pyplot as plt\n",
    "import seaborn as sns\n",
    "import plotly.express as px\n",
    "import requests\n",
    "from bs4 import BeautifulSoup\n",
    "\n",
    "#Display all columns\n",
    "pd.set_option('display.max_columns', None)\n",
    "plt.style.use('ggplot')\n",
    "\n",
    "%matplotlib inline"
   ]
  },
  {
   "cell_type": "markdown",
   "metadata": {},
   "source": [
    "## Summary of the main features "
   ]
  },
  {
   "cell_type": "markdown",
   "metadata": {},
   "source": [
    "|Dataset (site) |Name | Type  | Description   |\n",
    "| -------- | -------- | -------- | -------- |\n",
    "|beers.csv||||\n",
    "|beers (Ba, Rb)|  abv  | Series - float  | Indicates the beer's alcohol by volume (%)|\n",
    "|beers (Ba, Rb)|  avg  | Series - float  | Average rating given to the beer (averaging scores of different factors for each beer)|\n",
    "|beers (Ba, Rb)|  avg_computed | Series - float  | ? |\n",
    "|beers (Ba, Rb)|  avg_matched_valid_ratings | Series - float  | average of valid ratings (from users following certains criteria) |\n",
    "|beers (Ba)|  ba_score  | Series - float  |Score for the beer advocate (ba) website|\n",
    "|beers (Ba, Rb)|  beer_id  | Series - int  | Unique ID of each beer|\n",
    "|beers (Ba, Rb)|  beer_name  | Series - string  | Name of the beer |\n",
    "|beers (Ba, Rb)|  beer_wout_brewery_name  | Series - string  | name of the beer without the brewery name in it|\n",
    "|beers (Ba, Rb)|  brewery_id  | Series - int  | Unique ID for each brewery the beers belong to|\n",
    "|beers (Ba, Rb)|  brewery_name  | Series - string  | Name of the brewery|\n",
    "|beers (Ba)|  bros_score  | Series - int  | score given by admins of the website |\n",
    "|beers (Ba, Rb)|  nbr_matched_valid_ratings  | Series - int | number of valid ratings for this beer (rating/user follows certain criteria)|\n",
    "|beers (Ba, Rb)|  nbr_ratings  | Series - int | total amount of ratigns for this beer |\n",
    "|beers (Ba, Rb)|  nrb_reviews  | Series - int  | total number of text reviews for this beer|\n",
    "|beers (Ba, Rb)| style |Series - string| style of beer (e.g. pale ale, irish dry stout...)|\n",
    "|beers (Ba, Rb)| z_score |Series - float| standardized rating for this beer |\n",
    "|beers (Rb)| overall_score | Series - float| average of the beer's overall rating given by the users|\n",
    "|beers (Rb)| style_score | Series - float | average rating for beers of this style|\n",
    "|beers| diff | Series - flaot| difference in score between Rb and Ba for this beer (between 0 and 1)|\n",
    "|beers| sim | Series - float| similarity in score between Rb and Ba for this beer (between 0 and 1)|\n",
    "| breweries.csv |  |  |  |\n",
    "|breweries (Ba, Rb)| id |Series - int| unique ID for each brewery|\n",
    "|breweries (Ba, Rb)| location |Series - string| full name of the state (USA) or country of origin of the brewery |\n",
    "|breweries (Ba, Rb)| name |Series - string| full name of the brewery |\n",
    "|breweries (Ba, Rb)| nbr_beers |Series - int| number of different beers brewed in this brewery|\n",
    "| users.csv |  |  |  |\n",
    "| users (Ba, Rb) | joined | Series - int | Unix timestamp for when the user joined the website |\n",
    "| users (Ba, Rb) | location | Series - string | full name of the state (USA) or country of the user |\n",
    "| users (Ba, Rb) | nbr_ratings | Series - int | total number of ratings given by the user |\n",
    "| users (Ba, Rb) | nbr_reviews | Series - int | total number of rewviews given by the user |\n",
    "| users (Ba, Rb) | user_id | Series - string | unique user ID in the format: username.ID |\n",
    "| users (Ba, Rb) | user_name | Series - string | username |\n",
    "| users (Ba, Rb) | user_name_lowercase | Series - string | username in lower case |"
   ]
  },
  {
   "cell_type": "markdown",
   "metadata": {},
   "source": [
    "## Data preprocessing:"
   ]
  },
  {
   "cell_type": "markdown",
   "metadata": {},
   "source": [
    "### Importing new datasets and cleaning them "
   ]
  },
  {
   "cell_type": "code",
   "execution_count": 2,
   "metadata": {},
   "outputs": [
    {
     "data": {
      "text/plain": [
       "Index(['State', 'Rank', 'sq mi', 'km2', 'Rank.1', 'sq mi.1', 'km2.1', '% land',\n",
       "       'Rank.2', 'sq mi.2', 'km2.2', '% water'],\n",
       "      dtype='object')"
      ]
     },
     "metadata": {},
     "output_type": "display_data"
    },
    {
     "data": {
      "text/plain": [
       "Index(['Unnamed: 0', 'Country / dependency', 'Total in km2 (mi2)',\n",
       "       'Land in km2 (mi2)', 'Water in km2 (mi2)', '% water', 'Unnamed: 6'],\n",
       "      dtype='object')"
      ]
     },
     "metadata": {},
     "output_type": "display_data"
    },
    {
     "name": "stdout",
     "output_type": "stream",
     "text": [
      "(323, 2)\n",
      "(327, 2)\n"
     ]
    }
   ],
   "source": [
    "#wikipedia dataset for states (US) superficies\n",
    "wiki_url_4usa = 'https://en.wikipedia.org/wiki/List_of_U.S._states_and_territories_by_area'\n",
    "#Get the html of the pages\n",
    "response_us = requests.get(wiki_url_4usa)\n",
    "soup_us = BeautifulSoup(response_us.text,'lxml')\n",
    "\n",
    "#Find the useful table from in the html and convert it into pandas df \n",
    "superficies_list_us = soup_us.find('table', attrs={'class':\"wikitable\"})\n",
    "df_superficies_us = pd.read_html(str(superficies_list_us), header=1)[0]\n",
    "display(df_superficies_us.columns)\n",
    "\n",
    "#Clean the datafram\n",
    "df_superficies_us = df_superficies_us[['State', 'km2']] #Keep only the columns we need\n",
    "df_superficies_us['State'] = 'United States, ' + df_superficies_us['State'] #add the country name to be consistent with the other dataset\n",
    "df_superficies_us = df_superficies_us.rename(columns={'State': 'location'}) #rename the column\n",
    "df_superficies_us = df_superficies_us[:-3] #remove the last 3 rows (not states)\n",
    "df_superficies_us['km2'] = df_superficies_us['km2'].astype(float) #convert the km2 column to int\n",
    "\n",
    "#_______________________________________________________________________________________________________________________\n",
    "\n",
    "#wikipedia dataset for country superficies\n",
    "wiki_url = 'https://en.wikipedia.org/wiki/List_of_countries_and_dependencies_by_area'\n",
    "\n",
    "#Get the html of the pages\n",
    "response = requests.get(wiki_url)\n",
    "soup = BeautifulSoup(response.text,'lxml')\n",
    "\n",
    "#Find the useful table from in the html and convert it into pandas df \n",
    "superficies_list = soup.find('table',attrs={'class':\"wikitable\"})\n",
    "df_superficies = pd.read_html(str(superficies_list))[0]\n",
    "display(df_superficies.columns)\n",
    "\n",
    "\n",
    "#Keep only the columns we need and clean them\n",
    "df_superficies = df_superficies[['Country / dependency', 'Total in km2 (mi2)']]\n",
    "df_superficies.rename(columns={'Country / dependency':'location', 'Total in km2 (mi2)':'km2'}, inplace=True) #rename the columns\n",
    "df_superficies['km2'] = df_superficies['km2'].str.replace(',', '') #remove the comma\n",
    "df_superficies['km2'] = df_superficies['km2'].str.split(' ').str[0]  #remove the text in parenthesis (mi2)\n",
    "df_superficies['location'] = df_superficies['location'].str.replace(r'\\s*\\([^)]*\\)', '', regex=True)  #Remove all parenthesis and text inside in the location (ex : remove (China) in 'Hong Kong (China)')\n",
    "df_superficies['km2'] = df_superficies['km2'].astype(float) #convert the km2 column to int\n",
    "\n",
    "#Change the name of the countries to be consistent with the other dataset\n",
    "df_superficies.location = df_superficies.location.replace({'Slovakia' : 'Slovak Republic', 'North Macedonia' : 'Macedonia', 'Trinidad and Tobago' : 'Trinidad & Tobago'})\n",
    "\n",
    "#________________________________________________________________\n",
    "\n",
    "#Dataset for UK coutries superficies to be consistent with the other dataset (breweries and beers)\n",
    "df_superficies_uk = pd.DataFrame({'location': ['England', 'Scotland', 'Wales', 'Northern Ireland'], \n",
    "                                  'km2': [130279, 78772, 20779, 14130]}) #create the dataframe (small so easy to do it manually)\n",
    "\n",
    "#_______________________________________________________________________________________________________________________\n",
    "\n",
    "#Concatenate the two first dataframe \n",
    "df_superficies_temp = pd.concat([df_superficies, df_superficies_us]) #concatenate the two dataframe\n",
    "print(np.shape(df_superficies_temp))\n",
    "\n",
    "#Merging the dataframes with the UK dataframe\n",
    "df_superficies_tot = pd.concat([df_superficies_temp, df_superficies_uk])\n",
    "print(np.shape(df_superficies_tot))"
   ]
  },
  {
   "cell_type": "markdown",
   "metadata": {},
   "source": [
    "### Matched websites "
   ]
  },
  {
   "cell_type": "markdown",
   "metadata": {},
   "source": [
    "#### Loading the data"
   ]
  },
  {
   "cell_type": "code",
   "execution_count": 3,
   "metadata": {},
   "outputs": [],
   "source": [
    "#RateBeer and Beer Advocate matched website data :\n",
    "\n",
    "df_beer = pd.read_csv(\"matched_beer_data/beers.csv\", header=1)\n",
    "df_breweries  = pd.read_csv(\"matched_beer_data/breweries.csv\", header=1)\n",
    "df_users = pd.read_csv(\"matched_beer_data/users.csv\", header=1)\n",
    "df_rating = pd.read_csv(\"matched_beer_data/ratings.csv\", header=1)\n",
    "df_users_approx = pd.read_csv(\"matched_beer_data/users_approx.csv\", header=1)"
   ]
  },
  {
   "cell_type": "markdown",
   "metadata": {},
   "source": [
    "#### Merging, cleaning and visualize the matched datasets (beers and breweries)"
   ]
  },
  {
   "cell_type": "code",
   "execution_count": 4,
   "metadata": {},
   "outputs": [],
   "source": [
    "#Merge the two dataframes on the brewery_id column with respect to the beers to have access to the location of every beer\n",
    "df_beer_breweries = pd.merge(df_beer, df_breweries, left_on='brewery_id', right_on='id', how='left')\n",
    "\n",
    "#Clean the dataframe by dropping the columns that are not useful for the analysis\n",
    "df_beer_breweries_clean = df_beer_breweries.drop(['beer_wout_brewery_name', 'beer_wout_brewery_name.1', 'style','abv.1', 'id', 'id.1', 'name', 'name.1', 'beer_name.1', 'brewery_name.1', 'location.1', 'nbr_beers.1'], axis=1)\n",
    "\n",
    "\n",
    "#Choose to keep style from RateBeer and drop the style from Beer Advocate (the style from Beer Advocate is too precise)\n",
    "df_beer_breweries_clean.rename(columns={'style.1':'style'}, inplace=True)\n",
    "\n",
    "#In the data set, the features with .1 at the end are the ones from Beer Advocate and the ones without .1 are the ones from RateBeer"
   ]
  },
  {
   "cell_type": "markdown",
   "metadata": {},
   "source": [
    "#### Merging and cleaning the matched datasets (superficies and breweries)"
   ]
  },
  {
   "cell_type": "code",
   "execution_count": 5,
   "metadata": {},
   "outputs": [],
   "source": [
    "#Merge the dataframe with the superficies dataframe to have access to the superficies of every beer\n",
    "df_breweries_superficies = pd.merge(df_breweries, df_superficies_tot, on='location', how='left')\n",
    "\n",
    "#Drop row with NaN values in km2 column\n",
    "df_breweries_superficies = df_breweries_superficies.dropna(subset=['km2'])\n",
    "\n",
    "#Drop the location with less than 5 breweries (to do a beer trip, we need to have different breweries to visit!)\n",
    "df_breweries_superficies_flt = df_breweries_superficies.groupby('location').filter(lambda x: len(x) >= 5)\n",
    "\n",
    "#In the data set, the features with .1 at the end are the ones from Beer Advocate and the ones without .1 are the ones from RateBeer"
   ]
  },
  {
   "cell_type": "markdown",
   "metadata": {},
   "source": [
    "#### Cleaning the dataset about users"
   ]
  },
  {
   "cell_type": "markdown",
   "metadata": {},
   "source": [
    "This part is not finish yet, we need to merge it with the dataframe imported from Wikipedia with the population of the locations, because the goal of this preprocessing is to express finally the places where there are the biggest amount of \"expert\" per capita. "
   ]
  },
  {
   "cell_type": "code",
   "execution_count": 6,
   "metadata": {},
   "outputs": [],
   "source": [
    "#Selection of the columns to keep and rename them\n",
    "df_users_approx_flt = df_users_approx[['location', 'user_id', 'user_name', 'nbr_ratings', 'nbr_ratings.1']]\n",
    "df_users_approx_flt = df_users_approx_flt.rename(columns={'nbr_ratings':'nbr_ratings_beer_advocate', 'nbr_ratings.1':'nbr_ratings_ratebeer'})\n",
    "\n",
    "\n",
    "#Check that every user has at least one rating in each website (insure that the user is active)\n",
    "df_users_approx_flt = df_users_approx_flt.drop(df_users_approx_flt[(df_users_approx_flt['nbr_ratings_beer_advocate'] == 0) | (df_users_approx_flt['nbr_ratings_ratebeer'] == 0)].index)  # Drop rows where there is no ratings in one of the two websites\n"
   ]
  },
  {
   "cell_type": "markdown",
   "metadata": {},
   "source": [
    "### RateBeer Website"
   ]
  },
  {
   "cell_type": "markdown",
   "metadata": {},
   "source": [
    "#### Loading the datasets from RateBeer and drop nan values"
   ]
  },
  {
   "cell_type": "code",
   "execution_count": 7,
   "metadata": {},
   "outputs": [],
   "source": [
    "#RateBeer website data :\n",
    "\n",
    "df_beer_RB = pd.read_csv(\"RateBeer/beers.csv\", index_col='beer_id')\n",
    "df_breweries_RB  = pd.read_csv(\"RateBeer/breweries.csv\")\n",
    "df_users_RB = pd.read_csv(\"RateBeer/users.csv\")\n",
    "\n",
    "#Remove raws with NaN values\n",
    "df_beer_RB= df_beer_RB.dropna(subset=[\"zscore\"])\n"
   ]
  },
  {
   "cell_type": "markdown",
   "metadata": {},
   "source": [
    "#### Data exploration on df_beer"
   ]
  },
  {
   "cell_type": "markdown",
   "metadata": {},
   "source": [
    "We decided to work with the data of each website separatly to take into account users which would only be active on one site. This will allow us to later compare the best beers for our world tour.\n",
    "Here we don't care about the z-score and the rating score because we will recompute them based only on the best reviewers. We just clean and explore the data from the beers and the users that are not relevant."
   ]
  },
  {
   "cell_type": "markdown",
   "metadata": {},
   "source": [
    "First we explore the nbr_ratings per beer, the basic descriptive statistics, it's distribution and some visualization. "
   ]
  },
  {
   "cell_type": "code",
   "execution_count": 8,
   "metadata": {},
   "outputs": [
    {
     "data": {
      "image/png": "[encoded data removed]",
      "text/plain": [
       "<Figure size 720x720 with 1 Axes>"
      ]
     },
     "metadata": {
      "needs_background": "light"
     },
     "output_type": "display_data"
    }
   ],
   "source": [
    "# Count the number of beers for each number of ratings\n",
    "reviews_counts = df_beer_RB['nbr_ratings'].value_counts().sort_index()\n",
    "\n",
    "# Plot the distribution of number of ratings per beer\n",
    "plt.figure(figsize=(10,10))\n",
    "plt.bar(reviews_counts.index, reviews_counts.values, color='skyblue', edgecolor='black')\n",
    "plt.xlabel('Number of Ratings')\n",
    "plt.ylabel('Number of Beers')\n",
    "plt.yscale('log')\n",
    "plt.title('Distribution of Number of Ratings per Beer')\n",
    "plt.grid(axis='y')\n",
    "plt.show()"
   ]
  },
  {
   "cell_type": "code",
   "execution_count": 9,
   "metadata": {},
   "outputs": [
    {
     "name": "stdout",
     "output_type": "stream",
     "text": [
      "(10708, 13) (4255, 13) (2142, 13) (850, 13) (424, 13)\n"
     ]
    }
   ],
   "source": [
    "# Get an idea of the distribution of the number of ratings per beer\n",
    "\n",
    "# Choose different quantile thresholds \n",
    "ratings_threshold75 = df_beer_RB['nbr_ratings'].quantile(0.75)\n",
    "ratings_threshold90 = df_beer_RB['nbr_ratings'].quantile(0.90)\n",
    "ratings_threshold95 = df_beer_RB['nbr_ratings'].quantile(0.95)\n",
    "ratings_threshold98 = df_beer_RB['nbr_ratings'].quantile(0.98)\n",
    "ratings_threshold99 = df_beer_RB['nbr_ratings'].quantile(0.99)\n",
    "\n",
    "# Filter beers based on the threshold\n",
    "filtered_beers75 = df_beer_RB[df_beer_RB['nbr_ratings'] >= ratings_threshold75]\n",
    "filtered_beers90 = df_beer_RB[df_beer_RB['nbr_ratings'] >= ratings_threshold90]\n",
    "filtered_beers95 = df_beer_RB[df_beer_RB['nbr_ratings'] >= ratings_threshold95]\n",
    "filtered_beers98 = df_beer_RB[df_beer_RB['nbr_ratings'] >= ratings_threshold98]\n",
    "filtered_beers99 = df_beer_RB[df_beer_RB['nbr_ratings'] >= ratings_threshold99]\n",
    "\n",
    "print(filtered_beers75.shape,\n",
    "filtered_beers90.shape,\n",
    "filtered_beers95.shape,\n",
    "filtered_beers98.shape,\n",
    "filtered_beers99.shape)\n"
   ]
  },
  {
   "cell_type": "markdown",
   "metadata": {},
   "source": [
    "Note: we see that even by taking the top 5% of most rated beers (highest nbr_ratings) we still have 2142 beers. "
   ]
  },
  {
   "cell_type": "code",
   "execution_count": 10,
   "metadata": {},
   "outputs": [
    {
     "data": {
      "image/png": "[encoded data removed]",
      "text/plain": [
       "<Figure size 720x720 with 1 Axes>"
      ]
     },
     "metadata": {
      "needs_background": "light"
     },
     "output_type": "display_data"
    },
    {
     "data": {
      "text/plain": [
       "count    45640.000000\n",
       "mean        20.945837\n",
       "std        137.768038\n",
       "min          0.000000\n",
       "25%          1.000000\n",
       "50%          3.000000\n",
       "75%          8.000000\n",
       "max       9228.000000\n",
       "Name: nbr_ratings, dtype: float64"
      ]
     },
     "metadata": {},
     "output_type": "display_data"
    },
    {
     "data": {
      "text/plain": [
       "count    2142.000000\n",
       "mean      245.901494\n",
       "std       280.157221\n",
       "min        96.000000\n",
       "25%       119.000000\n",
       "50%       160.000000\n",
       "75%       261.000000\n",
       "max      5272.000000\n",
       "Name: nbr_ratings, dtype: float64"
      ]
     },
     "metadata": {},
     "output_type": "display_data"
    }
   ],
   "source": [
    "# Create a new DataFrame with beers in the 95th percentile\n",
    "df_filtered_beer = filtered_beers95\n",
    "\n",
    "# Count the number of beers for each number of ratings\n",
    "reviews_counts = df_filtered_beer['nbr_ratings'].value_counts().sort_index()\n",
    "\n",
    "# Plot the distribution of number of ratings per beer\n",
    "plt.figure(figsize=(10,10))\n",
    "plt.bar(reviews_counts.index, reviews_counts.values, color='skyblue', edgecolor='black')\n",
    "plt.xlabel('Number of Ratings')\n",
    "plt.ylabel('Number of Beers')\n",
    "plt.title('Distribution of Number of Ratings per Beer at 95% percent threshold')\n",
    "plt.grid(axis='y')\n",
    "plt.show()\n",
    "\n",
    "# Get an idea of the distribution of the number of ratings per beer\n",
    "display(df_beer['nbr_ratings'].describe())\n",
    "display(df_filtered_beer['nbr_ratings'].describe())\n"
   ]
  },
  {
   "cell_type": "markdown",
   "metadata": {},
   "source": [
    "Next we explore the zscore per beer, the basic descriptive statistics, it's distribution and some visualization. Will allow us later, when we recompute the new z-scores with the most active reviewer to compare them. "
   ]
  },
  {
   "cell_type": "code",
   "execution_count": 11,
   "metadata": {},
   "outputs": [
    {
     "data": {
      "image/png": "[encoded data removed]",
      "text/plain": [
       "<Figure size 432x288 with 1 Axes>"
      ]
     },
     "metadata": {
      "needs_background": "light"
     },
     "output_type": "display_data"
    },
    {
     "data": {
      "image/png": "[encoded data removed]",
      "text/plain": [
       "<Figure size 432x288 with 1 Axes>"
      ]
     },
     "metadata": {
      "needs_background": "light"
     },
     "output_type": "display_data"
    }
   ],
   "source": [
    "# Visualize the z-score distribution \n",
    "\n",
    "plt.hist(df_beer_RB['zscore'], bins=20, color='skyblue', edgecolor='black')\n",
    "plt.xlabel('Z-Score')\n",
    "plt.ylabel('Frequency')\n",
    "plt.title('Distribution of Z-Scores')\n",
    "plt.show()\n",
    "\n",
    "# Visualize the z-score distribution at 95% threshold \n",
    "\n",
    "plt.hist(df_filtered_beer['zscore'], bins=20, color='skyblue', edgecolor='black')\n",
    "plt.xlabel('Z-Score')\n",
    "plt.ylabel('Frequency')\n",
    "plt.title('Distribution of Z-Scores at 95% threshold')\n",
    "plt.show()"
   ]
  },
  {
   "cell_type": "markdown",
   "metadata": {},
   "source": [
    "We can notice that for beers with nbr_ratings > 96 (the minimum number of ratings for the top 5% most rated beer) the z-score spreads a bit less. \n"
   ]
  },
  {
   "cell_type": "markdown",
   "metadata": {},
   "source": [
    "#### Data exploration on df_user"
   ]
  },
  {
   "cell_type": "code",
   "execution_count": 12,
   "metadata": {},
   "outputs": [
    {
     "data": {
      "image/png": "[encoded data removed]",
      "text/plain": [
       "<Figure size 720x720 with 1 Axes>"
      ]
     },
     "metadata": {
      "needs_background": "light"
     },
     "output_type": "display_data"
    }
   ],
   "source": [
    "# Count the number of beers for each number of ratings\n",
    "reviews_counts = df_users_RB['nbr_ratings'].value_counts().sort_index()\n",
    "\n",
    "# Plot the distribution of number of ratings per beer\n",
    "plt.figure(figsize=(10,10))\n",
    "plt.bar(reviews_counts.index, reviews_counts.values, color='skyblue', edgecolor='black')\n",
    "plt.xlabel('Number of Reviews')\n",
    "plt.ylabel('Number of reviewer')\n",
    "plt.yscale('log')\n",
    "plt.title('Distribution of Number reviewer of per Reviews')\n",
    "plt.grid(axis='y')\n",
    "plt.show()"
   ]
  },
  {
   "cell_type": "code",
   "execution_count": 13,
   "metadata": {},
   "outputs": [
    {
     "name": "stdout",
     "output_type": "stream",
     "text": [
      "(17744, 5) (7037, 5) (3518, 5) (1404, 5) (702, 5)\n"
     ]
    }
   ],
   "source": [
    "# Choose a percentile threshold (adjust as needed)\n",
    "ratings_threshold75 = df_users_RB['nbr_ratings'].quantile(0.75)\n",
    "ratings_threshold90 = df_users_RB['nbr_ratings'].quantile(0.90)\n",
    "ratings_threshold95 = df_users_RB['nbr_ratings'].quantile(0.95)\n",
    "ratings_threshold98 = df_users_RB['nbr_ratings'].quantile(0.98)\n",
    "ratings_threshold99 = df_users_RB['nbr_ratings'].quantile(0.99)\n",
    "\n",
    "# Filter beers based on the threshold\n",
    "filtered_users75 = df_users_RB[df_users_RB['nbr_ratings'] >= ratings_threshold75]\n",
    "filtered_users90 = df_users_RB[df_users_RB['nbr_ratings'] >= ratings_threshold90]\n",
    "filtered_users95 = df_users_RB[df_users_RB['nbr_ratings'] >= ratings_threshold95]\n",
    "filtered_users98 = df_users_RB[df_users_RB['nbr_ratings'] >= ratings_threshold98]\n",
    "filtered_users99 = df_users_RB[df_users_RB['nbr_ratings'] >= ratings_threshold99]\n",
    "\n",
    "print(filtered_users75.shape,\n",
    "filtered_users90.shape,\n",
    "filtered_users95.shape,\n",
    "filtered_users98.shape,\n",
    "filtered_users99.shape)"
   ]
  },
  {
   "cell_type": "markdown",
   "metadata": {},
   "source": [
    "702 users are in the top 1% of the most active users (thus the one having the highest nbr_ratings) "
   ]
  },
  {
   "cell_type": "code",
   "execution_count": 14,
   "metadata": {},
   "outputs": [
    {
     "data": {
      "image/png": "[encoded data removed]",
      "text/plain": [
       "<Figure size 720x720 with 1 Axes>"
      ]
     },
     "metadata": {
      "needs_background": "light"
     },
     "output_type": "display_data"
    },
    {
     "data": {
      "text/plain": [
       "count      702.000000\n",
       "mean      5761.478632\n",
       "std       4497.338103\n",
       "min       2406.000000\n",
       "25%       3055.000000\n",
       "50%       4298.500000\n",
       "75%       6632.000000\n",
       "max      46749.000000\n",
       "Name: nbr_ratings, dtype: float64"
      ]
     },
     "execution_count": 14,
     "metadata": {},
     "output_type": "execute_result"
    }
   ],
   "source": [
    "# Create a new DataFrame with beers in the 95th percentile\n",
    "df_filtered_users = filtered_users99\n",
    "\n",
    "# Count the number of beers for each number of ratings\n",
    "reviews_counts = df_filtered_users['nbr_ratings'].value_counts().sort_index()\n",
    "\n",
    "# Plot the distribution of number of ratings per beer\n",
    "plt.figure(figsize=(10,10))\n",
    "plt.bar(reviews_counts.index, reviews_counts.values, color='skyblue', edgecolor='black')\n",
    "plt.xlabel('Number of ratings')\n",
    "plt.ylabel('Number of reviewer')\n",
    "plt.title('Number of ratings per reviewer at 99% threshold')\n",
    "plt.grid(axis='y')\n",
    "plt.show()\n",
    "\n",
    "# Get an idea of the distribution of the number of ratings per beer\n",
    "df_users_RB['nbr_ratings'].describe()\n",
    "df_filtered_users['nbr_ratings'].describe()\n",
    "\n"
   ]
  },
  {
   "cell_type": "markdown",
   "metadata": {},
   "source": [
    "### BeerAdvocate website"
   ]
  },
  {
   "cell_type": "markdown",
   "metadata": {},
   "source": [
    "#### Loading the datasets from BeerAdvocate and drop nan values"
   ]
  },
  {
   "cell_type": "code",
   "execution_count": 15,
   "metadata": {},
   "outputs": [],
   "source": [
    "#RateBeer website data :\n",
    "df_beer_BA = pd.read_csv(\"BeerAdvocate/beers.csv\", index_col='beer_id')\n",
    "df_breweries_BA  = pd.read_csv(\"BeerAdvocate/breweries.csv\")\n",
    "df_users_BA = pd.read_csv(\"BEerAdvocate/users.csv\")\n",
    "\n",
    "#Remove raws with NaN values\n",
    "df_beer_BA= df_beer_BA.dropna(subset=[\"zscore\"])"
   ]
  },
  {
   "cell_type": "markdown",
   "metadata": {},
   "source": [
    "#### Data exploration on df_beer_BA"
   ]
  },
  {
   "cell_type": "code",
   "execution_count": 16,
   "metadata": {},
   "outputs": [
    {
     "data": {
      "image/png": "[encoded data removed]",
      "text/plain": [
       "<Figure size 720x720 with 1 Axes>"
      ]
     },
     "metadata": {
      "needs_background": "light"
     },
     "output_type": "display_data"
    }
   ],
   "source": [
    "# Count the number of beers for each number of ratings\n",
    "reviews_counts = df_beer_BA['nbr_ratings'].value_counts().sort_index()\n",
    "\n",
    "# Plot the distribution of number of ratings per beer\n",
    "plt.figure(figsize=(10,10))\n",
    "plt.bar(reviews_counts.index, reviews_counts.values, color='skyblue', edgecolor='black')\n",
    "plt.xlabel('Number of Ratings')\n",
    "plt.ylabel('Number of Beers')\n",
    "plt.yscale('log')\n",
    "plt.title('Distribution of Number of Ratings per Beer')\n",
    "plt.grid(axis='y')\n",
    "plt.show()"
   ]
  },
  {
   "cell_type": "code",
   "execution_count": 17,
   "metadata": {},
   "outputs": [
    {
     "name": "stdout",
     "output_type": "stream",
     "text": [
      "(10498, 14) (4086, 14) (2026, 14) (807, 14) (404, 14)\n"
     ]
    }
   ],
   "source": [
    "# Get an idea of the distribution of the number of ratings per beer\n",
    "\n",
    "# Choose different quantile thresholds \n",
    "ratings_threshold75_BA = df_beer_BA['nbr_ratings'].quantile(0.75)\n",
    "ratings_threshold90_BA = df_beer_BA['nbr_ratings'].quantile(0.90)\n",
    "ratings_threshold95_BA = df_beer_BA['nbr_ratings'].quantile(0.95)\n",
    "ratings_threshold98_BA = df_beer_BA['nbr_ratings'].quantile(0.98)\n",
    "ratings_threshold99_BA = df_beer_BA['nbr_ratings'].quantile(0.99)\n",
    "\n",
    "# Filter beers based on the threshold\n",
    "filtered_beers75_BA = df_beer_BA[df_beer_BA['nbr_ratings'] >= ratings_threshold75_BA]\n",
    "filtered_beers90_BA = df_beer_BA[df_beer_BA['nbr_ratings'] >= ratings_threshold90_BA]\n",
    "filtered_beers95_BA = df_beer_BA[df_beer_BA['nbr_ratings'] >= ratings_threshold95_BA]\n",
    "filtered_beers98_BA = df_beer_BA[df_beer_BA['nbr_ratings'] >= ratings_threshold98_BA]\n",
    "filtered_beers99_BA = df_beer_BA[df_beer_BA['nbr_ratings'] >= ratings_threshold99_BA]\n",
    "\n",
    "print(filtered_beers75_BA.shape,\n",
    "filtered_beers90_BA.shape,\n",
    "filtered_beers95_BA.shape,\n",
    "filtered_beers98_BA.shape,\n",
    "filtered_beers99_BA.shape)"
   ]
  },
  {
   "cell_type": "markdown",
   "metadata": {},
   "source": [
    "Note: we see that even by taking the top 5% of most rated beers we still have 2026 beers. If we compare this results to the one found in RateBeer, we have roughly the same amount of the nbr_ratings for the top 5% rated beer.\n"
   ]
  },
  {
   "cell_type": "code",
   "execution_count": 18,
   "metadata": {},
   "outputs": [
    {
     "data": {
      "image/png": "[encoded data removed]",
      "text/plain": [
       "<Figure size 720x720 with 1 Axes>"
      ]
     },
     "metadata": {
      "needs_background": "light"
     },
     "output_type": "display_data"
    },
    {
     "data": {
      "text/plain": [
       "count    40285.000000\n",
       "mean        23.730123\n",
       "std        146.413789\n",
       "min          1.000000\n",
       "25%          1.000000\n",
       "50%          3.000000\n",
       "75%         10.000000\n",
       "max       9228.000000\n",
       "Name: nbr_ratings, dtype: float64"
      ]
     },
     "metadata": {},
     "output_type": "display_data"
    },
    {
     "data": {
      "text/plain": [
       "count    2026.000000\n",
       "mean      323.123889\n",
       "std       573.835275\n",
       "min        75.000000\n",
       "25%       103.000000\n",
       "50%       156.000000\n",
       "75%       301.000000\n",
       "max      9228.000000\n",
       "Name: nbr_ratings, dtype: float64"
      ]
     },
     "metadata": {},
     "output_type": "display_data"
    }
   ],
   "source": [
    "# Create a new DataFrame with beers in the 95th percentile\n",
    "df_filtered_beer_BA = filtered_beers95_BA\n",
    "\n",
    "# Count the number of beers for each number of ratings\n",
    "reviews_counts = df_filtered_beer_BA['nbr_ratings'].value_counts().sort_index()\n",
    "\n",
    "# Plot the distribution of number of ratings per beer\n",
    "plt.figure(figsize=(10,10))\n",
    "plt.bar(reviews_counts.index, reviews_counts.values, color='skyblue', edgecolor='black')\n",
    "plt.xlabel('Number of Ratings')\n",
    "plt.ylabel('Number of Beers')\n",
    "plt.title('Number of Ratings per Beer at 95% percent threshold')\n",
    "plt.grid(axis='y')\n",
    "plt.show()\n",
    "\n",
    "# Get an idea of the distribution of the number of ratings per beer\n",
    "display(df_beer_BA['nbr_ratings'].describe(),\n",
    "df_filtered_beer_BA['nbr_ratings'].describe())\n",
    "\n"
   ]
  },
  {
   "cell_type": "markdown",
   "metadata": {},
   "source": [
    "Gives us an idea of the distribution of the most rated beers (nbr_ratings) and the maximum/minimum nbr_ratings of the top 5% most rated beer. Roughly the same amount of minimum of ratings (75 here vs 96 in RateBeer). \n"
   ]
  },
  {
   "cell_type": "markdown",
   "metadata": {},
   "source": [
    "Next we explore the zscore per beer, the basic descriptive statistics, it's distribution and some visualization. Will allow us later, when we recompute the new z-scores with the most active reviewer to compare them. "
   ]
  },
  {
   "cell_type": "code",
   "execution_count": 19,
   "metadata": {},
   "outputs": [
    {
     "data": {
      "image/png": "[encoded data removed]",
      "text/plain": [
       "<Figure size 432x288 with 1 Axes>"
      ]
     },
     "metadata": {
      "needs_background": "light"
     },
     "output_type": "display_data"
    },
    {
     "data": {
      "image/png": "[encoded data removed]",
      "text/plain": [
       "<Figure size 432x288 with 1 Axes>"
      ]
     },
     "metadata": {
      "needs_background": "light"
     },
     "output_type": "display_data"
    },
    {
     "data": {
      "text/plain": [
       "count    40285.000000\n",
       "mean        -0.408295\n",
       "std          0.806491\n",
       "min         -6.655704\n",
       "25%         -0.785424\n",
       "50%         -0.321596\n",
       "75%          0.086733\n",
       "max          2.211576\n",
       "Name: zscore, dtype: float64"
      ]
     },
     "metadata": {},
     "output_type": "display_data"
    },
    {
     "data": {
      "text/plain": [
       "count    2026.000000\n",
       "mean       -0.081419\n",
       "std         0.548701\n",
       "min        -2.581808\n",
       "25%        -0.450519\n",
       "50%        -0.089859\n",
       "75%         0.298036\n",
       "max         1.587798\n",
       "Name: zscore, dtype: float64"
      ]
     },
     "metadata": {},
     "output_type": "display_data"
    }
   ],
   "source": [
    "# Visualize the z-score distribution \n",
    "\n",
    "plt.hist(df_beer_BA['zscore'], bins=20, color='skyblue', edgecolor='black')\n",
    "plt.xlabel('Z-Score')\n",
    "plt.ylabel('Frequency')\n",
    "plt.title('Distribution of Z-Scores')\n",
    "plt.show()\n",
    "\n",
    "\n",
    "# Visualize the z-score distribution at 95% threshold \n",
    "\n",
    "plt.hist(df_filtered_beer_BA['zscore'], bins=20, color='skyblue', edgecolor='black')\n",
    "plt.xlabel('Z-Score')\n",
    "plt.ylabel('Frequency')\n",
    "plt.title('Distribution of Z-Scores at 95% threshold')\n",
    "plt.show()\n",
    "\n",
    "# Describe the z-score distribution\n",
    "display(df_beer_BA['zscore'].describe(),\n",
    "df_filtered_beer_BA['zscore'].describe())"
   ]
  },
  {
   "cell_type": "markdown",
   "metadata": {},
   "source": [
    "#### Data exploration on df_user_BA"
   ]
  },
  {
   "cell_type": "code",
   "execution_count": 20,
   "metadata": {},
   "outputs": [
    {
     "data": {
      "image/png": "[encoded data removed]",
      "text/plain": [
       "<Figure size 720x720 with 1 Axes>"
      ]
     },
     "metadata": {
      "needs_background": "light"
     },
     "output_type": "display_data"
    }
   ],
   "source": [
    "# Count the number of beers for each number of ratings\n",
    "reviews_counts = df_users_BA['nbr_ratings'].value_counts().sort_index()\n",
    "\n",
    "# Plot the distribution of number of ratings per beer\n",
    "plt.figure(figsize=(10,10))\n",
    "plt.bar(reviews_counts.index, reviews_counts.values, color='skyblue', edgecolor='black')\n",
    "plt.xlabel('Number of Reviews')\n",
    "plt.ylabel('Number of reviewer')\n",
    "plt.yscale('log')\n",
    "plt.title('Distribution of Number reviewer of per Reviews')\n",
    "plt.grid(axis='y')\n",
    "plt.show()\n",
    "\n"
   ]
  },
  {
   "cell_type": "code",
   "execution_count": 21,
   "metadata": {},
   "outputs": [
    {
     "name": "stdout",
     "output_type": "stream",
     "text": [
      "(10498, 14) (15415, 6) (7708, 6) (3075, 6) (1542, 6)\n"
     ]
    }
   ],
   "source": [
    "# Get an idea of the distribution of the number of ratings per beer\n",
    "\n",
    "# Choose different quantile thresholds \n",
    "ratings_threshold75_BA = df_users_BA['nbr_ratings'].quantile(0.75)\n",
    "ratings_threshold90_BA = df_users_BA['nbr_ratings'].quantile(0.90)\n",
    "ratings_threshold95_BA = df_users_BA['nbr_ratings'].quantile(0.95)\n",
    "ratings_threshold98_BA = df_users_BA['nbr_ratings'].quantile(0.98)\n",
    "ratings_threshold99_BA = df_users_BA['nbr_ratings'].quantile(0.99)\n",
    "\n",
    "# Filter beers based on the threshold\n",
    "filtered_users75_BA = df_users_BA[df_users_BA['nbr_ratings'] >= ratings_threshold75_BA]\n",
    "filtered_users90_BA = df_users_BA[df_users_BA['nbr_ratings'] >= ratings_threshold90_BA]\n",
    "filtered_users95_BA = df_users_BA[df_users_BA['nbr_ratings'] >= ratings_threshold95_BA]\n",
    "filtered_users98_BA = df_users_BA[df_users_BA['nbr_ratings'] >= ratings_threshold98_BA]\n",
    "filtered_users99_BA = df_users_BA[df_users_BA['nbr_ratings'] >= ratings_threshold99_BA]\n",
    "\n",
    "print(filtered_beers75_BA.shape,\n",
    "filtered_users90_BA.shape,\n",
    "filtered_users95_BA.shape,\n",
    "filtered_users98_BA.shape,\n",
    "filtered_users99_BA.shape)"
   ]
  },
  {
   "cell_type": "markdown",
   "metadata": {},
   "source": [
    "We have 1542 users at the top 1% of nbr_ratings. \n"
   ]
  },
  {
   "cell_type": "code",
   "execution_count": 22,
   "metadata": {},
   "outputs": [
    {
     "data": {
      "image/png": "[encoded data removed]",
      "text/plain": [
       "<Figure size 720x720 with 1 Axes>"
      ]
     },
     "metadata": {
      "needs_background": "light"
     },
     "output_type": "display_data"
    },
    {
     "data": {
      "text/plain": [
       "count    153704.000000\n",
       "mean         54.605163\n",
       "std         252.388790\n",
       "min           1.000000\n",
       "25%           1.000000\n",
       "50%           3.000000\n",
       "75%          16.000000\n",
       "max       12046.000000\n",
       "Name: nbr_ratings, dtype: float64"
      ]
     },
     "metadata": {},
     "output_type": "display_data"
    },
    {
     "data": {
      "text/plain": [
       "count     1542.000000\n",
       "mean      1965.327497\n",
       "std       1250.713955\n",
       "min       1023.000000\n",
       "25%       1221.000000\n",
       "50%       1538.000000\n",
       "75%       2186.250000\n",
       "max      12046.000000\n",
       "Name: nbr_ratings, dtype: float64"
      ]
     },
     "metadata": {},
     "output_type": "display_data"
    },
    {
     "data": {
      "text/plain": [
       "nbr_ratings           12046\n",
       "nbr_reviews            7593\n",
       "user_id          sammy.3853\n",
       "user_name             Sammy\n",
       "joined         1070276400.0\n",
       "location             Canada\n",
       "Name: 228, dtype: object"
      ]
     },
     "metadata": {},
     "output_type": "display_data"
    },
    {
     "data": {
      "text/plain": [
       "nbr_ratings                       1023\n",
       "nbr_reviews                         71\n",
       "user_id             stampfler07.154141\n",
       "user_name                  stampfler07\n",
       "joined                    1187604000.0\n",
       "location       United States, Colorado\n",
       "Name: 586, dtype: object"
      ]
     },
     "metadata": {},
     "output_type": "display_data"
    }
   ],
   "source": [
    "# Create a new DataFrame with beers in the 99th percentile\n",
    "df_filtered_users_BA = filtered_users99_BA\n",
    "\n",
    "# Count the number of beers for each number of ratings\n",
    "reviews_counts = df_filtered_users_BA['nbr_ratings'].value_counts().sort_index()\n",
    "\n",
    "# Plot the distribution of number of ratings per beer\n",
    "plt.figure(figsize=(10,10))\n",
    "plt.bar(reviews_counts.index, reviews_counts.values, color='skyblue', edgecolor='black')\n",
    "plt.xlabel('Number of Reviews')\n",
    "plt.ylabel('Number of reviewer')\n",
    "plt.title('Number ratings per reviewer at 99% threshold')\n",
    "plt.grid(axis='y')\n",
    "plt.show()\n",
    "\n",
    "# Get an idea of the distribution of the number of ratings per beer\n",
    "display(df_users_BA['nbr_ratings'].describe(),\n",
    "df_filtered_users_BA['nbr_ratings'].describe())\n",
    "\n",
    "# Display the most rated beer and the less rated one.\n",
    "display(df_filtered_users_BA.loc[df_filtered_users_BA['nbr_ratings'].idxmax()],\n",
    "df_filtered_users_BA.loc[df_filtered_users_BA['nbr_ratings'].idxmin()])"
   ]
  },
  {
   "cell_type": "markdown",
   "metadata": {},
   "source": [
    "## Start to build our different trips"
   ]
  },
  {
   "cell_type": "markdown",
   "metadata": {},
   "source": [
    "**BREWERIES PER KM2**"
   ]
  },
  {
   "cell_type": "code",
   "execution_count": 37,
   "metadata": {},
   "outputs": [
    {
     "data": {
      "text/plain": [
       "location\n",
       "Argentina                   2780400.0\n",
       "Australia                   7692024.0\n",
       "Austria                       83871.0\n",
       "Belgium                       30689.0\n",
       "Brazil                      8515767.0\n",
       "                              ...    \n",
       "United States, Wisconsin     169635.0\n",
       "United States, Wyoming       253335.0\n",
       "Uzbekistan                   448978.0\n",
       "Vietnam                      331212.0\n",
       "Wales                         20779.0\n",
       "Name: km2, Length: 111, dtype: float64"
      ]
     },
     "metadata": {},
     "output_type": "display_data"
    },
    {
     "data": {
      "image/png": "[encoded data removed]",
      "text/plain": [
       "<Figure size 1440x720 with 1 Axes>"
      ]
     },
     "metadata": {
      "needs_background": "light"
     },
     "output_type": "display_data"
    },
    {
     "data": {
      "image/png": "[encoded data removed]",
      "text/plain": [
       "<Figure size 1440x720 with 1 Axes>"
      ]
     },
     "metadata": {
      "needs_background": "light"
     },
     "output_type": "display_data"
    }
   ],
   "source": [
    "#Group the breweries by country, count the number of breweries and divide by the superfices of the location to have a density :\n",
    "df_breweries_superficies_count = df_breweries_superficies_flt.groupby(['location']).id.count()\n",
    "#display(df_breweries_superficies_flt)\n",
    "\n",
    "#Get the values of the km2 in every location \n",
    "df_breweries_superficies_km2 = df_breweries_superficies_flt.groupby(['location']).km2.mean()\n",
    "display(df_breweries_superficies_km2)\n",
    "\n",
    "#Plot with superficies vs number of breweries\n",
    "plt.figure(figsize=(20,10))\n",
    "plt.scatter(df_breweries_superficies_km2, df_breweries_superficies_count)\n",
    "plt.xlabel('Superficies (km2)')\n",
    "plt.ylabel('Number of breweries')\n",
    "plt.xticks(rotation=90)\n",
    "plt.title('Superficies vs number of breweries')\n",
    "plt.show()\n",
    "\n",
    "#Concatenate the two dataframe to have access to the density of breweries per km2\n",
    "df_density = pd.concat([df_breweries_superficies_count, df_breweries_superficies_km2], axis=1)\n",
    "df_density['density'] = df_density['id'] / df_density['km2']\n",
    "df_density.reset_index(inplace=True)\n",
    "df_density.sort_values(by=['density'], ascending=False, inplace=True) \n",
    "top_ten_density = df_density.head(10)\n",
    "\n",
    "#Plot the density of breweries per km2\n",
    "plt.figure(figsize=(20,10))\n",
    "plt.xticks(rotation=90)\n",
    "plt.title('Density of breweries per km2')\n",
    "sns.barplot(x='location', y='density', data=top_ten_density, palette='Blues_d')\n",
    "plt.show()\n",
    "\n",
    "#Store the location of the top 10 density of breweries per km2\n",
    "top_ten_density_location = top_ten_density['location']\n",
    "\n",
    "#NO error bar because we don't have the standard deviation of the density of breweries per km2....\n",
    "\n"
   ]
  },
  {
   "cell_type": "markdown",
   "metadata": {},
   "source": [
    "**THE PERCENTAGE OF ALCOHOL**"
   ]
  },
  {
   "cell_type": "code",
   "execution_count": 24,
   "metadata": {},
   "outputs": [],
   "source": [
    "#Drop the location with less than 5 beers (to do a beer trip, we need to have different beer to drink!) and beer with less than 20 ratings\n",
    "df_beer_breweries_flt_abv = df_beer_breweries_clean.groupby('location').filter(lambda x: (len(x) >= 5) | (x['nbr_ratings'].sum() + x['nbr_ratings.1'].sum() >= 20)) \n"
   ]
  },
  {
   "cell_type": "code",
   "execution_count": 25,
   "metadata": {},
   "outputs": [
    {
     "data": {
      "text/html": [
       "<div>\n",
       "<style scoped>\n",
       "    .dataframe tbody tr th:only-of-type {\n",
       "        vertical-align: middle;\n",
       "    }\n",
       "\n",
       "    .dataframe tbody tr th {\n",
       "        vertical-align: top;\n",
       "    }\n",
       "\n",
       "    .dataframe thead th {\n",
       "        text-align: right;\n",
       "    }\n",
       "</style>\n",
       "<table border=\"1\" class=\"dataframe\">\n",
       "  <thead>\n",
       "    <tr style=\"text-align: right;\">\n",
       "      <th></th>\n",
       "      <th>count</th>\n",
       "      <th>mean</th>\n",
       "      <th>std</th>\n",
       "      <th>min</th>\n",
       "      <th>25%</th>\n",
       "      <th>50%</th>\n",
       "      <th>75%</th>\n",
       "      <th>max</th>\n",
       "    </tr>\n",
       "    <tr>\n",
       "      <th>location</th>\n",
       "      <th></th>\n",
       "      <th></th>\n",
       "      <th></th>\n",
       "      <th></th>\n",
       "      <th></th>\n",
       "      <th></th>\n",
       "      <th></th>\n",
       "      <th></th>\n",
       "    </tr>\n",
       "  </thead>\n",
       "  <tbody>\n",
       "    <tr>\n",
       "      <th>Trinidad &amp; Tobago</th>\n",
       "      <td>8.0</td>\n",
       "      <td>3.525000</td>\n",
       "      <td>1.971765</td>\n",
       "      <td>1.2</td>\n",
       "      <td>1.200</td>\n",
       "      <td>4.45</td>\n",
       "      <td>5.050</td>\n",
       "      <td>5.5</td>\n",
       "    </tr>\n",
       "    <tr>\n",
       "      <th>Bosnia and Herzegovina</th>\n",
       "      <td>3.0</td>\n",
       "      <td>3.666667</td>\n",
       "      <td>1.457166</td>\n",
       "      <td>2.0</td>\n",
       "      <td>3.150</td>\n",
       "      <td>4.30</td>\n",
       "      <td>4.500</td>\n",
       "      <td>4.7</td>\n",
       "    </tr>\n",
       "    <tr>\n",
       "      <th>Albania</th>\n",
       "      <td>1.0</td>\n",
       "      <td>4.100000</td>\n",
       "      <td>NaN</td>\n",
       "      <td>4.1</td>\n",
       "      <td>4.100</td>\n",
       "      <td>4.10</td>\n",
       "      <td>4.100</td>\n",
       "      <td>4.1</td>\n",
       "    </tr>\n",
       "    <tr>\n",
       "      <th>Jersey</th>\n",
       "      <td>5.0</td>\n",
       "      <td>4.100000</td>\n",
       "      <td>0.264575</td>\n",
       "      <td>3.7</td>\n",
       "      <td>4.000</td>\n",
       "      <td>4.20</td>\n",
       "      <td>4.200</td>\n",
       "      <td>4.4</td>\n",
       "    </tr>\n",
       "    <tr>\n",
       "      <th>Cuba</th>\n",
       "      <td>2.0</td>\n",
       "      <td>4.250000</td>\n",
       "      <td>0.353553</td>\n",
       "      <td>4.0</td>\n",
       "      <td>4.125</td>\n",
       "      <td>4.25</td>\n",
       "      <td>4.375</td>\n",
       "      <td>4.5</td>\n",
       "    </tr>\n",
       "    <tr>\n",
       "      <th>Lebanon</th>\n",
       "      <td>2.0</td>\n",
       "      <td>4.350000</td>\n",
       "      <td>2.333452</td>\n",
       "      <td>2.7</td>\n",
       "      <td>3.525</td>\n",
       "      <td>4.35</td>\n",
       "      <td>5.175</td>\n",
       "      <td>6.0</td>\n",
       "    </tr>\n",
       "    <tr>\n",
       "      <th>Malawi</th>\n",
       "      <td>3.0</td>\n",
       "      <td>4.466667</td>\n",
       "      <td>1.078579</td>\n",
       "      <td>3.7</td>\n",
       "      <td>3.850</td>\n",
       "      <td>4.00</td>\n",
       "      <td>4.850</td>\n",
       "      <td>5.7</td>\n",
       "    </tr>\n",
       "    <tr>\n",
       "      <th>Uzbekistan</th>\n",
       "      <td>12.0</td>\n",
       "      <td>4.475000</td>\n",
       "      <td>0.601702</td>\n",
       "      <td>3.4</td>\n",
       "      <td>4.225</td>\n",
       "      <td>4.40</td>\n",
       "      <td>5.000</td>\n",
       "      <td>5.4</td>\n",
       "    </tr>\n",
       "    <tr>\n",
       "      <th>Isle of Man</th>\n",
       "      <td>4.0</td>\n",
       "      <td>4.650000</td>\n",
       "      <td>1.297433</td>\n",
       "      <td>3.7</td>\n",
       "      <td>3.775</td>\n",
       "      <td>4.20</td>\n",
       "      <td>5.075</td>\n",
       "      <td>6.5</td>\n",
       "    </tr>\n",
       "    <tr>\n",
       "      <th>Cyprus</th>\n",
       "      <td>9.0</td>\n",
       "      <td>4.700000</td>\n",
       "      <td>0.600000</td>\n",
       "      <td>3.8</td>\n",
       "      <td>4.500</td>\n",
       "      <td>4.50</td>\n",
       "      <td>5.000</td>\n",
       "      <td>6.0</td>\n",
       "    </tr>\n",
       "  </tbody>\n",
       "</table>\n",
       "</div>"
      ],
      "text/plain": [
       "                        count      mean       std  min    25%   50%    75%  \\\n",
       "location                                                                     \n",
       "Trinidad & Tobago         8.0  3.525000  1.971765  1.2  1.200  4.45  5.050   \n",
       "Bosnia and Herzegovina    3.0  3.666667  1.457166  2.0  3.150  4.30  4.500   \n",
       "Albania                   1.0  4.100000       NaN  4.1  4.100  4.10  4.100   \n",
       "Jersey                    5.0  4.100000  0.264575  3.7  4.000  4.20  4.200   \n",
       "Cuba                      2.0  4.250000  0.353553  4.0  4.125  4.25  4.375   \n",
       "Lebanon                   2.0  4.350000  2.333452  2.7  3.525  4.35  5.175   \n",
       "Malawi                    3.0  4.466667  1.078579  3.7  3.850  4.00  4.850   \n",
       "Uzbekistan               12.0  4.475000  0.601702  3.4  4.225  4.40  5.000   \n",
       "Isle of Man               4.0  4.650000  1.297433  3.7  3.775  4.20  5.075   \n",
       "Cyprus                    9.0  4.700000  0.600000  3.8  4.500  4.50  5.000   \n",
       "\n",
       "                        max  \n",
       "location                     \n",
       "Trinidad & Tobago       5.5  \n",
       "Bosnia and Herzegovina  4.7  \n",
       "Albania                 4.1  \n",
       "Jersey                  4.4  \n",
       "Cuba                    4.5  \n",
       "Lebanon                 6.0  \n",
       "Malawi                  5.7  \n",
       "Uzbekistan              5.4  \n",
       "Isle of Man             6.5  \n",
       "Cyprus                  6.0  "
      ]
     },
     "metadata": {},
     "output_type": "display_data"
    },
    {
     "data": {
      "image/png": "[encoded data removed]",
      "text/plain": [
       "<Figure size 1440x576 with 1 Axes>"
      ]
     },
     "metadata": {
      "needs_background": "light"
     },
     "output_type": "display_data"
    }
   ],
   "source": [
    "#Sort the dataframe by considering the 10 location with the softest beer\n",
    "avg_rating_location = df_beer_breweries_flt_abv.groupby('location').abv.describe()\n",
    "avg_rating_location.sort_values(by='mean', ascending=True, inplace=True)\n",
    "top_ten_abv_soft = avg_rating_location.head(10)\n",
    "display(top_ten_abv_soft)\n",
    "\n",
    "#Plot the result with standard deviation as error bar\n",
    "pl = top_ten_abv_soft['mean'].plot(kind='bar', figsize=[20,8], rot=0, yerr=top_ten_abv_soft['std']) #mieux de faire avec CI ?????\n",
    "pl.set_title('Location with the softest beer')\n",
    "pl.set_ylabel('Percentage of alcohol')\n",
    "pl.set_xlabel('Location')\n",
    "pl.set_xticklabels(top_ten_abv_soft.index, rotation=90)\n",
    "\n",
    "\n",
    "#Keep a copy the ranking \n",
    "top_ten_abv_only_location = top_ten_abv_soft.index \n"
   ]
  },
  {
   "cell_type": "code",
   "execution_count": 26,
   "metadata": {},
   "outputs": [
    {
     "data": {
      "text/html": [
       "<div>\n",
       "<style scoped>\n",
       "    .dataframe tbody tr th:only-of-type {\n",
       "        vertical-align: middle;\n",
       "    }\n",
       "\n",
       "    .dataframe tbody tr th {\n",
       "        vertical-align: top;\n",
       "    }\n",
       "\n",
       "    .dataframe thead th {\n",
       "        text-align: right;\n",
       "    }\n",
       "</style>\n",
       "<table border=\"1\" class=\"dataframe\">\n",
       "  <thead>\n",
       "    <tr style=\"text-align: right;\">\n",
       "      <th></th>\n",
       "      <th>count</th>\n",
       "      <th>mean</th>\n",
       "      <th>std</th>\n",
       "      <th>min</th>\n",
       "      <th>25%</th>\n",
       "      <th>50%</th>\n",
       "      <th>75%</th>\n",
       "      <th>max</th>\n",
       "    </tr>\n",
       "    <tr>\n",
       "      <th>location</th>\n",
       "      <th></th>\n",
       "      <th></th>\n",
       "      <th></th>\n",
       "      <th></th>\n",
       "      <th></th>\n",
       "      <th></th>\n",
       "      <th></th>\n",
       "      <th></th>\n",
       "    </tr>\n",
       "  </thead>\n",
       "  <tbody>\n",
       "    <tr>\n",
       "      <th>Egypt</th>\n",
       "      <td>4.0</td>\n",
       "      <td>7.675000</td>\n",
       "      <td>2.736634</td>\n",
       "      <td>4.7</td>\n",
       "      <td>5.675</td>\n",
       "      <td>8.00</td>\n",
       "      <td>10.000</td>\n",
       "      <td>10.0</td>\n",
       "    </tr>\n",
       "    <tr>\n",
       "      <th>Estonia</th>\n",
       "      <td>69.0</td>\n",
       "      <td>7.482609</td>\n",
       "      <td>2.704080</td>\n",
       "      <td>3.8</td>\n",
       "      <td>5.500</td>\n",
       "      <td>6.90</td>\n",
       "      <td>8.900</td>\n",
       "      <td>16.0</td>\n",
       "    </tr>\n",
       "    <tr>\n",
       "      <th>Belgium</th>\n",
       "      <td>863.0</td>\n",
       "      <td>7.115435</td>\n",
       "      <td>2.328768</td>\n",
       "      <td>0.5</td>\n",
       "      <td>6.000</td>\n",
       "      <td>7.00</td>\n",
       "      <td>8.000</td>\n",
       "      <td>39.0</td>\n",
       "    </tr>\n",
       "    <tr>\n",
       "      <th>Iceland</th>\n",
       "      <td>45.0</td>\n",
       "      <td>7.108889</td>\n",
       "      <td>2.644619</td>\n",
       "      <td>4.0</td>\n",
       "      <td>5.200</td>\n",
       "      <td>6.00</td>\n",
       "      <td>9.000</td>\n",
       "      <td>14.5</td>\n",
       "    </tr>\n",
       "    <tr>\n",
       "      <th>United States, Rhode Island</th>\n",
       "      <td>143.0</td>\n",
       "      <td>7.013566</td>\n",
       "      <td>2.198081</td>\n",
       "      <td>2.5</td>\n",
       "      <td>5.500</td>\n",
       "      <td>6.60</td>\n",
       "      <td>8.000</td>\n",
       "      <td>12.5</td>\n",
       "    </tr>\n",
       "    <tr>\n",
       "      <th>Netherlands</th>\n",
       "      <td>569.0</td>\n",
       "      <td>7.005290</td>\n",
       "      <td>2.022058</td>\n",
       "      <td>0.5</td>\n",
       "      <td>5.600</td>\n",
       "      <td>6.60</td>\n",
       "      <td>8.200</td>\n",
       "      <td>20.0</td>\n",
       "    </tr>\n",
       "    <tr>\n",
       "      <th>United States, Oklahoma</th>\n",
       "      <td>90.0</td>\n",
       "      <td>6.880000</td>\n",
       "      <td>2.655933</td>\n",
       "      <td>3.7</td>\n",
       "      <td>5.075</td>\n",
       "      <td>6.25</td>\n",
       "      <td>8.000</td>\n",
       "      <td>17.0</td>\n",
       "    </tr>\n",
       "    <tr>\n",
       "      <th>United States, Georgia</th>\n",
       "      <td>461.0</td>\n",
       "      <td>6.852278</td>\n",
       "      <td>1.906642</td>\n",
       "      <td>3.0</td>\n",
       "      <td>5.300</td>\n",
       "      <td>6.50</td>\n",
       "      <td>8.100</td>\n",
       "      <td>13.9</td>\n",
       "    </tr>\n",
       "    <tr>\n",
       "      <th>Mauritius</th>\n",
       "      <td>12.0</td>\n",
       "      <td>6.825000</td>\n",
       "      <td>2.100271</td>\n",
       "      <td>4.8</td>\n",
       "      <td>5.600</td>\n",
       "      <td>6.20</td>\n",
       "      <td>7.375</td>\n",
       "      <td>12.0</td>\n",
       "    </tr>\n",
       "    <tr>\n",
       "      <th>United States, California</th>\n",
       "      <td>4314.0</td>\n",
       "      <td>6.785767</td>\n",
       "      <td>1.889064</td>\n",
       "      <td>2.5</td>\n",
       "      <td>5.500</td>\n",
       "      <td>6.50</td>\n",
       "      <td>7.700</td>\n",
       "      <td>17.0</td>\n",
       "    </tr>\n",
       "  </tbody>\n",
       "</table>\n",
       "</div>"
      ],
      "text/plain": [
       "                              count      mean       std  min    25%   50%  \\\n",
       "location                                                                    \n",
       "Egypt                           4.0  7.675000  2.736634  4.7  5.675  8.00   \n",
       "Estonia                        69.0  7.482609  2.704080  3.8  5.500  6.90   \n",
       "Belgium                       863.0  7.115435  2.328768  0.5  6.000  7.00   \n",
       "Iceland                        45.0  7.108889  2.644619  4.0  5.200  6.00   \n",
       "United States, Rhode Island   143.0  7.013566  2.198081  2.5  5.500  6.60   \n",
       "Netherlands                   569.0  7.005290  2.022058  0.5  5.600  6.60   \n",
       "United States, Oklahoma        90.0  6.880000  2.655933  3.7  5.075  6.25   \n",
       "United States, Georgia        461.0  6.852278  1.906642  3.0  5.300  6.50   \n",
       "Mauritius                      12.0  6.825000  2.100271  4.8  5.600  6.20   \n",
       "United States, California    4314.0  6.785767  1.889064  2.5  5.500  6.50   \n",
       "\n",
       "                                75%   max  \n",
       "location                                   \n",
       "Egypt                        10.000  10.0  \n",
       "Estonia                       8.900  16.0  \n",
       "Belgium                       8.000  39.0  \n",
       "Iceland                       9.000  14.5  \n",
       "United States, Rhode Island   8.000  12.5  \n",
       "Netherlands                   8.200  20.0  \n",
       "United States, Oklahoma       8.000  17.0  \n",
       "United States, Georgia        8.100  13.9  \n",
       "Mauritius                     7.375  12.0  \n",
       "United States, California     7.700  17.0  "
      ]
     },
     "metadata": {},
     "output_type": "display_data"
    },
    {
     "data": {
      "image/png": "[encoded data removed]",
      "text/plain": [
       "<Figure size 1440x576 with 1 Axes>"
      ]
     },
     "metadata": {
      "needs_background": "light"
     },
     "output_type": "display_data"
    }
   ],
   "source": [
    "#Sort the dataframe by considering the 10 location with the strongest beer\n",
    "avg_rating_location = df_beer_breweries_flt_abv.groupby('location').abv.describe()\n",
    "avg_rating_location.sort_values(by='mean', ascending=False, inplace=True)\n",
    "top_ten_abv_strong = avg_rating_location.head(10)\n",
    "display(top_ten_abv_strong)\n",
    "\n",
    "#Plot the result with standard deviation as error bar\n",
    "pl = top_ten_abv_strong['mean'].plot(kind='bar', figsize=[20,8], rot=0, yerr=top_ten_abv_strong['std']) #mieux de faire avec CI ?????\n",
    "pl.set_title('Location with the strongest beer')\n",
    "pl.set_ylabel('Percentage of alcohol')\n",
    "pl.set_xlabel('Location')\n",
    "pl.set_xticklabels(top_ten_abv_strong.index, rotation=90)\n",
    "\n",
    "#Keep a copy the ranking \n",
    "top_ten_abv_only_location = top_ten_abv_strong.index \n"
   ]
  },
  {
   "cell_type": "markdown",
   "metadata": {},
   "source": [
    "**THE RATINGS IN GLOBAL**"
   ]
  },
  {
   "cell_type": "code",
   "execution_count": 27,
   "metadata": {},
   "outputs": [
    {
     "name": "stdout",
     "output_type": "stream",
     "text": [
      "(162,)\n"
     ]
    },
    {
     "data": {
      "image/png": "[encoded data removed]",
      "text/plain": [
       "<Figure size 1800x720 with 1 Axes>"
      ]
     },
     "metadata": {
      "needs_background": "light"
     },
     "output_type": "display_data"
    }
   ],
   "source": [
    "#Select only the beers with at least 5 ratings on either sites (RateBeer and Beer Advocate), because we want to have a good idea of the quality of the beers: \n",
    "df_beer_breweries_clean_5_plus = df_beer_breweries_clean[(df_beer_breweries_clean['nbr_ratings'] >=5) | (df_beer_breweries_clean['nbr_ratings.1'] >=5)]\n",
    "\n",
    "#Grouped the beers by location and count the number of beers in each location\n",
    "df_beer_breweries_clean_5_plus_4plot = df_beer_breweries_clean_5_plus.groupby('location').beer_name.count()\n",
    "print(df_beer_breweries_clean_5_plus_4plot.shape)\n",
    "\n",
    "#Plot the location with the most beers with at least 5 ratings on each sites wiht location name on the x axis and from to bigger to the lower\n",
    "index = df_beer_breweries_clean_5_plus_4plot.sort_values(ascending=False).index\n",
    "beers = df_beer_breweries_clean_5_plus_4plot.sort_values(ascending=False)\n",
    "\n",
    "plt.figure(figsize=(25,10))\n",
    "plt.bar(index, beers)\n",
    "plt.title('Locations with their amount of beers')\n",
    "plt.xlabel('Location')\n",
    "plt.ylabel('Number of beers')\n",
    "plt.xticks(rotation=90)\n",
    "plt.show()\n"
   ]
  },
  {
   "cell_type": "markdown",
   "metadata": {},
   "source": [
    "We can see on the previous graph that we still have a lot of location to visit after keeping only the beers with more than 5 ratings on both websites, but we can restrain even more this number by imposing conditions on the minimum amount of beers in a location to be considered as a potential destination for the trip. "
   ]
  },
  {
   "cell_type": "code",
   "execution_count": 28,
   "metadata": {},
   "outputs": [
    {
     "name": "stdout",
     "output_type": "stream",
     "text": [
      "(95,)\n"
     ]
    },
    {
     "data": {
      "image/png": "[encoded data removed]",
      "text/plain": [
       "<Figure size 1800x720 with 1 Axes>"
      ]
     },
     "metadata": {
      "needs_background": "light"
     },
     "output_type": "display_data"
    }
   ],
   "source": [
    "#Drop the beers with no zscore in either sites\n",
    "df_beer_breweries_clean_5_plus = df_beer_breweries_clean_5_plus.drop(df_beer_breweries_clean_5_plus[(df_beer_breweries_clean_5_plus['zscore'].isna()) | (df_beer_breweries_clean_5_plus['zscore.1'].isna())].index)\n",
    "\n",
    "#Drop the location with less than 10 different beers (to do a beer trip, we need to have different beer to drink!)\n",
    "df_beer_breweries_flt = df_beer_breweries_clean_5_plus.groupby('location').filter(lambda x: len(x) >= 10)\n",
    "\n",
    "#Plot the location with more than 5 beers produced and with at least 5 ratings on each sites\n",
    "df_beer_breweries_flt_4plot = df_beer_breweries_flt.groupby('location').beer_name.count()\n",
    "print(df_beer_breweries_flt_4plot.shape)\n",
    "\n",
    "index = df_beer_breweries_flt_4plot.sort_values(ascending=False).index\n",
    "beers = df_beer_breweries_flt_4plot.sort_values(ascending=False)\n",
    "\n",
    "plt.figure(figsize=(25,10))\n",
    "plt.bar(index, beers)\n",
    "plt.title('Locations with their amount of beers')\n",
    "plt.xlabel('Location')\n",
    "plt.ylabel('Number of beers')\n",
    "plt.xticks(rotation=90)\n",
    "plt.show()\n",
    "\n"
   ]
  },
  {
   "cell_type": "markdown",
   "metadata": {},
   "source": [
    "We still have 95 destinations for our trip. It is a good number to start with! Now lets analysis the data relatively to the ratings and the best way is to analyse the zscore of the beers. Indeed, the z-score basically makes the ratings comparable both across websites and time in general. However, in order to have a representative overall zscore, we will average the ones from BeerAdvocate and Rate Beer by taking into account their amount of ratings. "
   ]
  },
  {
   "cell_type": "code",
   "execution_count": 29,
   "metadata": {},
   "outputs": [
    {
     "data": {
      "text/html": [
       "<div>\n",
       "<style scoped>\n",
       "    .dataframe tbody tr th:only-of-type {\n",
       "        vertical-align: middle;\n",
       "    }\n",
       "\n",
       "    .dataframe tbody tr th {\n",
       "        vertical-align: top;\n",
       "    }\n",
       "\n",
       "    .dataframe thead th {\n",
       "        text-align: right;\n",
       "    }\n",
       "</style>\n",
       "<table border=\"1\" class=\"dataframe\">\n",
       "  <thead>\n",
       "    <tr style=\"text-align: right;\">\n",
       "      <th></th>\n",
       "      <th>count</th>\n",
       "      <th>mean</th>\n",
       "      <th>std</th>\n",
       "      <th>min</th>\n",
       "      <th>25%</th>\n",
       "      <th>50%</th>\n",
       "      <th>75%</th>\n",
       "      <th>max</th>\n",
       "    </tr>\n",
       "    <tr>\n",
       "      <th>location</th>\n",
       "      <th></th>\n",
       "      <th></th>\n",
       "      <th></th>\n",
       "      <th></th>\n",
       "      <th></th>\n",
       "      <th></th>\n",
       "      <th></th>\n",
       "      <th></th>\n",
       "    </tr>\n",
       "  </thead>\n",
       "  <tbody>\n",
       "    <tr>\n",
       "      <th>United States, Maine</th>\n",
       "      <td>231.0</td>\n",
       "      <td>0.183846</td>\n",
       "      <td>0.473111</td>\n",
       "      <td>-1.518077</td>\n",
       "      <td>-0.102519</td>\n",
       "      <td>0.166365</td>\n",
       "      <td>0.513198</td>\n",
       "      <td>1.362519</td>\n",
       "    </tr>\n",
       "    <tr>\n",
       "      <th>United States, Vermont</th>\n",
       "      <td>426.0</td>\n",
       "      <td>0.125832</td>\n",
       "      <td>0.574776</td>\n",
       "      <td>-1.837734</td>\n",
       "      <td>-0.237652</td>\n",
       "      <td>0.133906</td>\n",
       "      <td>0.563873</td>\n",
       "      <td>1.516792</td>\n",
       "    </tr>\n",
       "    <tr>\n",
       "      <th>United States, California</th>\n",
       "      <td>2320.0</td>\n",
       "      <td>0.107166</td>\n",
       "      <td>0.515948</td>\n",
       "      <td>-3.199859</td>\n",
       "      <td>-0.203632</td>\n",
       "      <td>0.129826</td>\n",
       "      <td>0.466887</td>\n",
       "      <td>1.415517</td>\n",
       "    </tr>\n",
       "    <tr>\n",
       "      <th>United States, New Mexico</th>\n",
       "      <td>61.0</td>\n",
       "      <td>0.062844</td>\n",
       "      <td>0.617193</td>\n",
       "      <td>-1.590671</td>\n",
       "      <td>-0.326977</td>\n",
       "      <td>0.114137</td>\n",
       "      <td>0.559598</td>\n",
       "      <td>1.172282</td>\n",
       "    </tr>\n",
       "    <tr>\n",
       "      <th>United States, Georgia</th>\n",
       "      <td>253.0</td>\n",
       "      <td>0.045996</td>\n",
       "      <td>0.462134</td>\n",
       "      <td>-1.311436</td>\n",
       "      <td>-0.247329</td>\n",
       "      <td>0.045842</td>\n",
       "      <td>0.353078</td>\n",
       "      <td>1.344551</td>\n",
       "    </tr>\n",
       "    <tr>\n",
       "      <th>Estonia</th>\n",
       "      <td>59.0</td>\n",
       "      <td>0.036721</td>\n",
       "      <td>0.567130</td>\n",
       "      <td>-1.118227</td>\n",
       "      <td>-0.462741</td>\n",
       "      <td>0.026469</td>\n",
       "      <td>0.432350</td>\n",
       "      <td>1.091648</td>\n",
       "    </tr>\n",
       "    <tr>\n",
       "      <th>United States, Alaska</th>\n",
       "      <td>87.0</td>\n",
       "      <td>0.006421</td>\n",
       "      <td>0.462141</td>\n",
       "      <td>-1.320580</td>\n",
       "      <td>-0.279923</td>\n",
       "      <td>-0.025459</td>\n",
       "      <td>0.331573</td>\n",
       "      <td>1.052375</td>\n",
       "    </tr>\n",
       "    <tr>\n",
       "      <th>United States, New York</th>\n",
       "      <td>996.0</td>\n",
       "      <td>-0.011019</td>\n",
       "      <td>0.469878</td>\n",
       "      <td>-1.680847</td>\n",
       "      <td>-0.293767</td>\n",
       "      <td>0.026104</td>\n",
       "      <td>0.321323</td>\n",
       "      <td>1.077818</td>\n",
       "    </tr>\n",
       "    <tr>\n",
       "      <th>United States, Illinois</th>\n",
       "      <td>1029.0</td>\n",
       "      <td>-0.037431</td>\n",
       "      <td>0.429992</td>\n",
       "      <td>-2.416453</td>\n",
       "      <td>-0.295651</td>\n",
       "      <td>-0.026500</td>\n",
       "      <td>0.250733</td>\n",
       "      <td>1.230551</td>\n",
       "    </tr>\n",
       "    <tr>\n",
       "      <th>United States, Iowa</th>\n",
       "      <td>112.0</td>\n",
       "      <td>-0.037493</td>\n",
       "      <td>0.604561</td>\n",
       "      <td>-1.372357</td>\n",
       "      <td>-0.439770</td>\n",
       "      <td>-0.075913</td>\n",
       "      <td>0.300389</td>\n",
       "      <td>1.692437</td>\n",
       "    </tr>\n",
       "  </tbody>\n",
       "</table>\n",
       "</div>"
      ],
      "text/plain": [
       "                            count      mean       std       min       25%  \\\n",
       "location                                                                    \n",
       "United States, Maine        231.0  0.183846  0.473111 -1.518077 -0.102519   \n",
       "United States, Vermont      426.0  0.125832  0.574776 -1.837734 -0.237652   \n",
       "United States, California  2320.0  0.107166  0.515948 -3.199859 -0.203632   \n",
       "United States, New Mexico    61.0  0.062844  0.617193 -1.590671 -0.326977   \n",
       "United States, Georgia      253.0  0.045996  0.462134 -1.311436 -0.247329   \n",
       "Estonia                      59.0  0.036721  0.567130 -1.118227 -0.462741   \n",
       "United States, Alaska        87.0  0.006421  0.462141 -1.320580 -0.279923   \n",
       "United States, New York     996.0 -0.011019  0.469878 -1.680847 -0.293767   \n",
       "United States, Illinois    1029.0 -0.037431  0.429992 -2.416453 -0.295651   \n",
       "United States, Iowa         112.0 -0.037493  0.604561 -1.372357 -0.439770   \n",
       "\n",
       "                                50%       75%       max  \n",
       "location                                                 \n",
       "United States, Maine       0.166365  0.513198  1.362519  \n",
       "United States, Vermont     0.133906  0.563873  1.516792  \n",
       "United States, California  0.129826  0.466887  1.415517  \n",
       "United States, New Mexico  0.114137  0.559598  1.172282  \n",
       "United States, Georgia     0.045842  0.353078  1.344551  \n",
       "Estonia                    0.026469  0.432350  1.091648  \n",
       "United States, Alaska     -0.025459  0.331573  1.052375  \n",
       "United States, New York    0.026104  0.321323  1.077818  \n",
       "United States, Illinois   -0.026500  0.250733  1.230551  \n",
       "United States, Iowa       -0.075913  0.300389  1.692437  "
      ]
     },
     "metadata": {},
     "output_type": "display_data"
    },
    {
     "data": {
      "image/png": "[encoded data removed]",
      "text/plain": [
       "<Figure size 1440x576 with 1 Axes>"
      ]
     },
     "metadata": {
      "needs_background": "light"
     },
     "output_type": "display_data"
    }
   ],
   "source": [
    "#Compute the beers'average rating on the two website by creating new columns\n",
    "df_beer_breweries_flt['total_rating'] = df_beer_breweries_flt['nbr_ratings'] + df_beer_breweries_flt['nbr_ratings.1']\n",
    "df_beer_breweries_flt['zscore_common'] = df_beer_breweries_flt['nbr_ratings']/df_beer_breweries_flt['total_rating'] * df_beer_breweries_flt['zscore'] + df_beer_breweries_flt['nbr_ratings.1'] / df_beer_breweries_flt['total_rating'] * df_beer_breweries_flt['zscore.1']\n",
    "\n",
    "\n",
    "#Sort the dataframe by considering the 10 location with the best average rating\n",
    "avg_rating_location = df_beer_breweries_flt.groupby('location').zscore_common.describe()\n",
    "avg_rating_location.sort_values(by='mean', ascending=False, inplace=True)\n",
    "top_ten_best = avg_rating_location.head(10)\n",
    "display(top_ten_best)\n",
    "\n",
    "\n",
    "#Plot the result with stndard deviation as error bar\n",
    "pl = top_ten_best['mean'].plot(kind='bar', figsize=[20,8], rot=0, yerr=top_ten_best['std'])\n",
    "pl.set_title('Location with the best average rating')\n",
    "pl.set_ylabel('Average rating')\n",
    "pl.set_xlabel('Location')\n",
    "pl.set_xticklabels(top_ten_best.index, rotation=90)\n",
    "\n",
    "#Keep a copy the ranking \n",
    "top_ten_best_only_location = top_ten_best.index \n",
    "\n"
   ]
  },
  {
   "cell_type": "markdown",
   "metadata": {},
   "source": [
    "As we can see on the barplot above, the standard deviation in each location is quite huge. It shows that is a location, there are well-rated beers, but also some that are badly rated. The precision of this not good, but still give a good idea of the regions where the overall ratings of the beers is high."
   ]
  },
  {
   "cell_type": "code",
   "execution_count": 30,
   "metadata": {},
   "outputs": [
    {
     "data": {
      "text/html": [
       "<div>\n",
       "<style scoped>\n",
       "    .dataframe tbody tr th:only-of-type {\n",
       "        vertical-align: middle;\n",
       "    }\n",
       "\n",
       "    .dataframe tbody tr th {\n",
       "        vertical-align: top;\n",
       "    }\n",
       "\n",
       "    .dataframe thead th {\n",
       "        text-align: right;\n",
       "    }\n",
       "</style>\n",
       "<table border=\"1\" class=\"dataframe\">\n",
       "  <thead>\n",
       "    <tr style=\"text-align: right;\">\n",
       "      <th></th>\n",
       "      <th>count</th>\n",
       "      <th>mean</th>\n",
       "      <th>std</th>\n",
       "      <th>min</th>\n",
       "      <th>25%</th>\n",
       "      <th>50%</th>\n",
       "      <th>75%</th>\n",
       "      <th>max</th>\n",
       "    </tr>\n",
       "    <tr>\n",
       "      <th>location</th>\n",
       "      <th></th>\n",
       "      <th></th>\n",
       "      <th></th>\n",
       "      <th></th>\n",
       "      <th></th>\n",
       "      <th></th>\n",
       "      <th></th>\n",
       "      <th></th>\n",
       "    </tr>\n",
       "  </thead>\n",
       "  <tbody>\n",
       "    <tr>\n",
       "      <th>Lithuania</th>\n",
       "      <td>23.0</td>\n",
       "      <td>-1.425476</td>\n",
       "      <td>0.630819</td>\n",
       "      <td>-2.724032</td>\n",
       "      <td>-1.868994</td>\n",
       "      <td>-1.269317</td>\n",
       "      <td>-0.941136</td>\n",
       "      <td>-0.392230</td>\n",
       "    </tr>\n",
       "    <tr>\n",
       "      <th>Malta</th>\n",
       "      <td>10.0</td>\n",
       "      <td>-1.180339</td>\n",
       "      <td>0.818195</td>\n",
       "      <td>-2.410861</td>\n",
       "      <td>-1.938667</td>\n",
       "      <td>-0.921097</td>\n",
       "      <td>-0.495975</td>\n",
       "      <td>-0.277015</td>\n",
       "    </tr>\n",
       "    <tr>\n",
       "      <th>Greece</th>\n",
       "      <td>35.0</td>\n",
       "      <td>-1.148942</td>\n",
       "      <td>0.905444</td>\n",
       "      <td>-3.180170</td>\n",
       "      <td>-1.714084</td>\n",
       "      <td>-1.127349</td>\n",
       "      <td>-0.436014</td>\n",
       "      <td>0.483792</td>\n",
       "    </tr>\n",
       "    <tr>\n",
       "      <th>Bulgaria</th>\n",
       "      <td>11.0</td>\n",
       "      <td>-1.120384</td>\n",
       "      <td>0.932687</td>\n",
       "      <td>-2.935601</td>\n",
       "      <td>-1.811626</td>\n",
       "      <td>-0.776093</td>\n",
       "      <td>-0.328896</td>\n",
       "      <td>-0.273884</td>\n",
       "    </tr>\n",
       "    <tr>\n",
       "      <th>Mexico</th>\n",
       "      <td>34.0</td>\n",
       "      <td>-0.924306</td>\n",
       "      <td>0.641137</td>\n",
       "      <td>-2.454270</td>\n",
       "      <td>-1.225178</td>\n",
       "      <td>-0.733734</td>\n",
       "      <td>-0.448827</td>\n",
       "      <td>0.308954</td>\n",
       "    </tr>\n",
       "    <tr>\n",
       "      <th>Ukraine</th>\n",
       "      <td>26.0</td>\n",
       "      <td>-0.908454</td>\n",
       "      <td>1.002142</td>\n",
       "      <td>-3.243719</td>\n",
       "      <td>-1.377662</td>\n",
       "      <td>-0.573328</td>\n",
       "      <td>-0.357755</td>\n",
       "      <td>0.575054</td>\n",
       "    </tr>\n",
       "    <tr>\n",
       "      <th>Serbia</th>\n",
       "      <td>22.0</td>\n",
       "      <td>-0.861378</td>\n",
       "      <td>0.937381</td>\n",
       "      <td>-2.512200</td>\n",
       "      <td>-1.649881</td>\n",
       "      <td>-0.463577</td>\n",
       "      <td>-0.083670</td>\n",
       "      <td>0.248760</td>\n",
       "    </tr>\n",
       "    <tr>\n",
       "      <th>Croatia</th>\n",
       "      <td>11.0</td>\n",
       "      <td>-0.794280</td>\n",
       "      <td>1.242638</td>\n",
       "      <td>-2.493899</td>\n",
       "      <td>-1.992869</td>\n",
       "      <td>-0.131413</td>\n",
       "      <td>0.300526</td>\n",
       "      <td>0.567897</td>\n",
       "    </tr>\n",
       "    <tr>\n",
       "      <th>Spain</th>\n",
       "      <td>203.0</td>\n",
       "      <td>-0.713136</td>\n",
       "      <td>0.773352</td>\n",
       "      <td>-3.008873</td>\n",
       "      <td>-1.275675</td>\n",
       "      <td>-0.643853</td>\n",
       "      <td>-0.124416</td>\n",
       "      <td>0.836810</td>\n",
       "    </tr>\n",
       "    <tr>\n",
       "      <th>Finland</th>\n",
       "      <td>106.0</td>\n",
       "      <td>-0.708613</td>\n",
       "      <td>0.603189</td>\n",
       "      <td>-2.250163</td>\n",
       "      <td>-1.044652</td>\n",
       "      <td>-0.696048</td>\n",
       "      <td>-0.338241</td>\n",
       "      <td>0.843315</td>\n",
       "    </tr>\n",
       "  </tbody>\n",
       "</table>\n",
       "</div>"
      ],
      "text/plain": [
       "           count      mean       std       min       25%       50%       75%  \\\n",
       "location                                                                       \n",
       "Lithuania   23.0 -1.425476  0.630819 -2.724032 -1.868994 -1.269317 -0.941136   \n",
       "Malta       10.0 -1.180339  0.818195 -2.410861 -1.938667 -0.921097 -0.495975   \n",
       "Greece      35.0 -1.148942  0.905444 -3.180170 -1.714084 -1.127349 -0.436014   \n",
       "Bulgaria    11.0 -1.120384  0.932687 -2.935601 -1.811626 -0.776093 -0.328896   \n",
       "Mexico      34.0 -0.924306  0.641137 -2.454270 -1.225178 -0.733734 -0.448827   \n",
       "Ukraine     26.0 -0.908454  1.002142 -3.243719 -1.377662 -0.573328 -0.357755   \n",
       "Serbia      22.0 -0.861378  0.937381 -2.512200 -1.649881 -0.463577 -0.083670   \n",
       "Croatia     11.0 -0.794280  1.242638 -2.493899 -1.992869 -0.131413  0.300526   \n",
       "Spain      203.0 -0.713136  0.773352 -3.008873 -1.275675 -0.643853 -0.124416   \n",
       "Finland    106.0 -0.708613  0.603189 -2.250163 -1.044652 -0.696048 -0.338241   \n",
       "\n",
       "                max  \n",
       "location             \n",
       "Lithuania -0.392230  \n",
       "Malta     -0.277015  \n",
       "Greece     0.483792  \n",
       "Bulgaria  -0.273884  \n",
       "Mexico     0.308954  \n",
       "Ukraine    0.575054  \n",
       "Serbia     0.248760  \n",
       "Croatia    0.567897  \n",
       "Spain      0.836810  \n",
       "Finland    0.843315  "
      ]
     },
     "metadata": {},
     "output_type": "display_data"
    },
    {
     "data": {
      "image/png": "[encoded data removed]",
      "text/plain": [
       "<Figure size 1440x576 with 1 Axes>"
      ]
     },
     "metadata": {
      "needs_background": "light"
     },
     "output_type": "display_data"
    }
   ],
   "source": [
    "#Sorted the location considering the 10 location with the worst average rating and plot the result\n",
    "avg_rating_location = df_beer_breweries_flt.groupby('location').zscore_common.describe()\n",
    "avg_rating_location.sort_values(by='mean', ascending=True, inplace=True)\n",
    "top_ten_worst = avg_rating_location.head(10)\n",
    "display(top_ten_worst)\n",
    "\n",
    "\n",
    "#Plot the result with stndard deviation as error bar\n",
    "pl = top_ten_worst['mean'].plot(kind='bar', figsize=[20,8], rot=0, yerr=top_ten_worst['std'])\n",
    "pl.set_title('Location with the worst average rating')\n",
    "pl.set_ylabel('Average zscore')\n",
    "pl.set_xlabel('Location')\n",
    "pl.set_xticklabels(top_ten_worst.index, rotation=90)\n",
    "pl.set_ylim([-4, 4])\n",
    "\n",
    "#Keep a copy the ranking \n",
    "top_ten_worst_only_location = top_ten_worst.index \n"
   ]
  },
  {
   "cell_type": "markdown",
   "metadata": {},
   "source": [
    "This part is more for fun, because we have access to the worst locations, so why not to have a look at it!\n"
   ]
  },
  {
   "cell_type": "markdown",
   "metadata": {},
   "source": [
    "**THE NUMBER OF USERS PER CAPITA**"
   ]
  },
  {
   "cell_type": "markdown",
   "metadata": {},
   "source": [
    "This part is not finish yet, because we need to import a dataframe from Wikipedia with the population from every location in order to compute the amount of user per individual. Then we are going to rank the region of the world with respect to the ones having a lot of reviewers in the population (in those countries, you are more likely to find people that love beers !)"
   ]
  },
  {
   "cell_type": "code",
   "execution_count": 31,
   "metadata": {},
   "outputs": [
    {
     "data": {
      "text/html": [
       "<div>\n",
       "<style scoped>\n",
       "    .dataframe tbody tr th:only-of-type {\n",
       "        vertical-align: middle;\n",
       "    }\n",
       "\n",
       "    .dataframe tbody tr th {\n",
       "        vertical-align: top;\n",
       "    }\n",
       "\n",
       "    .dataframe thead th {\n",
       "        text-align: right;\n",
       "    }\n",
       "</style>\n",
       "<table border=\"1\" class=\"dataframe\">\n",
       "  <thead>\n",
       "    <tr style=\"text-align: right;\">\n",
       "      <th></th>\n",
       "      <th>location</th>\n",
       "      <th>user_id</th>\n",
       "      <th>user_name</th>\n",
       "      <th>nbr_ratings_beer_advocate</th>\n",
       "      <th>nbr_ratings_ratebeer</th>\n",
       "    </tr>\n",
       "  </thead>\n",
       "  <tbody>\n",
       "    <tr>\n",
       "      <th>0</th>\n",
       "      <td>Spain</td>\n",
       "      <td>magicuenca.1185749</td>\n",
       "      <td>MAGICuenca</td>\n",
       "      <td>3</td>\n",
       "      <td>89</td>\n",
       "    </tr>\n",
       "    <tr>\n",
       "      <th>1</th>\n",
       "      <td>Germany</td>\n",
       "      <td>erzengel.248045</td>\n",
       "      <td>Erzengel</td>\n",
       "      <td>6</td>\n",
       "      <td>8781</td>\n",
       "    </tr>\n",
       "    <tr>\n",
       "      <th>2</th>\n",
       "      <td>United States, Virginia</td>\n",
       "      <td>gendv138.695700</td>\n",
       "      <td>GenDV138</td>\n",
       "      <td>1</td>\n",
       "      <td>6240</td>\n",
       "    </tr>\n",
       "    <tr>\n",
       "      <th>3</th>\n",
       "      <td>United States, Washington</td>\n",
       "      <td>nimbleprop.208928</td>\n",
       "      <td>nimbleprop</td>\n",
       "      <td>3</td>\n",
       "      <td>7452</td>\n",
       "    </tr>\n",
       "    <tr>\n",
       "      <th>4</th>\n",
       "      <td>Estonia</td>\n",
       "      <td>visionthing.639993</td>\n",
       "      <td>visionthing</td>\n",
       "      <td>11</td>\n",
       "      <td>5462</td>\n",
       "    </tr>\n",
       "    <tr>\n",
       "      <th>...</th>\n",
       "      <td>...</td>\n",
       "      <td>...</td>\n",
       "      <td>...</td>\n",
       "      <td>...</td>\n",
       "      <td>...</td>\n",
       "    </tr>\n",
       "    <tr>\n",
       "      <th>3336</th>\n",
       "      <td>United States, Michigan</td>\n",
       "      <td>ypsifly.8833</td>\n",
       "      <td>ypsifly</td>\n",
       "      <td>587</td>\n",
       "      <td>1</td>\n",
       "    </tr>\n",
       "    <tr>\n",
       "      <th>3337</th>\n",
       "      <td>United States, Texas</td>\n",
       "      <td>hardtarget.1712</td>\n",
       "      <td>HardTarget</td>\n",
       "      <td>1379</td>\n",
       "      <td>1</td>\n",
       "    </tr>\n",
       "    <tr>\n",
       "      <th>3338</th>\n",
       "      <td>United States, Delaware</td>\n",
       "      <td>deadterry.13629</td>\n",
       "      <td>DeadTerry</td>\n",
       "      <td>1</td>\n",
       "      <td>2</td>\n",
       "    </tr>\n",
       "    <tr>\n",
       "      <th>3339</th>\n",
       "      <td>Vietnam</td>\n",
       "      <td>nelsonsaigon.897449</td>\n",
       "      <td>nelsonsaigon</td>\n",
       "      <td>176</td>\n",
       "      <td>1</td>\n",
       "    </tr>\n",
       "    <tr>\n",
       "      <th>3340</th>\n",
       "      <td>Sweden</td>\n",
       "      <td>delikat.111593</td>\n",
       "      <td>Delikat</td>\n",
       "      <td>1</td>\n",
       "      <td>1</td>\n",
       "    </tr>\n",
       "  </tbody>\n",
       "</table>\n",
       "<p>3341 rows × 5 columns</p>\n",
       "</div>"
      ],
      "text/plain": [
       "                       location              user_id     user_name  \\\n",
       "0                         Spain   magicuenca.1185749    MAGICuenca   \n",
       "1                       Germany      erzengel.248045      Erzengel   \n",
       "2       United States, Virginia      gendv138.695700      GenDV138   \n",
       "3     United States, Washington    nimbleprop.208928    nimbleprop   \n",
       "4                       Estonia   visionthing.639993   visionthing   \n",
       "...                         ...                  ...           ...   \n",
       "3336    United States, Michigan         ypsifly.8833       ypsifly   \n",
       "3337       United States, Texas      hardtarget.1712    HardTarget   \n",
       "3338    United States, Delaware      deadterry.13629     DeadTerry   \n",
       "3339                    Vietnam  nelsonsaigon.897449  nelsonsaigon   \n",
       "3340                     Sweden       delikat.111593       Delikat   \n",
       "\n",
       "      nbr_ratings_beer_advocate  nbr_ratings_ratebeer  \n",
       "0                             3                    89  \n",
       "1                             6                  8781  \n",
       "2                             1                  6240  \n",
       "3                             3                  7452  \n",
       "4                            11                  5462  \n",
       "...                         ...                   ...  \n",
       "3336                        587                     1  \n",
       "3337                       1379                     1  \n",
       "3338                          1                     2  \n",
       "3339                        176                     1  \n",
       "3340                          1                     1  \n",
       "\n",
       "[3341 rows x 5 columns]"
      ]
     },
     "execution_count": 31,
     "metadata": {},
     "output_type": "execute_result"
    }
   ],
   "source": [
    "#To determine the locations where the population is the most passionate by beer. \n",
    "#We thought about computing the amount of reviewers per location relatively to the population of the location.\n",
    "df_users_approx_flt\n"
   ]
  },
  {
   "cell_type": "markdown",
   "metadata": {},
   "source": [
    "## Calculation of the overall ranking: "
   ]
  },
  {
   "cell_type": "markdown",
   "metadata": {},
   "source": [
    "### Illustration of the trips on a world map "
   ]
  },
  {
   "cell_type": "markdown",
   "metadata": {},
   "source": [
    "Not finish yet, it the part where we will show the trips given by each thematic. Here is a small exemple to visualize the common zscore (computed for each location)\n",
    "\n",
    "TO DO (for Milestone P3): \n",
    "We want to illustrate the trips relatively to the features on a map of the world to visualize well the steps of the trips. "
   ]
  },
  {
   "cell_type": "code",
   "execution_count": 32,
   "metadata": {},
   "outputs": [],
   "source": [
    "#Visualization of the dataframe computed above\n",
    "\n",
    "tmp = df_beer_breweries_flt.groupby('location').size().reset_index(name='count')\n",
    "new = df_beer_breweries_flt.groupby('location').zscore_common.mean().reset_index().dropna()\n",
    "\n",
    "# To fit the state names, we need to rename some of them by removing the country name\n",
    "new.location = new.location.str.replace('United States, ', '')\n",
    "\n",
    "#add the count column to the new df\n",
    "new = pd.merge(new, tmp, on='location', how='left')\n",
    "\n",
    "#plotly doesn't recognise mauritius so we drop it and we need to add the correct names for the UK countries\n",
    "new = new[new['location'] != 'Mauritius']\n",
    "new.location = new.location.replace({'England': 'GB-ENG', 'Scotland': 'GB-SCT', 'Wales': 'GB-WLS', 'Northern Ireland': 'GB-NIR'})\n",
    "\n",
    "\n",
    "# Replace full state names with abbreviations because problem with plotly to import the package us\n",
    "state_abbreviations = {\n",
    "    'Alabama': 'AL', 'Alaska': 'AK', 'Arizona': 'AZ', 'Arkansas': 'AR', 'California': 'CA', 'Colorado': 'CO',\n",
    "    'Connecticut': 'CT', 'Delaware': 'DE', 'Florida': 'FL', 'Georgia': 'GA', 'Hawaii': 'HI', 'Idaho': 'ID',\n",
    "    'Illinois': 'IL', 'Indiana': 'IN', 'Iowa': 'IA', 'Kansas': 'KS', 'Kentucky': 'KY', 'Louisiana': 'LA',\n",
    "    'Maine': 'ME', 'Maryland': 'MD', 'Massachusetts': 'MA', 'Michigan': 'MI', 'Minnesota': 'MN', 'Mississippi': 'MS',\n",
    "    'Missouri': 'MO', 'Montana': 'MT', 'Nebraska': 'NE', 'Nevada': 'NV', 'New Hampshire': 'NH', 'New Jersey': 'NJ',\n",
    "    'New Mexico': 'NM', 'New York': 'NY', 'North Carolina': 'NC', 'North Dakota': 'ND', 'Ohio': 'OH', 'Oklahoma': 'OK',\n",
    "    'Oregon': 'OR', 'Pennsylvania': 'PA', 'Rhode Island': 'RI', 'South Carolina': 'SC', 'South Dakota': 'SD',\n",
    "    'Tennessee': 'TN', 'Texas': 'TX', 'Utah': 'UT', 'Vermont': 'VT', 'Virginia': 'VA', 'Washington': 'WA',\n",
    "    'West Virginia': 'WV', 'Wisconsin': 'WI', 'Wyoming': 'WY'\n",
    "    }\n",
    "new['location'] = new['location'].map(state_abbreviations).fillna(new['location'])\n",
    "\n",
    "#sort new df by avg\n",
    "new = new.sort_values(by=['zscore_common'], ascending=False)\n"
   ]
  },
  {
   "cell_type": "code",
   "execution_count": 33,
   "metadata": {},
   "outputs": [
    {
     "data": {
      "application/vnd.plotly.v1+json": {
       "config": {
        "plotlyServerURL": "https://plot.ly"
       },
       "data": [
        {
         "coloraxis": "coloraxis",
         "geo": "geo",
         "hovertemplate": "<b>%{hovertext}</b><br><br>location=%{location}<br>zscore_common=%{z}<extra></extra>",
         "hovertext": [
          "ME",
          "VT",
          "CA",
          "NM",
          "GA",
          "Estonia",
          "AK",
          "NY",
          "IL",
          "IA",
          "OH",
          "OR",
          "Iceland",
          "VA",
          "FL",
          "SC",
          "TN",
          "AZ",
          "NJ",
          "Russia",
          "MA",
          "CT",
          "ND",
          "WV",
          "NH",
          "MO",
          "NC",
          "RI",
          "MN",
          "Denmark",
          "Belgium",
          "MI",
          "IN",
          "OK",
          "CO",
          "KY",
          "WA",
          "PA",
          "NE",
          "GB-ENG",
          "New Zealand",
          "Ireland",
          "ID",
          "WY",
          "TX",
          "Poland",
          "Switzerland",
          "KS",
          "South Korea",
          "Portugal",
          "UT",
          "SD",
          "Italy",
          "MT",
          "AL",
          "Netherlands",
          "Canada",
          "GB-SCT",
          "GB-WLS",
          "Czech Republic",
          "MS",
          "NV",
          "Latvia",
          "GB-NIR",
          "LA",
          "Chile",
          "HI",
          "Norway",
          "MD",
          "DE",
          "Sweden",
          "AR",
          "WI",
          "Brazil",
          "Romania",
          "Japan",
          "China",
          "Australia",
          "Slovak Republic",
          "Germany",
          "Hungary",
          "Austria",
          "Israel",
          "France",
          "South Africa",
          "Finland",
          "Spain",
          "Croatia",
          "Serbia",
          "Ukraine",
          "Mexico",
          "Bulgaria",
          "Greece",
          "Malta",
          "Lithuania"
         ],
         "locationmode": "country names",
         "locations": [
          "ME",
          "VT",
          "CA",
          "NM",
          "GA",
          "Estonia",
          "AK",
          "NY",
          "IL",
          "IA",
          "OH",
          "OR",
          "Iceland",
          "VA",
          "FL",
          "SC",
          "TN",
          "AZ",
          "NJ",
          "Russia",
          "MA",
          "CT",
          "ND",
          "WV",
          "NH",
          "MO",
          "NC",
          "RI",
          "MN",
          "Denmark",
          "Belgium",
          "MI",
          "IN",
          "OK",
          "CO",
          "KY",
          "WA",
          "PA",
          "NE",
          "GB-ENG",
          "New Zealand",
          "Ireland",
          "ID",
          "WY",
          "TX",
          "Poland",
          "Switzerland",
          "KS",
          "South Korea",
          "Portugal",
          "UT",
          "SD",
          "Italy",
          "MT",
          "AL",
          "Netherlands",
          "Canada",
          "GB-SCT",
          "GB-WLS",
          "Czech Republic",
          "MS",
          "NV",
          "Latvia",
          "GB-NIR",
          "LA",
          "Chile",
          "HI",
          "Norway",
          "MD",
          "DE",
          "Sweden",
          "AR",
          "WI",
          "Brazil",
          "Romania",
          "Japan",
          "China",
          "Australia",
          "Slovak Republic",
          "Germany",
          "Hungary",
          "Austria",
          "Israel",
          "France",
          "South Africa",
          "Finland",
          "Spain",
          "Croatia",
          "Serbia",
          "Ukraine",
          "Mexico",
          "Bulgaria",
          "Greece",
          "Malta",
          "Lithuania"
         ],
         "name": "",
         "type": "choropleth",
         "z": [
          0.18384567653993195,
          0.1258321921734836,
          0.10716597249487883,
          0.06284426608745174,
          0.04599647686149301,
          0.03672121010625703,
          0.006421285758292627,
          -0.01101937824537486,
          -0.037430624610829334,
          -0.0374925246210264,
          -0.04288476305528537,
          -0.04585922987153396,
          -0.04835472978193711,
          -0.06481121314138738,
          -0.0684275341341066,
          -0.09443842401813729,
          -0.09987587476463208,
          -0.1032985145054008,
          -0.10556049080530984,
          -0.10905665177363215,
          -0.11432289999006935,
          -0.12023104180629116,
          -0.13780653642821214,
          -0.14029691131585742,
          -0.1408169387768909,
          -0.1431876082338879,
          -0.14446074634157852,
          -0.1476041027635764,
          -0.16003715420797487,
          -0.16226588111055817,
          -0.16282132305792768,
          -0.16361294750974356,
          -0.16640577118150868,
          -0.16856617612883182,
          -0.16954682886483363,
          -0.17137714667350237,
          -0.1717350984976611,
          -0.17417384848239725,
          -0.19650112338968856,
          -0.200293145726029,
          -0.21061174270504954,
          -0.22042168033764376,
          -0.2212311622876793,
          -0.22390463482159104,
          -0.22413117823364107,
          -0.2634462724851877,
          -0.2639726939944938,
          -0.266267690321716,
          -0.2719102466400692,
          -0.2797157583815783,
          -0.28180928360518026,
          -0.28327636283466784,
          -0.2865006022578856,
          -0.29399742267129936,
          -0.30124127133414974,
          -0.31084679573694923,
          -0.31793436716387913,
          -0.3189225091180107,
          -0.31948201418017824,
          -0.3322624091368458,
          -0.33577580372566806,
          -0.3375351271177696,
          -0.33776280818736776,
          -0.34825498432520124,
          -0.35126631552693144,
          -0.36145589110527404,
          -0.3637998840344757,
          -0.366043966622106,
          -0.37914309099190996,
          -0.39180379445151414,
          -0.4058228825566648,
          -0.4196607391438728,
          -0.4206483359387669,
          -0.42898226639082554,
          -0.4423632166485848,
          -0.4469248391163546,
          -0.45380108824031873,
          -0.5022766974403319,
          -0.5867831987830722,
          -0.6236829357641884,
          -0.637123908081092,
          -0.6411098610977308,
          -0.6420523793860788,
          -0.6489921830878634,
          -0.6991330599585028,
          -0.7086125423828455,
          -0.7131358754280607,
          -0.794280254678996,
          -0.8613779799987317,
          -0.9084542969117037,
          -0.9243058702531257,
          -1.120384349387117,
          -1.1489424366945067,
          -1.1803388841578786,
          -1.4254759653279283
         ]
        }
       ],
       "layout": {
        "coloraxis": {
         "colorbar": {
          "title": {
           "text": "Standardize ratings for each location"
          }
         },
         "colorscale": [
          [
           0,
           "#0d0887"
          ],
          [
           0.1111111111111111,
           "#46039f"
          ],
          [
           0.2222222222222222,
           "#7201a8"
          ],
          [
           0.3333333333333333,
           "#9c179e"
          ],
          [
           0.4444444444444444,
           "#bd3786"
          ],
          [
           0.5555555555555556,
           "#d8576b"
          ],
          [
           0.6666666666666666,
           "#ed7953"
          ],
          [
           0.7777777777777778,
           "#fb9f3a"
          ],
          [
           0.8888888888888888,
           "#fdca26"
          ],
          [
           1,
           "#f0f921"
          ]
         ]
        },
        "geo": {
         "center": {},
         "domain": {
          "x": [
           0,
           1
          ],
          "y": [
           0,
           1
          ]
         },
         "projection": {
          "type": "orthographic"
         },
         "scope": "world"
        },
        "legend": {
         "tracegroupgap": 0
        },
        "margin": {
         "t": 60
        },
        "template": {
         "data": {
          "bar": [
           {
            "error_x": {
             "color": "#2a3f5f"
            },
            "error_y": {
             "color": "#2a3f5f"
            },
            "marker": {
             "line": {
              "color": "#E5ECF6",
              "width": 0.5
             },
             "pattern": {
              "fillmode": "overlay",
              "size": 10,
              "solidity": 0.2
             }
            },
            "type": "bar"
           }
          ],
          "barpolar": [
           {
            "marker": {
             "line": {
              "color": "#E5ECF6",
              "width": 0.5
             },
             "pattern": {
              "fillmode": "overlay",
              "size": 10,
              "solidity": 0.2
             }
            },
            "type": "barpolar"
           }
          ],
          "carpet": [
           {
            "aaxis": {
             "endlinecolor": "#2a3f5f",
             "gridcolor": "white",
             "linecolor": "white",
             "minorgridcolor": "white",
             "startlinecolor": "#2a3f5f"
            },
            "baxis": {
             "endlinecolor": "#2a3f5f",
             "gridcolor": "white",
             "linecolor": "white",
             "minorgridcolor": "white",
             "startlinecolor": "#2a3f5f"
            },
            "type": "carpet"
           }
          ],
          "choropleth": [
           {
            "colorbar": {
             "outlinewidth": 0,
             "ticks": ""
            },
            "type": "choropleth"
           }
          ],
          "contour": [
           {
            "colorbar": {
             "outlinewidth": 0,
             "ticks": ""
            },
            "colorscale": [
             [
              0,
              "#0d0887"
             ],
             [
              0.1111111111111111,
              "#46039f"
             ],
             [
              0.2222222222222222,
              "#7201a8"
             ],
             [
              0.3333333333333333,
              "#9c179e"
             ],
             [
              0.4444444444444444,
              "#bd3786"
             ],
             [
              0.5555555555555556,
              "#d8576b"
             ],
             [
              0.6666666666666666,
              "#ed7953"
             ],
             [
              0.7777777777777778,
              "#fb9f3a"
             ],
             [
              0.8888888888888888,
              "#fdca26"
             ],
             [
              1,
              "#f0f921"
             ]
            ],
            "type": "contour"
           }
          ],
          "contourcarpet": [
           {
            "colorbar": {
             "outlinewidth": 0,
             "ticks": ""
            },
            "type": "contourcarpet"
           }
          ],
          "heatmap": [
           {
            "colorbar": {
             "outlinewidth": 0,
             "ticks": ""
            },
            "colorscale": [
             [
              0,
              "#0d0887"
             ],
             [
              0.1111111111111111,
              "#46039f"
             ],
             [
              0.2222222222222222,
              "#7201a8"
             ],
             [
              0.3333333333333333,
              "#9c179e"
             ],
             [
              0.4444444444444444,
              "#bd3786"
             ],
             [
              0.5555555555555556,
              "#d8576b"
             ],
             [
              0.6666666666666666,
              "#ed7953"
             ],
             [
              0.7777777777777778,
              "#fb9f3a"
             ],
             [
              0.8888888888888888,
              "#fdca26"
             ],
             [
              1,
              "#f0f921"
             ]
            ],
            "type": "heatmap"
           }
          ],
          "heatmapgl": [
           {
            "colorbar": {
             "outlinewidth": 0,
             "ticks": ""
            },
            "colorscale": [
             [
              0,
              "#0d0887"
             ],
             [
              0.1111111111111111,
              "#46039f"
             ],
             [
              0.2222222222222222,
              "#7201a8"
             ],
             [
              0.3333333333333333,
              "#9c179e"
             ],
             [
              0.4444444444444444,
              "#bd3786"
             ],
             [
              0.5555555555555556,
              "#d8576b"
             ],
             [
              0.6666666666666666,
              "#ed7953"
             ],
             [
              0.7777777777777778,
              "#fb9f3a"
             ],
             [
              0.8888888888888888,
              "#fdca26"
             ],
             [
              1,
              "#f0f921"
             ]
            ],
            "type": "heatmapgl"
           }
          ],
          "histogram": [
           {
            "marker": {
             "pattern": {
              "fillmode": "overlay",
              "size": 10,
              "solidity": 0.2
             }
            },
            "type": "histogram"
           }
          ],
          "histogram2d": [
           {
            "colorbar": {
             "outlinewidth": 0,
             "ticks": ""
            },
            "colorscale": [
             [
              0,
              "#0d0887"
             ],
             [
              0.1111111111111111,
              "#46039f"
             ],
             [
              0.2222222222222222,
              "#7201a8"
             ],
             [
              0.3333333333333333,
              "#9c179e"
             ],
             [
              0.4444444444444444,
              "#bd3786"
             ],
             [
              0.5555555555555556,
              "#d8576b"
             ],
             [
              0.6666666666666666,
              "#ed7953"
             ],
             [
              0.7777777777777778,
              "#fb9f3a"
             ],
             [
              0.8888888888888888,
              "#fdca26"
             ],
             [
              1,
              "#f0f921"
             ]
            ],
            "type": "histogram2d"
           }
          ],
          "histogram2dcontour": [
           {
            "colorbar": {
             "outlinewidth": 0,
             "ticks": ""
            },
            "colorscale": [
             [
              0,
              "#0d0887"
             ],
             [
              0.1111111111111111,
              "#46039f"
             ],
             [
              0.2222222222222222,
              "#7201a8"
             ],
             [
              0.3333333333333333,
              "#9c179e"
             ],
             [
              0.4444444444444444,
              "#bd3786"
             ],
             [
              0.5555555555555556,
              "#d8576b"
             ],
             [
              0.6666666666666666,
              "#ed7953"
             ],
             [
              0.7777777777777778,
              "#fb9f3a"
             ],
             [
              0.8888888888888888,
              "#fdca26"
             ],
             [
              1,
              "#f0f921"
             ]
            ],
            "type": "histogram2dcontour"
           }
          ],
          "mesh3d": [
           {
            "colorbar": {
             "outlinewidth": 0,
             "ticks": ""
            },
            "type": "mesh3d"
           }
          ],
          "parcoords": [
           {
            "line": {
             "colorbar": {
              "outlinewidth": 0,
              "ticks": ""
             }
            },
            "type": "parcoords"
           }
          ],
          "pie": [
           {
            "automargin": true,
            "type": "pie"
           }
          ],
          "scatter": [
           {
            "fillpattern": {
             "fillmode": "overlay",
             "size": 10,
             "solidity": 0.2
            },
            "type": "scatter"
           }
          ],
          "scatter3d": [
           {
            "line": {
             "colorbar": {
              "outlinewidth": 0,
              "ticks": ""
             }
            },
            "marker": {
             "colorbar": {
              "outlinewidth": 0,
              "ticks": ""
             }
            },
            "type": "scatter3d"
           }
          ],
          "scattercarpet": [
           {
            "marker": {
             "colorbar": {
              "outlinewidth": 0,
              "ticks": ""
             }
            },
            "type": "scattercarpet"
           }
          ],
          "scattergeo": [
           {
            "marker": {
             "colorbar": {
              "outlinewidth": 0,
              "ticks": ""
             }
            },
            "type": "scattergeo"
           }
          ],
          "scattergl": [
           {
            "marker": {
             "colorbar": {
              "outlinewidth": 0,
              "ticks": ""
             }
            },
            "type": "scattergl"
           }
          ],
          "scattermapbox": [
           {
            "marker": {
             "colorbar": {
              "outlinewidth": 0,
              "ticks": ""
             }
            },
            "type": "scattermapbox"
           }
          ],
          "scatterpolar": [
           {
            "marker": {
             "colorbar": {
              "outlinewidth": 0,
              "ticks": ""
             }
            },
            "type": "scatterpolar"
           }
          ],
          "scatterpolargl": [
           {
            "marker": {
             "colorbar": {
              "outlinewidth": 0,
              "ticks": ""
             }
            },
            "type": "scatterpolargl"
           }
          ],
          "scatterternary": [
           {
            "marker": {
             "colorbar": {
              "outlinewidth": 0,
              "ticks": ""
             }
            },
            "type": "scatterternary"
           }
          ],
          "surface": [
           {
            "colorbar": {
             "outlinewidth": 0,
             "ticks": ""
            },
            "colorscale": [
             [
              0,
              "#0d0887"
             ],
             [
              0.1111111111111111,
              "#46039f"
             ],
             [
              0.2222222222222222,
              "#7201a8"
             ],
             [
              0.3333333333333333,
              "#9c179e"
             ],
             [
              0.4444444444444444,
              "#bd3786"
             ],
             [
              0.5555555555555556,
              "#d8576b"
             ],
             [
              0.6666666666666666,
              "#ed7953"
             ],
             [
              0.7777777777777778,
              "#fb9f3a"
             ],
             [
              0.8888888888888888,
              "#fdca26"
             ],
             [
              1,
              "#f0f921"
             ]
            ],
            "type": "surface"
           }
          ],
          "table": [
           {
            "cells": {
             "fill": {
              "color": "#EBF0F8"
             },
             "line": {
              "color": "white"
             }
            },
            "header": {
             "fill": {
              "color": "#C8D4E3"
             },
             "line": {
              "color": "white"
             }
            },
            "type": "table"
           }
          ]
         },
         "layout": {
          "annotationdefaults": {
           "arrowcolor": "#2a3f5f",
           "arrowhead": 0,
           "arrowwidth": 1
          },
          "autotypenumbers": "strict",
          "coloraxis": {
           "colorbar": {
            "outlinewidth": 0,
            "ticks": ""
           }
          },
          "colorscale": {
           "diverging": [
            [
             0,
             "#8e0152"
            ],
            [
             0.1,
             "#c51b7d"
            ],
            [
             0.2,
             "#de77ae"
            ],
            [
             0.3,
             "#f1b6da"
            ],
            [
             0.4,
             "#fde0ef"
            ],
            [
             0.5,
             "#f7f7f7"
            ],
            [
             0.6,
             "#e6f5d0"
            ],
            [
             0.7,
             "#b8e186"
            ],
            [
             0.8,
             "#7fbc41"
            ],
            [
             0.9,
             "#4d9221"
            ],
            [
             1,
             "#276419"
            ]
           ],
           "sequential": [
            [
             0,
             "#0d0887"
            ],
            [
             0.1111111111111111,
             "#46039f"
            ],
            [
             0.2222222222222222,
             "#7201a8"
            ],
            [
             0.3333333333333333,
             "#9c179e"
            ],
            [
             0.4444444444444444,
             "#bd3786"
            ],
            [
             0.5555555555555556,
             "#d8576b"
            ],
            [
             0.6666666666666666,
             "#ed7953"
            ],
            [
             0.7777777777777778,
             "#fb9f3a"
            ],
            [
             0.8888888888888888,
             "#fdca26"
            ],
            [
             1,
             "#f0f921"
            ]
           ],
           "sequentialminus": [
            [
             0,
             "#0d0887"
            ],
            [
             0.1111111111111111,
             "#46039f"
            ],
            [
             0.2222222222222222,
             "#7201a8"
            ],
            [
             0.3333333333333333,
             "#9c179e"
            ],
            [
             0.4444444444444444,
             "#bd3786"
            ],
            [
             0.5555555555555556,
             "#d8576b"
            ],
            [
             0.6666666666666666,
             "#ed7953"
            ],
            [
             0.7777777777777778,
             "#fb9f3a"
            ],
            [
             0.8888888888888888,
             "#fdca26"
            ],
            [
             1,
             "#f0f921"
            ]
           ]
          },
          "colorway": [
           "#636efa",
           "#EF553B",
           "#00cc96",
           "#ab63fa",
           "#FFA15A",
           "#19d3f3",
           "#FF6692",
           "#B6E880",
           "#FF97FF",
           "#FECB52"
          ],
          "font": {
           "color": "#2a3f5f"
          },
          "geo": {
           "bgcolor": "white",
           "lakecolor": "white",
           "landcolor": "#E5ECF6",
           "showlakes": true,
           "showland": true,
           "subunitcolor": "white"
          },
          "hoverlabel": {
           "align": "left"
          },
          "hovermode": "closest",
          "mapbox": {
           "style": "light"
          },
          "paper_bgcolor": "white",
          "plot_bgcolor": "#E5ECF6",
          "polar": {
           "angularaxis": {
            "gridcolor": "white",
            "linecolor": "white",
            "ticks": ""
           },
           "bgcolor": "#E5ECF6",
           "radialaxis": {
            "gridcolor": "white",
            "linecolor": "white",
            "ticks": ""
           }
          },
          "scene": {
           "xaxis": {
            "backgroundcolor": "#E5ECF6",
            "gridcolor": "white",
            "gridwidth": 2,
            "linecolor": "white",
            "showbackground": true,
            "ticks": "",
            "zerolinecolor": "white"
           },
           "yaxis": {
            "backgroundcolor": "#E5ECF6",
            "gridcolor": "white",
            "gridwidth": 2,
            "linecolor": "white",
            "showbackground": true,
            "ticks": "",
            "zerolinecolor": "white"
           },
           "zaxis": {
            "backgroundcolor": "#E5ECF6",
            "gridcolor": "white",
            "gridwidth": 2,
            "linecolor": "white",
            "showbackground": true,
            "ticks": "",
            "zerolinecolor": "white"
           }
          },
          "shapedefaults": {
           "line": {
            "color": "#2a3f5f"
           }
          },
          "ternary": {
           "aaxis": {
            "gridcolor": "white",
            "linecolor": "white",
            "ticks": ""
           },
           "baxis": {
            "gridcolor": "white",
            "linecolor": "white",
            "ticks": ""
           },
           "bgcolor": "#E5ECF6",
           "caxis": {
            "gridcolor": "white",
            "linecolor": "white",
            "ticks": ""
           }
          },
          "title": {
           "x": 0.05
          },
          "xaxis": {
           "automargin": true,
           "gridcolor": "white",
           "linecolor": "white",
           "ticks": "",
           "title": {
            "standoff": 15
           },
           "zerolinecolor": "white",
           "zerolinewidth": 2
          },
          "yaxis": {
           "automargin": true,
           "gridcolor": "white",
           "linecolor": "white",
           "ticks": "",
           "title": {
            "standoff": 15
           },
           "zerolinecolor": "white",
           "zerolinewidth": 2
          }
         }
        },
        "title": {
         "text": "World Map"
        }
       }
      }
     },
     "metadata": {},
     "output_type": "display_data"
    },
    {
     "data": {
      "application/vnd.plotly.v1+json": {
       "config": {
        "plotlyServerURL": "https://plot.ly"
       },
       "data": [
        {
         "coloraxis": "coloraxis",
         "geo": "geo",
         "hovertemplate": "<b>%{hovertext}</b><br><br>location=%{location}<br>zscore_common=%{z}<extra></extra>",
         "hovertext": [
          "ME",
          "VT",
          "CA",
          "NM",
          "GA",
          "Estonia",
          "AK",
          "NY",
          "IL",
          "IA",
          "OH",
          "OR",
          "Iceland",
          "VA",
          "FL",
          "SC",
          "TN",
          "AZ",
          "NJ",
          "Russia",
          "MA",
          "CT",
          "ND",
          "WV",
          "NH",
          "MO",
          "NC",
          "RI",
          "MN",
          "Denmark",
          "Belgium",
          "MI",
          "IN",
          "OK",
          "CO",
          "KY",
          "WA",
          "PA",
          "NE",
          "GB-ENG",
          "New Zealand",
          "Ireland",
          "ID",
          "WY",
          "TX",
          "Poland",
          "Switzerland",
          "KS",
          "South Korea",
          "Portugal",
          "UT",
          "SD",
          "Italy",
          "MT",
          "AL",
          "Netherlands",
          "Canada",
          "GB-SCT",
          "GB-WLS",
          "Czech Republic",
          "MS",
          "NV",
          "Latvia",
          "GB-NIR",
          "LA",
          "Chile",
          "HI",
          "Norway",
          "MD",
          "DE",
          "Sweden",
          "AR",
          "WI",
          "Brazil",
          "Romania",
          "Japan",
          "China",
          "Australia",
          "Slovak Republic",
          "Germany",
          "Hungary",
          "Austria",
          "Israel",
          "France",
          "South Africa",
          "Finland",
          "Spain",
          "Croatia",
          "Serbia",
          "Ukraine",
          "Mexico",
          "Bulgaria",
          "Greece",
          "Malta",
          "Lithuania"
         ],
         "locationmode": "USA-states",
         "locations": [
          "ME",
          "VT",
          "CA",
          "NM",
          "GA",
          "Estonia",
          "AK",
          "NY",
          "IL",
          "IA",
          "OH",
          "OR",
          "Iceland",
          "VA",
          "FL",
          "SC",
          "TN",
          "AZ",
          "NJ",
          "Russia",
          "MA",
          "CT",
          "ND",
          "WV",
          "NH",
          "MO",
          "NC",
          "RI",
          "MN",
          "Denmark",
          "Belgium",
          "MI",
          "IN",
          "OK",
          "CO",
          "KY",
          "WA",
          "PA",
          "NE",
          "GB-ENG",
          "New Zealand",
          "Ireland",
          "ID",
          "WY",
          "TX",
          "Poland",
          "Switzerland",
          "KS",
          "South Korea",
          "Portugal",
          "UT",
          "SD",
          "Italy",
          "MT",
          "AL",
          "Netherlands",
          "Canada",
          "GB-SCT",
          "GB-WLS",
          "Czech Republic",
          "MS",
          "NV",
          "Latvia",
          "GB-NIR",
          "LA",
          "Chile",
          "HI",
          "Norway",
          "MD",
          "DE",
          "Sweden",
          "AR",
          "WI",
          "Brazil",
          "Romania",
          "Japan",
          "China",
          "Australia",
          "Slovak Republic",
          "Germany",
          "Hungary",
          "Austria",
          "Israel",
          "France",
          "South Africa",
          "Finland",
          "Spain",
          "Croatia",
          "Serbia",
          "Ukraine",
          "Mexico",
          "Bulgaria",
          "Greece",
          "Malta",
          "Lithuania"
         ],
         "name": "",
         "type": "choropleth",
         "z": [
          0.18384567653993195,
          0.1258321921734836,
          0.10716597249487883,
          0.06284426608745174,
          0.04599647686149301,
          0.03672121010625703,
          0.006421285758292627,
          -0.01101937824537486,
          -0.037430624610829334,
          -0.0374925246210264,
          -0.04288476305528537,
          -0.04585922987153396,
          -0.04835472978193711,
          -0.06481121314138738,
          -0.0684275341341066,
          -0.09443842401813729,
          -0.09987587476463208,
          -0.1032985145054008,
          -0.10556049080530984,
          -0.10905665177363215,
          -0.11432289999006935,
          -0.12023104180629116,
          -0.13780653642821214,
          -0.14029691131585742,
          -0.1408169387768909,
          -0.1431876082338879,
          -0.14446074634157852,
          -0.1476041027635764,
          -0.16003715420797487,
          -0.16226588111055817,
          -0.16282132305792768,
          -0.16361294750974356,
          -0.16640577118150868,
          -0.16856617612883182,
          -0.16954682886483363,
          -0.17137714667350237,
          -0.1717350984976611,
          -0.17417384848239725,
          -0.19650112338968856,
          -0.200293145726029,
          -0.21061174270504954,
          -0.22042168033764376,
          -0.2212311622876793,
          -0.22390463482159104,
          -0.22413117823364107,
          -0.2634462724851877,
          -0.2639726939944938,
          -0.266267690321716,
          -0.2719102466400692,
          -0.2797157583815783,
          -0.28180928360518026,
          -0.28327636283466784,
          -0.2865006022578856,
          -0.29399742267129936,
          -0.30124127133414974,
          -0.31084679573694923,
          -0.31793436716387913,
          -0.3189225091180107,
          -0.31948201418017824,
          -0.3322624091368458,
          -0.33577580372566806,
          -0.3375351271177696,
          -0.33776280818736776,
          -0.34825498432520124,
          -0.35126631552693144,
          -0.36145589110527404,
          -0.3637998840344757,
          -0.366043966622106,
          -0.37914309099190996,
          -0.39180379445151414,
          -0.4058228825566648,
          -0.4196607391438728,
          -0.4206483359387669,
          -0.42898226639082554,
          -0.4423632166485848,
          -0.4469248391163546,
          -0.45380108824031873,
          -0.5022766974403319,
          -0.5867831987830722,
          -0.6236829357641884,
          -0.637123908081092,
          -0.6411098610977308,
          -0.6420523793860788,
          -0.6489921830878634,
          -0.6991330599585028,
          -0.7086125423828455,
          -0.7131358754280607,
          -0.794280254678996,
          -0.8613779799987317,
          -0.9084542969117037,
          -0.9243058702531257,
          -1.120384349387117,
          -1.1489424366945067,
          -1.1803388841578786,
          -1.4254759653279283
         ]
        }
       ],
       "layout": {
        "coloraxis": {
         "colorbar": {
          "title": {
           "text": "Standardize ratings for each location"
          }
         },
         "colorscale": [
          [
           0,
           "#0d0887"
          ],
          [
           0.1111111111111111,
           "#46039f"
          ],
          [
           0.2222222222222222,
           "#7201a8"
          ],
          [
           0.3333333333333333,
           "#9c179e"
          ],
          [
           0.4444444444444444,
           "#bd3786"
          ],
          [
           0.5555555555555556,
           "#d8576b"
          ],
          [
           0.6666666666666666,
           "#ed7953"
          ],
          [
           0.7777777777777778,
           "#fb9f3a"
          ],
          [
           0.8888888888888888,
           "#fdca26"
          ],
          [
           1,
           "#f0f921"
          ]
         ]
        },
        "geo": {
         "center": {},
         "domain": {
          "x": [
           0,
           1
          ],
          "y": [
           0,
           1
          ]
         },
         "scope": "usa"
        },
        "legend": {
         "tracegroupgap": 0
        },
        "margin": {
         "t": 60
        },
        "template": {
         "data": {
          "bar": [
           {
            "error_x": {
             "color": "#2a3f5f"
            },
            "error_y": {
             "color": "#2a3f5f"
            },
            "marker": {
             "line": {
              "color": "#E5ECF6",
              "width": 0.5
             },
             "pattern": {
              "fillmode": "overlay",
              "size": 10,
              "solidity": 0.2
             }
            },
            "type": "bar"
           }
          ],
          "barpolar": [
           {
            "marker": {
             "line": {
              "color": "#E5ECF6",
              "width": 0.5
             },
             "pattern": {
              "fillmode": "overlay",
              "size": 10,
              "solidity": 0.2
             }
            },
            "type": "barpolar"
           }
          ],
          "carpet": [
           {
            "aaxis": {
             "endlinecolor": "#2a3f5f",
             "gridcolor": "white",
             "linecolor": "white",
             "minorgridcolor": "white",
             "startlinecolor": "#2a3f5f"
            },
            "baxis": {
             "endlinecolor": "#2a3f5f",
             "gridcolor": "white",
             "linecolor": "white",
             "minorgridcolor": "white",
             "startlinecolor": "#2a3f5f"
            },
            "type": "carpet"
           }
          ],
          "choropleth": [
           {
            "colorbar": {
             "outlinewidth": 0,
             "ticks": ""
            },
            "type": "choropleth"
           }
          ],
          "contour": [
           {
            "colorbar": {
             "outlinewidth": 0,
             "ticks": ""
            },
            "colorscale": [
             [
              0,
              "#0d0887"
             ],
             [
              0.1111111111111111,
              "#46039f"
             ],
             [
              0.2222222222222222,
              "#7201a8"
             ],
             [
              0.3333333333333333,
              "#9c179e"
             ],
             [
              0.4444444444444444,
              "#bd3786"
             ],
             [
              0.5555555555555556,
              "#d8576b"
             ],
             [
              0.6666666666666666,
              "#ed7953"
             ],
             [
              0.7777777777777778,
              "#fb9f3a"
             ],
             [
              0.8888888888888888,
              "#fdca26"
             ],
             [
              1,
              "#f0f921"
             ]
            ],
            "type": "contour"
           }
          ],
          "contourcarpet": [
           {
            "colorbar": {
             "outlinewidth": 0,
             "ticks": ""
            },
            "type": "contourcarpet"
           }
          ],
          "heatmap": [
           {
            "colorbar": {
             "outlinewidth": 0,
             "ticks": ""
            },
            "colorscale": [
             [
              0,
              "#0d0887"
             ],
             [
              0.1111111111111111,
              "#46039f"
             ],
             [
              0.2222222222222222,
              "#7201a8"
             ],
             [
              0.3333333333333333,
              "#9c179e"
             ],
             [
              0.4444444444444444,
              "#bd3786"
             ],
             [
              0.5555555555555556,
              "#d8576b"
             ],
             [
              0.6666666666666666,
              "#ed7953"
             ],
             [
              0.7777777777777778,
              "#fb9f3a"
             ],
             [
              0.8888888888888888,
              "#fdca26"
             ],
             [
              1,
              "#f0f921"
             ]
            ],
            "type": "heatmap"
           }
          ],
          "heatmapgl": [
           {
            "colorbar": {
             "outlinewidth": 0,
             "ticks": ""
            },
            "colorscale": [
             [
              0,
              "#0d0887"
             ],
             [
              0.1111111111111111,
              "#46039f"
             ],
             [
              0.2222222222222222,
              "#7201a8"
             ],
             [
              0.3333333333333333,
              "#9c179e"
             ],
             [
              0.4444444444444444,
              "#bd3786"
             ],
             [
              0.5555555555555556,
              "#d8576b"
             ],
             [
              0.6666666666666666,
              "#ed7953"
             ],
             [
              0.7777777777777778,
              "#fb9f3a"
             ],
             [
              0.8888888888888888,
              "#fdca26"
             ],
             [
              1,
              "#f0f921"
             ]
            ],
            "type": "heatmapgl"
           }
          ],
          "histogram": [
           {
            "marker": {
             "pattern": {
              "fillmode": "overlay",
              "size": 10,
              "solidity": 0.2
             }
            },
            "type": "histogram"
           }
          ],
          "histogram2d": [
           {
            "colorbar": {
             "outlinewidth": 0,
             "ticks": ""
            },
            "colorscale": [
             [
              0,
              "#0d0887"
             ],
             [
              0.1111111111111111,
              "#46039f"
             ],
             [
              0.2222222222222222,
              "#7201a8"
             ],
             [
              0.3333333333333333,
              "#9c179e"
             ],
             [
              0.4444444444444444,
              "#bd3786"
             ],
             [
              0.5555555555555556,
              "#d8576b"
             ],
             [
              0.6666666666666666,
              "#ed7953"
             ],
             [
              0.7777777777777778,
              "#fb9f3a"
             ],
             [
              0.8888888888888888,
              "#fdca26"
             ],
             [
              1,
              "#f0f921"
             ]
            ],
            "type": "histogram2d"
           }
          ],
          "histogram2dcontour": [
           {
            "colorbar": {
             "outlinewidth": 0,
             "ticks": ""
            },
            "colorscale": [
             [
              0,
              "#0d0887"
             ],
             [
              0.1111111111111111,
              "#46039f"
             ],
             [
              0.2222222222222222,
              "#7201a8"
             ],
             [
              0.3333333333333333,
              "#9c179e"
             ],
             [
              0.4444444444444444,
              "#bd3786"
             ],
             [
              0.5555555555555556,
              "#d8576b"
             ],
             [
              0.6666666666666666,
              "#ed7953"
             ],
             [
              0.7777777777777778,
              "#fb9f3a"
             ],
             [
              0.8888888888888888,
              "#fdca26"
             ],
             [
              1,
              "#f0f921"
             ]
            ],
            "type": "histogram2dcontour"
           }
          ],
          "mesh3d": [
           {
            "colorbar": {
             "outlinewidth": 0,
             "ticks": ""
            },
            "type": "mesh3d"
           }
          ],
          "parcoords": [
           {
            "line": {
             "colorbar": {
              "outlinewidth": 0,
              "ticks": ""
             }
            },
            "type": "parcoords"
           }
          ],
          "pie": [
           {
            "automargin": true,
            "type": "pie"
           }
          ],
          "scatter": [
           {
            "fillpattern": {
             "fillmode": "overlay",
             "size": 10,
             "solidity": 0.2
            },
            "type": "scatter"
           }
          ],
          "scatter3d": [
           {
            "line": {
             "colorbar": {
              "outlinewidth": 0,
              "ticks": ""
             }
            },
            "marker": {
             "colorbar": {
              "outlinewidth": 0,
              "ticks": ""
             }
            },
            "type": "scatter3d"
           }
          ],
          "scattercarpet": [
           {
            "marker": {
             "colorbar": {
              "outlinewidth": 0,
              "ticks": ""
             }
            },
            "type": "scattercarpet"
           }
          ],
          "scattergeo": [
           {
            "marker": {
             "colorbar": {
              "outlinewidth": 0,
              "ticks": ""
             }
            },
            "type": "scattergeo"
           }
          ],
          "scattergl": [
           {
            "marker": {
             "colorbar": {
              "outlinewidth": 0,
              "ticks": ""
             }
            },
            "type": "scattergl"
           }
          ],
          "scattermapbox": [
           {
            "marker": {
             "colorbar": {
              "outlinewidth": 0,
              "ticks": ""
             }
            },
            "type": "scattermapbox"
           }
          ],
          "scatterpolar": [
           {
            "marker": {
             "colorbar": {
              "outlinewidth": 0,
              "ticks": ""
             }
            },
            "type": "scatterpolar"
           }
          ],
          "scatterpolargl": [
           {
            "marker": {
             "colorbar": {
              "outlinewidth": 0,
              "ticks": ""
             }
            },
            "type": "scatterpolargl"
           }
          ],
          "scatterternary": [
           {
            "marker": {
             "colorbar": {
              "outlinewidth": 0,
              "ticks": ""
             }
            },
            "type": "scatterternary"
           }
          ],
          "surface": [
           {
            "colorbar": {
             "outlinewidth": 0,
             "ticks": ""
            },
            "colorscale": [
             [
              0,
              "#0d0887"
             ],
             [
              0.1111111111111111,
              "#46039f"
             ],
             [
              0.2222222222222222,
              "#7201a8"
             ],
             [
              0.3333333333333333,
              "#9c179e"
             ],
             [
              0.4444444444444444,
              "#bd3786"
             ],
             [
              0.5555555555555556,
              "#d8576b"
             ],
             [
              0.6666666666666666,
              "#ed7953"
             ],
             [
              0.7777777777777778,
              "#fb9f3a"
             ],
             [
              0.8888888888888888,
              "#fdca26"
             ],
             [
              1,
              "#f0f921"
             ]
            ],
            "type": "surface"
           }
          ],
          "table": [
           {
            "cells": {
             "fill": {
              "color": "#EBF0F8"
             },
             "line": {
              "color": "white"
             }
            },
            "header": {
             "fill": {
              "color": "#C8D4E3"
             },
             "line": {
              "color": "white"
             }
            },
            "type": "table"
           }
          ]
         },
         "layout": {
          "annotationdefaults": {
           "arrowcolor": "#2a3f5f",
           "arrowhead": 0,
           "arrowwidth": 1
          },
          "autotypenumbers": "strict",
          "coloraxis": {
           "colorbar": {
            "outlinewidth": 0,
            "ticks": ""
           }
          },
          "colorscale": {
           "diverging": [
            [
             0,
             "#8e0152"
            ],
            [
             0.1,
             "#c51b7d"
            ],
            [
             0.2,
             "#de77ae"
            ],
            [
             0.3,
             "#f1b6da"
            ],
            [
             0.4,
             "#fde0ef"
            ],
            [
             0.5,
             "#f7f7f7"
            ],
            [
             0.6,
             "#e6f5d0"
            ],
            [
             0.7,
             "#b8e186"
            ],
            [
             0.8,
             "#7fbc41"
            ],
            [
             0.9,
             "#4d9221"
            ],
            [
             1,
             "#276419"
            ]
           ],
           "sequential": [
            [
             0,
             "#0d0887"
            ],
            [
             0.1111111111111111,
             "#46039f"
            ],
            [
             0.2222222222222222,
             "#7201a8"
            ],
            [
             0.3333333333333333,
             "#9c179e"
            ],
            [
             0.4444444444444444,
             "#bd3786"
            ],
            [
             0.5555555555555556,
             "#d8576b"
            ],
            [
             0.6666666666666666,
             "#ed7953"
            ],
            [
             0.7777777777777778,
             "#fb9f3a"
            ],
            [
             0.8888888888888888,
             "#fdca26"
            ],
            [
             1,
             "#f0f921"
            ]
           ],
           "sequentialminus": [
            [
             0,
             "#0d0887"
            ],
            [
             0.1111111111111111,
             "#46039f"
            ],
            [
             0.2222222222222222,
             "#7201a8"
            ],
            [
             0.3333333333333333,
             "#9c179e"
            ],
            [
             0.4444444444444444,
             "#bd3786"
            ],
            [
             0.5555555555555556,
             "#d8576b"
            ],
            [
             0.6666666666666666,
             "#ed7953"
            ],
            [
             0.7777777777777778,
             "#fb9f3a"
            ],
            [
             0.8888888888888888,
             "#fdca26"
            ],
            [
             1,
             "#f0f921"
            ]
           ]
          },
          "colorway": [
           "#636efa",
           "#EF553B",
           "#00cc96",
           "#ab63fa",
           "#FFA15A",
           "#19d3f3",
           "#FF6692",
           "#B6E880",
           "#FF97FF",
           "#FECB52"
          ],
          "font": {
           "color": "#2a3f5f"
          },
          "geo": {
           "bgcolor": "white",
           "lakecolor": "white",
           "landcolor": "#E5ECF6",
           "showlakes": true,
           "showland": true,
           "subunitcolor": "white"
          },
          "hoverlabel": {
           "align": "left"
          },
          "hovermode": "closest",
          "mapbox": {
           "style": "light"
          },
          "paper_bgcolor": "white",
          "plot_bgcolor": "#E5ECF6",
          "polar": {
           "angularaxis": {
            "gridcolor": "white",
            "linecolor": "white",
            "ticks": ""
           },
           "bgcolor": "#E5ECF6",
           "radialaxis": {
            "gridcolor": "white",
            "linecolor": "white",
            "ticks": ""
           }
          },
          "scene": {
           "xaxis": {
            "backgroundcolor": "#E5ECF6",
            "gridcolor": "white",
            "gridwidth": 2,
            "linecolor": "white",
            "showbackground": true,
            "ticks": "",
            "zerolinecolor": "white"
           },
           "yaxis": {
            "backgroundcolor": "#E5ECF6",
            "gridcolor": "white",
            "gridwidth": 2,
            "linecolor": "white",
            "showbackground": true,
            "ticks": "",
            "zerolinecolor": "white"
           },
           "zaxis": {
            "backgroundcolor": "#E5ECF6",
            "gridcolor": "white",
            "gridwidth": 2,
            "linecolor": "white",
            "showbackground": true,
            "ticks": "",
            "zerolinecolor": "white"
           }
          },
          "shapedefaults": {
           "line": {
            "color": "#2a3f5f"
           }
          },
          "ternary": {
           "aaxis": {
            "gridcolor": "white",
            "linecolor": "white",
            "ticks": ""
           },
           "baxis": {
            "gridcolor": "white",
            "linecolor": "white",
            "ticks": ""
           },
           "bgcolor": "#E5ECF6",
           "caxis": {
            "gridcolor": "white",
            "linecolor": "white",
            "ticks": ""
           }
          },
          "title": {
           "x": 0.05
          },
          "xaxis": {
           "automargin": true,
           "gridcolor": "white",
           "linecolor": "white",
           "ticks": "",
           "title": {
            "standoff": 15
           },
           "zerolinecolor": "white",
           "zerolinewidth": 2
          },
          "yaxis": {
           "automargin": true,
           "gridcolor": "white",
           "linecolor": "white",
           "ticks": "",
           "title": {
            "standoff": 15
           },
           "zerolinecolor": "white",
           "zerolinewidth": 2
          }
         }
        },
        "title": {
         "text": "USA map"
        }
       }
      }
     },
     "metadata": {},
     "output_type": "display_data"
    }
   ],
   "source": [
    "# Create a world map (doesn't display on github but works on VScode)\n",
    "#Problem to show the countries from the UK on the map\n",
    "fig_world = px.choropleth(new, locations='location',\n",
    "                          locationmode='country names', \n",
    "                          color='zscore_common', \n",
    "                          hover_name='location', \n",
    "                          color_continuous_scale=px.colors.sequential.Plasma,\n",
    "                          scope='world',\n",
    "                          projection = 'orthographic') \n",
    "\n",
    "fig_world.update_layout(title_text='World Map', coloraxis_colorbar=dict(title='Standardize ratings for each location'))\n",
    "fig_world.show()\n",
    "\n",
    "# Create a USA map\n",
    "fig_usa = px.choropleth(new, locations='location',\n",
    "                         locationmode='USA-states', \n",
    "                         color='zscore_common', \n",
    "                         hover_name='location', \n",
    "                         color_continuous_scale=px.colors.sequential.Plasma,\n",
    "                         scope='usa') \n",
    "\n",
    "fig_usa.update_layout(title_text='USA map',coloraxis_colorbar=dict(title='Standardize ratings for each location')) \n",
    "fig_usa.show()"
   ]
  },
  {
   "cell_type": "markdown",
   "metadata": {},
   "source": [
    "### Compute the overall ranking"
   ]
  },
  {
   "cell_type": "markdown",
   "metadata": {},
   "source": [
    "This part is not finish yet, because we didn't build all the rankings (so we don't know how many weights we will need). But the idea is to ask couple questions to the customers in order to determine which rankings are important for them. Then, with respect to the answers given, we assign some weights in order to emphasize the importance of some rankings compare to the others. For the moment, we implement the function with 5 weights."
   ]
  },
  {
   "cell_type": "code",
   "execution_count": 34,
   "metadata": {},
   "outputs": [],
   "source": [
    "#Compute the overall ranking based on the previous rankings (assume 10 rankings)\n",
    "def overall_ranking(w1, w2, w3, w4, w5) :\n",
    "    '''\n",
    "    Plot the overall ranking based on the previous rankings and their respective weights, given by the customer. \n",
    "    The weights must be between 0 and 1 and must sum to 1.\n",
    "\n",
    "    Args :\n",
    "        w1 : weight of the ranking 1\n",
    "        w2 : weight of the ranking 2\n",
    "        w3 : weight of the ranking 3\n",
    "        w4 : weight of the ranking 4\n",
    "        w5 : weight of the ranking 5 \n",
    "    '''\n",
    "    # Add the point for each ranking \n",
    "    df_density_top10 = pd.DataFrame({'location': top_ten_density_location, 'score' : [10,9,8,7,6,5,4,3,2,1]})\n",
    "    df_bestratings_top10 = pd.DataFrame({'location': top_ten_best_only_location, 'score' : [10,9,8,7,6,5,4,3,2,1]})\n",
    "    df_worstratings_top10 = pd.DataFrame({'location': top_ten_worst_only_location, 'score' : [10,9,8,7,6,5,4,3,2,1]})  \n",
    "    df_strongest_abv_top10 = pd.DataFrame({'location': top_ten_abv_only_location, 'score' : [10,9,8,7,6,5,4,3,2,1]})\n",
    "    df_softest_abv_top10 = pd.DataFrame({'location': top_ten_abv_only_location, 'score' : [10,9,8,7,6,5,4,3,2,1]})\n",
    "\n",
    "    # Apply the weights to the score\n",
    "    df_density_top10['score'] = df_density_top10['score'] * w1\n",
    "    df_bestratings_top10['score'] = df_bestratings_top10['score'] * w2\n",
    "    df_worstratings_top10['score'] = df_worstratings_top10['score'] * w3\n",
    "    df_strongest_abv_top10['score'] = df_strongest_abv_top10['score'] * w4\n",
    "    df_softest_abv_top10['score'] = df_softest_abv_top10['score'] * w5\n",
    "\n",
    "    # Merge all the dataframes\n",
    "    df_overall = pd.merge(df_density_top10, df_bestratings_top10, on='location', how='outer')\n",
    "    df_overall = pd.merge(df_overall, df_worstratings_top10, on='location', how='outer')\n",
    "    df_overall = pd.merge(df_overall, df_strongest_abv_top10, on='location', how='outer')\n",
    "    df_overall = pd.merge(df_overall, df_softest_abv_top10, on='location', how='outer')\n",
    "\n",
    "\n",
    "### TO DO : \n",
    "# change the number in Args (docstring) by the name of the rankings (ex : % of alcohol, density of breweries, etc)\n",
    "# plot the overall ranking\n",
    "# return a dataframe with the overall ranking location (only location, don't need the score anymore)\n"
   ]
  },
  {
   "cell_type": "markdown",
   "metadata": {},
   "source": [
    "### Find additional useful travel informations: "
   ]
  },
  {
   "cell_type": "markdown",
   "metadata": {},
   "source": [
    "TO DO (for Milestone P3): \n",
    "After having the overall ranking, we need to find the best breweries (the ones with the best beers) in each location and also the best users (the ones with the most ratings)"
   ]
  }
 ],
 "metadata": {
  "kernelspec": {
   "display_name": "base",
   "language": "python",
   "name": "python3"
  },
  "language_info": {
   "codemirror_mode": {
    "name": "ipython",
    "version": 3
   },
   "file_extension": ".py",
   "mimetype": "text/x-python",
   "name": "python",
   "nbconvert_exporter": "python",
   "pygments_lexer": "ipython3",
   "version": "3.8.8"
  }
 },
 "nbformat": 4,
 "nbformat_minor": 2
}
